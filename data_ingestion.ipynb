{
 "cells": [
  {
   "cell_type": "code",
   "execution_count": 1,
   "metadata": {},
   "outputs": [],
   "source": [
    "import pandas as pd\n",
    "\n",
    "# Load the Parquet file into a DataFrame\n",
    "# df = pd.read_json('data/new_weaviate_input.json')\n",
    "# df.shape\n",
    "# df = pd.read_pa\n",
    "\n",
    "# df.to_pickle('data/preprocessed_data.pkl')\n",
    "# Display the first few rows of the DataFrame\n",
    "# print(df.head(3))\n"
   ]
  },
  {
   "cell_type": "code",
   "execution_count": 2,
   "metadata": {},
   "outputs": [
    {
     "data": {
      "text/html": [
       "<div>\n",
       "<style scoped>\n",
       "    .dataframe tbody tr th:only-of-type {\n",
       "        vertical-align: middle;\n",
       "    }\n",
       "\n",
       "    .dataframe tbody tr th {\n",
       "        vertical-align: top;\n",
       "    }\n",
       "\n",
       "    .dataframe thead th {\n",
       "        text-align: right;\n",
       "    }\n",
       "</style>\n",
       "<table border=\"1\" class=\"dataframe\">\n",
       "  <thead>\n",
       "    <tr style=\"text-align: right;\">\n",
       "      <th></th>\n",
       "      <th>id</th>\n",
       "      <th>question</th>\n",
       "      <th>answer</th>\n",
       "    </tr>\n",
       "  </thead>\n",
       "  <tbody>\n",
       "    <tr>\n",
       "      <th>0</th>\n",
       "      <td>26079c0b-350f-43dc-b16f-17267ef537ad</td>\n",
       "      <td>im feeling really anxious lately and i dont know why</td>\n",
       "      <td>its common to feel anxious at times and there can be many reasons for it have there been any recent changes or stressors in your life that may be contributing to your anxiety lets work together to identify any triggers and develop coping strategies to manage your anxiety</td>\n",
       "    </tr>\n",
       "    <tr>\n",
       "      <th>1</th>\n",
       "      <td>54f32a36-957a-4cba-81d8-45b4a2016d19</td>\n",
       "      <td>i think my partner may be cheating on me what should i do</td>\n",
       "      <td>its understandable to feel worried and suspicious in this situation have you talked to your partner about your concerns its important to communicate openly and honestly with them if youre still feeling uncertain we can work on developing a plan to address the situation in a healthy and constructive way</td>\n",
       "    </tr>\n",
       "  </tbody>\n",
       "</table>\n",
       "</div>"
      ],
      "text/plain": [
       "                                     id  \\\n",
       "0  26079c0b-350f-43dc-b16f-17267ef537ad   \n",
       "1  54f32a36-957a-4cba-81d8-45b4a2016d19   \n",
       "\n",
       "                                                    question  \\\n",
       "0       im feeling really anxious lately and i dont know why   \n",
       "1  i think my partner may be cheating on me what should i do   \n",
       "\n",
       "                                                                                                                                                                                                                                                                                                            answer  \n",
       "0                                  its common to feel anxious at times and there can be many reasons for it have there been any recent changes or stressors in your life that may be contributing to your anxiety lets work together to identify any triggers and develop coping strategies to manage your anxiety  \n",
       "1  its understandable to feel worried and suspicious in this situation have you talked to your partner about your concerns its important to communicate openly and honestly with them if youre still feeling uncertain we can work on developing a plan to address the situation in a healthy and constructive way  "
      ]
     },
     "execution_count": 2,
     "metadata": {},
     "output_type": "execute_result"
    }
   ],
   "source": [
    "pd.set_option('display.max_rows', None)\n",
    "pd.set_option('display.max_colwidth', None) \n",
    "\n",
    "df = pd.read_parquet('data/men_hea.parquet')\n",
    "df.head(2)"
   ]
  },
  {
   "cell_type": "code",
   "execution_count": 2,
   "metadata": {},
   "outputs": [
    {
     "data": {
      "text/html": [
       "<div>\n",
       "<style scoped>\n",
       "    .dataframe tbody tr th:only-of-type {\n",
       "        vertical-align: middle;\n",
       "    }\n",
       "\n",
       "    .dataframe tbody tr th {\n",
       "        vertical-align: top;\n",
       "    }\n",
       "\n",
       "    .dataframe thead th {\n",
       "        text-align: right;\n",
       "    }\n",
       "</style>\n",
       "<table border=\"1\" class=\"dataframe\">\n",
       "  <thead>\n",
       "    <tr style=\"text-align: right;\">\n",
       "      <th></th>\n",
       "      <th>instruction</th>\n",
       "      <th>output</th>\n",
       "      <th>input</th>\n",
       "    </tr>\n",
       "  </thead>\n",
       "  <tbody>\n",
       "    <tr>\n",
       "      <th>0</th>\n",
       "      <td>If you are a licensed psychologist, please pro...</td>\n",
       "      <td>It's common to feel anxious at times, and ther...</td>\n",
       "      <td>I'm feeling really anxious lately and I don't ...</td>\n",
       "    </tr>\n",
       "    <tr>\n",
       "      <th>1</th>\n",
       "      <td>If you are a licensed psychologist, please pro...</td>\n",
       "      <td>It's understandable to feel worried and suspic...</td>\n",
       "      <td>I think my partner may be cheating on me. What...</td>\n",
       "    </tr>\n",
       "    <tr>\n",
       "      <th>2</th>\n",
       "      <td>If you are a licensed psychologist, please pro...</td>\n",
       "      <td>It sounds like you're going through a difficul...</td>\n",
       "      <td>I'm feeling really overwhelmed with work and s...</td>\n",
       "    </tr>\n",
       "    <tr>\n",
       "      <th>3</th>\n",
       "      <td>If you are a licensed psychologist, please pro...</td>\n",
       "      <td>It's important to talk to your doctor about an...</td>\n",
       "      <td>I'm having trouble sleeping and I'm constantly...</td>\n",
       "    </tr>\n",
       "    <tr>\n",
       "      <th>4</th>\n",
       "      <td>If you are a licensed psychologist, please pro...</td>\n",
       "      <td>It's common to feel anxious without knowing th...</td>\n",
       "      <td>I've been feeling really anxious lately, and I...</td>\n",
       "    </tr>\n",
       "  </tbody>\n",
       "</table>\n",
       "</div>"
      ],
      "text/plain": [
       "                                         instruction  \\\n",
       "0  If you are a licensed psychologist, please pro...   \n",
       "1  If you are a licensed psychologist, please pro...   \n",
       "2  If you are a licensed psychologist, please pro...   \n",
       "3  If you are a licensed psychologist, please pro...   \n",
       "4  If you are a licensed psychologist, please pro...   \n",
       "\n",
       "                                              output  \\\n",
       "0  It's common to feel anxious at times, and ther...   \n",
       "1  It's understandable to feel worried and suspic...   \n",
       "2  It sounds like you're going through a difficul...   \n",
       "3  It's important to talk to your doctor about an...   \n",
       "4  It's common to feel anxious without knowing th...   \n",
       "\n",
       "                                               input  \n",
       "0  I'm feeling really anxious lately and I don't ...  \n",
       "1  I think my partner may be cheating on me. What...  \n",
       "2  I'm feeling really overwhelmed with work and s...  \n",
       "3  I'm having trouble sleeping and I'm constantly...  \n",
       "4  I've been feeling really anxious lately, and I...  "
      ]
     },
     "execution_count": 2,
     "metadata": {},
     "output_type": "execute_result"
    }
   ],
   "source": [
    "df = pd.read_parquet('data/hea.parquet')\n",
    "df.head()"
   ]
  },
  {
   "cell_type": "code",
   "execution_count": 3,
   "metadata": {},
   "outputs": [],
   "source": [
    "# import pandas as pd\n",
    "import re\n",
    "# import nltk\n",
    "# from nltk.corpus import stopwords\n",
    "# from nltk.tokenize import word_tokenize\n",
    "# from nltk.stem import WordNetLemmatizer\n",
    "\n",
    "# # Download stopwords and punkt tokenizer\n",
    "# nltk.download('stopwords')\n",
    "# nltk.download('punkt')\n",
    "# nltk.download('wordnet')\n",
    "\n",
    "# Load the data\n",
    "\n",
    "# 1. View all rows\n",
    "pd.set_option('display.max_rows', None)"
   ]
  },
  {
   "cell_type": "code",
   "execution_count": 4,
   "metadata": {},
   "outputs": [
    {
     "name": "stdout",
     "output_type": "stream",
     "text": [
      "\n",
      "Number of duplicate rows: 760\n"
     ]
    }
   ],
   "source": [
    "# Count the number of duplicates\n",
    "num_duplicates = df.duplicated().sum()\n",
    "print(f\"\\nNumber of duplicate rows: {num_duplicates}\")\n",
    "\n",
    "# # Optional: Identify duplicates based on specific columns\n",
    "# duplicate_specific_cols = df[df.duplicated(subset=['input', 'output'])]\n",
    "\n",
    "# # View duplicates based on specific columns\n",
    "# print(\"\\nDuplicate Rows based on 'input' and 'output' columns:\")\n",
    "# print(duplicate_specific_cols)"
   ]
  },
  {
   "cell_type": "code",
   "execution_count": 5,
   "metadata": {},
   "outputs": [
    {
     "data": {
      "text/plain": [
       "(13358, 3)"
      ]
     },
     "execution_count": 5,
     "metadata": {},
     "output_type": "execute_result"
    }
   ],
   "source": [
    "df.shape"
   ]
  },
  {
   "cell_type": "code",
   "execution_count": 6,
   "metadata": {},
   "outputs": [],
   "source": [
    "# Remove duplicates\n",
    "df = df.drop_duplicates()"
   ]
  },
  {
   "cell_type": "code",
   "execution_count": 7,
   "metadata": {},
   "outputs": [
    {
     "data": {
      "text/plain": [
       "(12598, 3)"
      ]
     },
     "execution_count": 7,
     "metadata": {},
     "output_type": "execute_result"
    }
   ],
   "source": [
    "df.shape"
   ]
  },
  {
   "cell_type": "code",
   "execution_count": 8,
   "metadata": {},
   "outputs": [
    {
     "data": {
      "text/html": [
       "<div>\n",
       "<style scoped>\n",
       "    .dataframe tbody tr th:only-of-type {\n",
       "        vertical-align: middle;\n",
       "    }\n",
       "\n",
       "    .dataframe tbody tr th {\n",
       "        vertical-align: top;\n",
       "    }\n",
       "\n",
       "    .dataframe thead th {\n",
       "        text-align: right;\n",
       "    }\n",
       "</style>\n",
       "<table border=\"1\" class=\"dataframe\">\n",
       "  <thead>\n",
       "    <tr style=\"text-align: right;\">\n",
       "      <th></th>\n",
       "      <th>instruction</th>\n",
       "      <th>output</th>\n",
       "      <th>input</th>\n",
       "    </tr>\n",
       "  </thead>\n",
       "  <tbody>\n",
       "    <tr>\n",
       "      <th>9855</th>\n",
       "      <td>If you are a licensed psychologist, please provide this patient with a helpful response to their concern.</td>\n",
       "      <td>It must be really difficult to experience what your going through right now.  It takes a lot of courage to reach out. It sounds like you want to get better, but perhaps need some help to get over the hump.  Many of the symptoms you have described are consistent with a person who is dealing with depression.   Depression is a treatable condition.  Typically, if these symptoms have persisted for more than two weeks, then it is a good idea to seek professional help.   Someone who is trained in dealing with depression.  Initially, a comprehensive assessment would be completed to rule out any other causes for your symptoms and to determine the exact nature of your presenting concern.  Then, in collaboration with one another, a tailored treatment plan would be developed, focusing on how to best help you reach your goals.  The good news is that their is hope for getting better! You don;t have to do it alone.  Allow me to be your ally in healing.</td>\n",
       "      <td>I'm going through some things with my feelings and myself. I barely sleep and I do nothing but think about how I'm worthless and how I shouldn't be here.\\n   I've never tried or contemplated suicide. I've always wanted to fix my issues, but I never get around to it.\\n   How can I change my feeling of being worthless to everyone?</td>\n",
       "    </tr>\n",
       "    <tr>\n",
       "      <th>291</th>\n",
       "      <td>If you are a licensed psychologist, please provide this patient with a helpful response to their concern.</td>\n",
       "      <td>Maintaining a healthy work-life balance is important for overall wellbeing. Let's talk about your work and personal life, explore strategies that can help you achieve a better balance, and work together to develop a plan for balancing work and personal responsibilities.</td>\n",
       "      <td>I'm having trouble with my work-life balance and I don't know how to improve it.</td>\n",
       "    </tr>\n",
       "    <tr>\n",
       "      <th>6387</th>\n",
       "      <td>If you are a licensed psychologist, please provide this patient with a helpful response to their concern.</td>\n",
       "      <td>It's great that you're seeking help for your eating habits. Let's discuss healthy eating habits and therapy options to address any underlying issues.</td>\n",
       "      <td>I'm having trouble with my eating habits. What can I do?</td>\n",
       "    </tr>\n",
       "    <tr>\n",
       "      <th>7597</th>\n",
       "      <td>If you are a licensed psychologist, please provide this patient with a helpful response to their concern.</td>\n",
       "      <td>Family conflicts can be challenging, but it's important to address them in a consistent and positive way. Let's explore the underlying issues that may be contributing to your conflicts, and work on developing effective communication skills and healthy conflict resolution strategies to improve your relationships with your family.</td>\n",
       "      <td>I'm having trouble with my family. We keep arguing and I feel like we're stuck in a negative cycle.</td>\n",
       "    </tr>\n",
       "    <tr>\n",
       "      <th>8350</th>\n",
       "      <td>If you are a licensed psychologist, please provide this patient with a helpful response to their concern.</td>\n",
       "      <td>Trust is an important component of any healthy relationship. Let's work on exploring any underlying issues or past experiences that may be contributing to your trust issues. We can also work on developing effective communication skills and establishing healthy boundaries to help build trust in your relationships.</td>\n",
       "      <td>I'm having trouble with trust issues in my relationships.</td>\n",
       "    </tr>\n",
       "    <tr>\n",
       "      <th>1507</th>\n",
       "      <td>If you are a licensed psychologist, please provide this patient with a helpful response to their concern.</td>\n",
       "      <td>Stress is a normal part of life, but it's important to find healthy ways to manage it. Let's explore some relaxation techniques, such as deep breathing or meditation, to help you de-stress.</td>\n",
       "      <td>I'm feeling really stressed out lately and I don't know how to relax.</td>\n",
       "    </tr>\n",
       "    <tr>\n",
       "      <th>1365</th>\n",
       "      <td>If you are a licensed psychologist, please provide this patient with a helpful response to their concern.</td>\n",
       "      <td>Relationships can be difficult, and it's important to address any issues before they become bigger problems. Let's talk about what's going on and work on communication and problem-solving skills.</td>\n",
       "      <td>I'm having trouble in my relationship.</td>\n",
       "    </tr>\n",
       "    <tr>\n",
       "      <th>4905</th>\n",
       "      <td>If you are a licensed psychologist, please provide this patient with a helpful response to their concern.</td>\n",
       "      <td>It sounds like you're dealing with a lot of stress at work. Try to prioritize your tasks and break them down into manageable steps. You might also consider talking to your supervisor or HR about ways to improve your workload, such as delegating tasks or adjusting deadlines.</td>\n",
       "      <td>I've been feeling really overwhelmed at work lately and don't know how to manage my workload. What should I do?</td>\n",
       "    </tr>\n",
       "    <tr>\n",
       "      <th>7824</th>\n",
       "      <td>If you are a licensed psychologist, please provide this patient with a helpful response to their concern.</td>\n",
       "      <td>It's common to struggle with feelings of inadequacy and self-doubt. Let's work together to explore some strategies to overcome these negative thoughts and improve your self-esteem. Have you considered practicing self-compassion or engaging in activities that make you feel good about yourself?</td>\n",
       "      <td>I feel like I'm not good enough and I'm constantly comparing myself to others.</td>\n",
       "    </tr>\n",
       "    <tr>\n",
       "      <th>4867</th>\n",
       "      <td>If you are a licensed psychologist, please provide this patient with a helpful response to their concern.</td>\n",
       "      <td>It's important to find healthy ways to manage stress, such as exercise, relaxation techniques, or taking breaks during the workday. We can also explore potential changes to your work situation or discuss coping strategies for dealing with difficult coworkers or tasks.</td>\n",
       "      <td>I don't know how to deal with the stress of my job.</td>\n",
       "    </tr>\n",
       "  </tbody>\n",
       "</table>\n",
       "</div>"
      ],
      "text/plain": [
       "                                                                                                    instruction  \\\n",
       "9855  If you are a licensed psychologist, please provide this patient with a helpful response to their concern.   \n",
       "291   If you are a licensed psychologist, please provide this patient with a helpful response to their concern.   \n",
       "6387  If you are a licensed psychologist, please provide this patient with a helpful response to their concern.   \n",
       "7597  If you are a licensed psychologist, please provide this patient with a helpful response to their concern.   \n",
       "8350  If you are a licensed psychologist, please provide this patient with a helpful response to their concern.   \n",
       "1507  If you are a licensed psychologist, please provide this patient with a helpful response to their concern.   \n",
       "1365  If you are a licensed psychologist, please provide this patient with a helpful response to their concern.   \n",
       "4905  If you are a licensed psychologist, please provide this patient with a helpful response to their concern.   \n",
       "7824  If you are a licensed psychologist, please provide this patient with a helpful response to their concern.   \n",
       "4867  If you are a licensed psychologist, please provide this patient with a helpful response to their concern.   \n",
       "\n",
       "                                                                                                                                                                                                                                                                                                                                                                                                                                                                                                                                                                                                                                                                                                                                                                                                                                                                                                                                                                                       output  \\\n",
       "9855  It must be really difficult to experience what your going through right now.  It takes a lot of courage to reach out. It sounds like you want to get better, but perhaps need some help to get over the hump.  Many of the symptoms you have described are consistent with a person who is dealing with depression.   Depression is a treatable condition.  Typically, if these symptoms have persisted for more than two weeks, then it is a good idea to seek professional help.   Someone who is trained in dealing with depression.  Initially, a comprehensive assessment would be completed to rule out any other causes for your symptoms and to determine the exact nature of your presenting concern.  Then, in collaboration with one another, a tailored treatment plan would be developed, focusing on how to best help you reach your goals.  The good news is that their is hope for getting better! You don;t have to do it alone.  Allow me to be your ally in healing.   \n",
       "291                                                                                                                                                                                                                                                                                                                                                                                                                                                                                                                                                                                                                                                                                                            Maintaining a healthy work-life balance is important for overall wellbeing. Let's talk about your work and personal life, explore strategies that can help you achieve a better balance, and work together to develop a plan for balancing work and personal responsibilities.   \n",
       "6387                                                                                                                                                                                                                                                                                                                                                                                                                                                                                                                                                                                                                                                                                                                                                                                                                                    It's great that you're seeking help for your eating habits. Let's discuss healthy eating habits and therapy options to address any underlying issues.   \n",
       "7597                                                                                                                                                                                                                                                                                                                                                                                                                                                                                                                                                                                                                                               Family conflicts can be challenging, but it's important to address them in a consistent and positive way. Let's explore the underlying issues that may be contributing to your conflicts, and work on developing effective communication skills and healthy conflict resolution strategies to improve your relationships with your family.   \n",
       "8350                                                                                                                                                                                                                                                                                                                                                                                                                                                                                                                                                                                                                                                               Trust is an important component of any healthy relationship. Let's work on exploring any underlying issues or past experiences that may be contributing to your trust issues. We can also work on developing effective communication skills and establishing healthy boundaries to help build trust in your relationships.   \n",
       "1507                                                                                                                                                                                                                                                                                                                                                                                                                                                                                                                                                                                                                                                                                                                                                                                            Stress is a normal part of life, but it's important to find healthy ways to manage it. Let's explore some relaxation techniques, such as deep breathing or meditation, to help you de-stress.   \n",
       "1365                                                                                                                                                                                                                                                                                                                                                                                                                                                                                                                                                                                                                                                                                                                                                                                      Relationships can be difficult, and it's important to address any issues before they become bigger problems. Let's talk about what's going on and work on communication and problem-solving skills.   \n",
       "4905                                                                                                                                                                                                                                                                                                                                                                                                                                                                                                                                                                                                                                                                                                       It sounds like you're dealing with a lot of stress at work. Try to prioritize your tasks and break them down into manageable steps. You might also consider talking to your supervisor or HR about ways to improve your workload, such as delegating tasks or adjusting deadlines.   \n",
       "7824                                                                                                                                                                                                                                                                                                                                                                                                                                                                                                                                                                                                                                                                                    It's common to struggle with feelings of inadequacy and self-doubt. Let's work together to explore some strategies to overcome these negative thoughts and improve your self-esteem. Have you considered practicing self-compassion or engaging in activities that make you feel good about yourself?   \n",
       "4867                                                                                                                                                                                                                                                                                                                                                                                                                                                                                                                                                                                                                                                                                                             It's important to find healthy ways to manage stress, such as exercise, relaxation techniques, or taking breaks during the workday. We can also explore potential changes to your work situation or discuss coping strategies for dealing with difficult coworkers or tasks.   \n",
       "\n",
       "                                                                                                                                                                                                                                                                                                                                           input  \n",
       "9855  I'm going through some things with my feelings and myself. I barely sleep and I do nothing but think about how I'm worthless and how I shouldn't be here.\\n   I've never tried or contemplated suicide. I've always wanted to fix my issues, but I never get around to it.\\n   How can I change my feeling of being worthless to everyone?  \n",
       "291                                                                                                                                                                                                                                                             I'm having trouble with my work-life balance and I don't know how to improve it.  \n",
       "6387                                                                                                                                                                                                                                                                                    I'm having trouble with my eating habits. What can I do?  \n",
       "7597                                                                                                                                                                                                                                         I'm having trouble with my family. We keep arguing and I feel like we're stuck in a negative cycle.  \n",
       "8350                                                                                                                                                                                                                                                                                   I'm having trouble with trust issues in my relationships.  \n",
       "1507                                                                                                                                                                                                                                                                       I'm feeling really stressed out lately and I don't know how to relax.  \n",
       "1365                                                                                                                                                                                                                                                                                                      I'm having trouble in my relationship.  \n",
       "4905                                                                                                                                                                                                                             I've been feeling really overwhelmed at work lately and don't know how to manage my workload. What should I do?  \n",
       "7824                                                                                                                                                                                                                                                              I feel like I'm not good enough and I'm constantly comparing myself to others.  \n",
       "4867                                                                                                                                                                                                                                                                                         I don't know how to deal with the stress of my job.  "
      ]
     },
     "execution_count": 8,
     "metadata": {},
     "output_type": "execute_result"
    }
   ],
   "source": [
    "pd.set_option('display.max_colwidth', None)  # Display full column width\n",
    "\n",
    "df.sample(10)"
   ]
  },
  {
   "cell_type": "code",
   "execution_count": 9,
   "metadata": {},
   "outputs": [],
   "source": [
    "# 3. Text Cleaning Function\n",
    "def clean_text(text):\n",
    "    text = text.lower()  # Convert to lowercase\n",
    "    text = re.sub(r'\\s+', ' ', text)  # Remove extra spaces\n",
    "    text = re.sub(r'[^a-zA-Z\\s]', '', text)  # Remove special characters\n",
    "    return text\n",
    "\n",
    "# Apply text cleaning\n",
    "df1 = df.copy()\n",
    "df['input'] = df['input'].apply(clean_text)\n",
    "df['output'] = df['output'].apply(clean_text)\n",
    "\n"
   ]
  },
  {
   "cell_type": "code",
   "execution_count": 10,
   "metadata": {},
   "outputs": [
    {
     "data": {
      "text/plain": [
       "(12598, 3)"
      ]
     },
     "execution_count": 10,
     "metadata": {},
     "output_type": "execute_result"
    }
   ],
   "source": [
    "df.shape"
   ]
  },
  {
   "cell_type": "code",
   "execution_count": 14,
   "metadata": {},
   "outputs": [],
   "source": [
    "from textblob import TextBlob\n",
    "\n",
    "def correct_spelling(text):\n",
    "    return str(TextBlob(text).correct())\n",
    "\n",
    "df['input'] = df['input'].apply(correct_spelling)\n",
    "df['output'] = df['output'].apply(correct_spelling)\n"
   ]
  },
  {
   "cell_type": "code",
   "execution_count": null,
   "metadata": {},
   "outputs": [],
   "source": [
    "from contractions import fix\n",
    "\n",
    "def expand_contractions(text):\n",
    "    return fix(text)\n",
    "\n",
    "df['input'] = df['input'].apply(expand_contractions)\n",
    "df['output'] = df['output'].apply(expand_contractions)\n"
   ]
  },
  {
   "cell_type": "code",
   "execution_count": null,
   "metadata": {},
   "outputs": [],
   "source": [
    "import uuid\n",
    "\n",
    "def add_ids_to_dataframe(df):\n",
    "    # Generate a unique ID for each row and add it as a new column\n",
    "    df['id'] = [uuid.uuid4().hex[:10] for _ in range(len(df))]\n",
    "    \n",
    "    # Rename columns if needed\n",
    "    df.rename(columns={'input': 'question', 'output': 'answer'}, inplace=True)\n",
    "\n",
    "    return df\n",
    "\n",
    "# Apply the ID assignment function\n",
    "df_with_ids = add_ids_to_dataframe(df)\n",
    "\n",
    "# Save the DataFrame with IDs\n",
    "df_with_ids.to_parquet('data/cleaned_with_ids.parquet', index=False)\n"
   ]
  },
  {
   "cell_type": "code",
   "execution_count": 13,
   "metadata": {},
   "outputs": [
    {
     "data": {
      "text/html": [
       "<div>\n",
       "<style scoped>\n",
       "    .dataframe tbody tr th:only-of-type {\n",
       "        vertical-align: middle;\n",
       "    }\n",
       "\n",
       "    .dataframe tbody tr th {\n",
       "        vertical-align: top;\n",
       "    }\n",
       "\n",
       "    .dataframe thead th {\n",
       "        text-align: right;\n",
       "    }\n",
       "</style>\n",
       "<table border=\"1\" class=\"dataframe\">\n",
       "  <thead>\n",
       "    <tr style=\"text-align: right;\">\n",
       "      <th></th>\n",
       "      <th>ID</th>\n",
       "      <th>Context</th>\n",
       "      <th>Response</th>\n",
       "    </tr>\n",
       "  </thead>\n",
       "  <tbody>\n",
       "    <tr>\n",
       "      <th>0</th>\n",
       "      <td>30916995b7</td>\n",
       "      <td>I'm going through some things with my feelings...</td>\n",
       "      <td>If everyone thinks you're worthless, then mayb...</td>\n",
       "    </tr>\n",
       "    <tr>\n",
       "      <th>1</th>\n",
       "      <td>8cd206d284</td>\n",
       "      <td>I'm going through some things with my feelings...</td>\n",
       "      <td>Hello, and thank you for your question and see...</td>\n",
       "    </tr>\n",
       "    <tr>\n",
       "      <th>2</th>\n",
       "      <td>9a7102ef25</td>\n",
       "      <td>I'm going through some things with my feelings...</td>\n",
       "      <td>First thing I'd suggest is getting the sleep y...</td>\n",
       "    </tr>\n",
       "    <tr>\n",
       "      <th>3</th>\n",
       "      <td>ec62b091bc</td>\n",
       "      <td>I'm going through some things with my feelings...</td>\n",
       "      <td>Therapy is essential for those that are feelin...</td>\n",
       "    </tr>\n",
       "    <tr>\n",
       "      <th>4</th>\n",
       "      <td>84926b95d3</td>\n",
       "      <td>I'm going through some things with my feelings...</td>\n",
       "      <td>I first want to let you know that you are not ...</td>\n",
       "    </tr>\n",
       "  </tbody>\n",
       "</table>\n",
       "</div>"
      ],
      "text/plain": [
       "           ID                                            Context  \\\n",
       "0  30916995b7  I'm going through some things with my feelings...   \n",
       "1  8cd206d284  I'm going through some things with my feelings...   \n",
       "2  9a7102ef25  I'm going through some things with my feelings...   \n",
       "3  ec62b091bc  I'm going through some things with my feelings...   \n",
       "4  84926b95d3  I'm going through some things with my feelings...   \n",
       "\n",
       "                                            Response  \n",
       "0  If everyone thinks you're worthless, then mayb...  \n",
       "1  Hello, and thank you for your question and see...  \n",
       "2  First thing I'd suggest is getting the sleep y...  \n",
       "3  Therapy is essential for those that are feelin...  \n",
       "4  I first want to let you know that you are not ...  "
      ]
     },
     "execution_count": 13,
     "metadata": {},
     "output_type": "execute_result"
    }
   ],
   "source": [
    "import uuid\n",
    "\n",
    "def add_ids_to_original_data(original_df):\n",
    "    # Initialize a new list to store results with IDs\n",
    "    data_with_ids = []\n",
    "\n",
    "    # Iterate through the original DataFrame and assign unique IDs\n",
    "    for index, row in original_df.iterrows():\n",
    "        input = row['input']\n",
    "        output = row['output']\n",
    "        \n",
    "        # Generate a unique ID for this record\n",
    "        unique_id = uuid.uuid4().hex[:10]  # Generate a shorter unique ID\n",
    "        \n",
    "        # Add ID to the record\n",
    "        data_with_ids.append({\n",
    "            'ID': id,\n",
    "            'Context': input,\n",
    "            'Response': output\n",
    "        })\n",
    "\n",
    "    return data_with_ids\n",
    "\n",
    "# Apply the ID assignment function\n",
    "original_df_with_ids = add_ids_to_original_data(df)\n",
    "\n",
    "# Example output inspection\n",
    "original_df_with_ids.head()\n"
   ]
  },
  {
   "cell_type": "code",
   "execution_count": 2,
   "metadata": {},
   "outputs": [],
   "source": [
    "pd.set_option('display.max_columns', None)\n",
    "pd.set_option('display.max_rows', None)"
   ]
  },
  {
   "cell_type": "markdown",
   "metadata": {},
   "source": [
    "## Start Here"
   ]
  },
  {
   "cell_type": "code",
   "execution_count": 4,
   "metadata": {},
   "outputs": [],
   "source": [
    "df1 = df.copy()"
   ]
  },
  {
   "cell_type": "code",
   "execution_count": 6,
   "metadata": {},
   "outputs": [
    {
     "name": "stderr",
     "output_type": "stream",
     "text": [
      "C:\\Users\\USER\\AppData\\Local\\Temp\\ipykernel_20516\\1460053985.py:12: SettingWithCopyWarning: \n",
      "A value is trying to be set on a copy of a slice from a DataFrame.\n",
      "Try using .loc[row_indexer,col_indexer] = value instead\n",
      "\n",
      "See the caveats in the documentation: https://pandas.pydata.org/pandas-docs/stable/user_guide/indexing.html#returning-a-view-versus-a-copy\n",
      "  df_single_answers['Response'] = df_single_answers['Response'].str[0]\n"
     ]
    }
   ],
   "source": [
    "# Drop duplicate questions while keeping the first occurrence of each\n",
    "df_no_duplicates = df.drop_duplicates(subset=['Context', 'Response'])\n",
    "\n",
    "# Group by 'context' and aggregate 'response' into lists\n",
    "df_grouped = df_no_duplicates.groupby('Context')['Response'].agg(list).reset_index()\n",
    "\n",
    "# Separate contexts with multiple and single responses\n",
    "df_multiple_answers = df_grouped[df_grouped['Response'].map(len) > 1]\n",
    "df_single_answers = df_grouped[df_grouped['Response'].map(len) == 1]\n",
    "\n",
    "# Flatten the single responses lists\n",
    "df_single_answers['Response'] = df_single_answers['Response'].str[0]"
   ]
  },
  {
   "cell_type": "code",
   "execution_count": 7,
   "metadata": {},
   "outputs": [
    {
     "data": {
      "text/plain": [
       "(2752, 2)"
      ]
     },
     "execution_count": 7,
     "metadata": {},
     "output_type": "execute_result"
    }
   ],
   "source": [
    "df_no_duplicates.shape"
   ]
  },
  {
   "cell_type": "code",
   "execution_count": 8,
   "metadata": {},
   "outputs": [
    {
     "data": {
      "text/plain": [
       "(995, 2)"
      ]
     },
     "execution_count": 8,
     "metadata": {},
     "output_type": "execute_result"
    }
   ],
   "source": [
    "df_grouped.shape"
   ]
  },
  {
   "cell_type": "code",
   "execution_count": 9,
   "metadata": {},
   "outputs": [
    {
     "data": {
      "text/plain": [
       "(557, 2)"
      ]
     },
     "execution_count": 9,
     "metadata": {},
     "output_type": "execute_result"
    }
   ],
   "source": [
    "df_multiple_answers.shape"
   ]
  },
  {
   "cell_type": "code",
   "execution_count": 11,
   "metadata": {},
   "outputs": [
    {
     "data": {
      "text/plain": [
       "(438, 2)"
      ]
     },
     "execution_count": 11,
     "metadata": {},
     "output_type": "execute_result"
    }
   ],
   "source": [
    "df_single_answers.shape"
   ]
  },
  {
   "cell_type": "code",
   "execution_count": 12,
   "metadata": {},
   "outputs": [],
   "source": [
    "# Combine the DataFrames if needed\n",
    "df_processed = pd.concat([df_multiple_answers, df_single_answers], ignore_index=True)"
   ]
  },
  {
   "cell_type": "code",
   "execution_count": 13,
   "metadata": {},
   "outputs": [
    {
     "data": {
      "text/plain": [
       "(995, 2)"
      ]
     },
     "execution_count": 13,
     "metadata": {},
     "output_type": "execute_result"
    }
   ],
   "source": [
    "df_processed.shape"
   ]
  },
  {
   "cell_type": "code",
   "execution_count": 16,
   "metadata": {},
   "outputs": [
    {
     "ename": "TypeError",
     "evalue": "unhashable type: 'list'",
     "output_type": "error",
     "traceback": [
      "\u001b[1;31m---------------------------------------------------------------------------\u001b[0m",
      "\u001b[1;31mTypeError\u001b[0m                                 Traceback (most recent call last)",
      "Cell \u001b[1;32mIn[16], line 1\u001b[0m\n\u001b[1;32m----> 1\u001b[0m \u001b[43mdf_processed\u001b[49m\u001b[38;5;241;43m.\u001b[39;49m\u001b[43mnunique\u001b[49m\u001b[43m(\u001b[49m\u001b[43m)\u001b[49m\n",
      "File \u001b[1;32mc:\\Users\\USER\\.conda\\envs\\ai\\lib\\site-packages\\pandas\\core\\frame.py:11836\u001b[0m, in \u001b[0;36mDataFrame.nunique\u001b[1;34m(self, axis, dropna)\u001b[0m\n\u001b[0;32m  11798\u001b[0m \u001b[38;5;28;01mdef\u001b[39;00m \u001b[38;5;21mnunique\u001b[39m(\u001b[38;5;28mself\u001b[39m, axis: Axis \u001b[38;5;241m=\u001b[39m \u001b[38;5;241m0\u001b[39m, dropna: \u001b[38;5;28mbool\u001b[39m \u001b[38;5;241m=\u001b[39m \u001b[38;5;28;01mTrue\u001b[39;00m) \u001b[38;5;241m-\u001b[39m\u001b[38;5;241m>\u001b[39m Series:\n\u001b[0;32m  11799\u001b[0m \u001b[38;5;250m    \u001b[39m\u001b[38;5;124;03m\"\"\"\u001b[39;00m\n\u001b[0;32m  11800\u001b[0m \u001b[38;5;124;03m    Count number of distinct elements in specified axis.\u001b[39;00m\n\u001b[0;32m  11801\u001b[0m \n\u001b[1;32m   (...)\u001b[0m\n\u001b[0;32m  11834\u001b[0m \u001b[38;5;124;03m    dtype: int64\u001b[39;00m\n\u001b[0;32m  11835\u001b[0m \u001b[38;5;124;03m    \"\"\"\u001b[39;00m\n\u001b[1;32m> 11836\u001b[0m     \u001b[38;5;28;01mreturn\u001b[39;00m \u001b[38;5;28;43mself\u001b[39;49m\u001b[38;5;241;43m.\u001b[39;49m\u001b[43mapply\u001b[49m\u001b[43m(\u001b[49m\u001b[43mSeries\u001b[49m\u001b[38;5;241;43m.\u001b[39;49m\u001b[43mnunique\u001b[49m\u001b[43m,\u001b[49m\u001b[43m \u001b[49m\u001b[43maxis\u001b[49m\u001b[38;5;241;43m=\u001b[39;49m\u001b[43maxis\u001b[49m\u001b[43m,\u001b[49m\u001b[43m \u001b[49m\u001b[43mdropna\u001b[49m\u001b[38;5;241;43m=\u001b[39;49m\u001b[43mdropna\u001b[49m\u001b[43m)\u001b[49m\n",
      "File \u001b[1;32mc:\\Users\\USER\\.conda\\envs\\ai\\lib\\site-packages\\pandas\\core\\frame.py:10374\u001b[0m, in \u001b[0;36mDataFrame.apply\u001b[1;34m(self, func, axis, raw, result_type, args, by_row, engine, engine_kwargs, **kwargs)\u001b[0m\n\u001b[0;32m  10360\u001b[0m \u001b[38;5;28;01mfrom\u001b[39;00m \u001b[38;5;21;01mpandas\u001b[39;00m\u001b[38;5;21;01m.\u001b[39;00m\u001b[38;5;21;01mcore\u001b[39;00m\u001b[38;5;21;01m.\u001b[39;00m\u001b[38;5;21;01mapply\u001b[39;00m \u001b[38;5;28;01mimport\u001b[39;00m frame_apply\n\u001b[0;32m  10362\u001b[0m op \u001b[38;5;241m=\u001b[39m frame_apply(\n\u001b[0;32m  10363\u001b[0m     \u001b[38;5;28mself\u001b[39m,\n\u001b[0;32m  10364\u001b[0m     func\u001b[38;5;241m=\u001b[39mfunc,\n\u001b[1;32m   (...)\u001b[0m\n\u001b[0;32m  10372\u001b[0m     kwargs\u001b[38;5;241m=\u001b[39mkwargs,\n\u001b[0;32m  10373\u001b[0m )\n\u001b[1;32m> 10374\u001b[0m \u001b[38;5;28;01mreturn\u001b[39;00m \u001b[43mop\u001b[49m\u001b[38;5;241;43m.\u001b[39;49m\u001b[43mapply\u001b[49m\u001b[43m(\u001b[49m\u001b[43m)\u001b[49m\u001b[38;5;241m.\u001b[39m__finalize__(\u001b[38;5;28mself\u001b[39m, method\u001b[38;5;241m=\u001b[39m\u001b[38;5;124m\"\u001b[39m\u001b[38;5;124mapply\u001b[39m\u001b[38;5;124m\"\u001b[39m)\n",
      "File \u001b[1;32mc:\\Users\\USER\\.conda\\envs\\ai\\lib\\site-packages\\pandas\\core\\apply.py:916\u001b[0m, in \u001b[0;36mFrameApply.apply\u001b[1;34m(self)\u001b[0m\n\u001b[0;32m    913\u001b[0m \u001b[38;5;28;01melif\u001b[39;00m \u001b[38;5;28mself\u001b[39m\u001b[38;5;241m.\u001b[39mraw:\n\u001b[0;32m    914\u001b[0m     \u001b[38;5;28;01mreturn\u001b[39;00m \u001b[38;5;28mself\u001b[39m\u001b[38;5;241m.\u001b[39mapply_raw(engine\u001b[38;5;241m=\u001b[39m\u001b[38;5;28mself\u001b[39m\u001b[38;5;241m.\u001b[39mengine, engine_kwargs\u001b[38;5;241m=\u001b[39m\u001b[38;5;28mself\u001b[39m\u001b[38;5;241m.\u001b[39mengine_kwargs)\n\u001b[1;32m--> 916\u001b[0m \u001b[38;5;28;01mreturn\u001b[39;00m \u001b[38;5;28;43mself\u001b[39;49m\u001b[38;5;241;43m.\u001b[39;49m\u001b[43mapply_standard\u001b[49m\u001b[43m(\u001b[49m\u001b[43m)\u001b[49m\n",
      "File \u001b[1;32mc:\\Users\\USER\\.conda\\envs\\ai\\lib\\site-packages\\pandas\\core\\apply.py:1063\u001b[0m, in \u001b[0;36mFrameApply.apply_standard\u001b[1;34m(self)\u001b[0m\n\u001b[0;32m   1061\u001b[0m \u001b[38;5;28;01mdef\u001b[39;00m \u001b[38;5;21mapply_standard\u001b[39m(\u001b[38;5;28mself\u001b[39m):\n\u001b[0;32m   1062\u001b[0m     \u001b[38;5;28;01mif\u001b[39;00m \u001b[38;5;28mself\u001b[39m\u001b[38;5;241m.\u001b[39mengine \u001b[38;5;241m==\u001b[39m \u001b[38;5;124m\"\u001b[39m\u001b[38;5;124mpython\u001b[39m\u001b[38;5;124m\"\u001b[39m:\n\u001b[1;32m-> 1063\u001b[0m         results, res_index \u001b[38;5;241m=\u001b[39m \u001b[38;5;28;43mself\u001b[39;49m\u001b[38;5;241;43m.\u001b[39;49m\u001b[43mapply_series_generator\u001b[49m\u001b[43m(\u001b[49m\u001b[43m)\u001b[49m\n\u001b[0;32m   1064\u001b[0m     \u001b[38;5;28;01melse\u001b[39;00m:\n\u001b[0;32m   1065\u001b[0m         results, res_index \u001b[38;5;241m=\u001b[39m \u001b[38;5;28mself\u001b[39m\u001b[38;5;241m.\u001b[39mapply_series_numba()\n",
      "File \u001b[1;32mc:\\Users\\USER\\.conda\\envs\\ai\\lib\\site-packages\\pandas\\core\\apply.py:1081\u001b[0m, in \u001b[0;36mFrameApply.apply_series_generator\u001b[1;34m(self)\u001b[0m\n\u001b[0;32m   1078\u001b[0m \u001b[38;5;28;01mwith\u001b[39;00m option_context(\u001b[38;5;124m\"\u001b[39m\u001b[38;5;124mmode.chained_assignment\u001b[39m\u001b[38;5;124m\"\u001b[39m, \u001b[38;5;28;01mNone\u001b[39;00m):\n\u001b[0;32m   1079\u001b[0m     \u001b[38;5;28;01mfor\u001b[39;00m i, v \u001b[38;5;129;01min\u001b[39;00m \u001b[38;5;28menumerate\u001b[39m(series_gen):\n\u001b[0;32m   1080\u001b[0m         \u001b[38;5;66;03m# ignore SettingWithCopy here in case the user mutates\u001b[39;00m\n\u001b[1;32m-> 1081\u001b[0m         results[i] \u001b[38;5;241m=\u001b[39m \u001b[38;5;28mself\u001b[39m\u001b[38;5;241m.\u001b[39mfunc(v, \u001b[38;5;241m*\u001b[39m\u001b[38;5;28mself\u001b[39m\u001b[38;5;241m.\u001b[39margs, \u001b[38;5;241m*\u001b[39m\u001b[38;5;241m*\u001b[39m\u001b[38;5;28mself\u001b[39m\u001b[38;5;241m.\u001b[39mkwargs)\n\u001b[0;32m   1082\u001b[0m         \u001b[38;5;28;01mif\u001b[39;00m \u001b[38;5;28misinstance\u001b[39m(results[i], ABCSeries):\n\u001b[0;32m   1083\u001b[0m             \u001b[38;5;66;03m# If we have a view on v, we need to make a copy because\u001b[39;00m\n\u001b[0;32m   1084\u001b[0m             \u001b[38;5;66;03m#  series_generator will swap out the underlying data\u001b[39;00m\n\u001b[0;32m   1085\u001b[0m             results[i] \u001b[38;5;241m=\u001b[39m results[i]\u001b[38;5;241m.\u001b[39mcopy(deep\u001b[38;5;241m=\u001b[39m\u001b[38;5;28;01mFalse\u001b[39;00m)\n",
      "File \u001b[1;32mc:\\Users\\USER\\.conda\\envs\\ai\\lib\\site-packages\\pandas\\core\\base.py:1063\u001b[0m, in \u001b[0;36mIndexOpsMixin.nunique\u001b[1;34m(self, dropna)\u001b[0m\n\u001b[0;32m   1028\u001b[0m \u001b[38;5;129m@final\u001b[39m\n\u001b[0;32m   1029\u001b[0m \u001b[38;5;28;01mdef\u001b[39;00m \u001b[38;5;21mnunique\u001b[39m(\u001b[38;5;28mself\u001b[39m, dropna: \u001b[38;5;28mbool\u001b[39m \u001b[38;5;241m=\u001b[39m \u001b[38;5;28;01mTrue\u001b[39;00m) \u001b[38;5;241m-\u001b[39m\u001b[38;5;241m>\u001b[39m \u001b[38;5;28mint\u001b[39m:\n\u001b[0;32m   1030\u001b[0m \u001b[38;5;250m    \u001b[39m\u001b[38;5;124;03m\"\"\"\u001b[39;00m\n\u001b[0;32m   1031\u001b[0m \u001b[38;5;124;03m    Return number of unique elements in the object.\u001b[39;00m\n\u001b[0;32m   1032\u001b[0m \n\u001b[1;32m   (...)\u001b[0m\n\u001b[0;32m   1061\u001b[0m \u001b[38;5;124;03m    4\u001b[39;00m\n\u001b[0;32m   1062\u001b[0m \u001b[38;5;124;03m    \"\"\"\u001b[39;00m\n\u001b[1;32m-> 1063\u001b[0m     uniqs \u001b[38;5;241m=\u001b[39m \u001b[38;5;28;43mself\u001b[39;49m\u001b[38;5;241;43m.\u001b[39;49m\u001b[43munique\u001b[49m\u001b[43m(\u001b[49m\u001b[43m)\u001b[49m\n\u001b[0;32m   1064\u001b[0m     \u001b[38;5;28;01mif\u001b[39;00m dropna:\n\u001b[0;32m   1065\u001b[0m         uniqs \u001b[38;5;241m=\u001b[39m remove_na_arraylike(uniqs)\n",
      "File \u001b[1;32mc:\\Users\\USER\\.conda\\envs\\ai\\lib\\site-packages\\pandas\\core\\series.py:2407\u001b[0m, in \u001b[0;36mSeries.unique\u001b[1;34m(self)\u001b[0m\n\u001b[0;32m   2344\u001b[0m \u001b[38;5;28;01mdef\u001b[39;00m \u001b[38;5;21munique\u001b[39m(\u001b[38;5;28mself\u001b[39m) \u001b[38;5;241m-\u001b[39m\u001b[38;5;241m>\u001b[39m ArrayLike:  \u001b[38;5;66;03m# pylint: disable=useless-parent-delegation\u001b[39;00m\n\u001b[0;32m   2345\u001b[0m \u001b[38;5;250m    \u001b[39m\u001b[38;5;124;03m\"\"\"\u001b[39;00m\n\u001b[0;32m   2346\u001b[0m \u001b[38;5;124;03m    Return unique values of Series object.\u001b[39;00m\n\u001b[0;32m   2347\u001b[0m \n\u001b[1;32m   (...)\u001b[0m\n\u001b[0;32m   2405\u001b[0m \u001b[38;5;124;03m    Categories (3, object): ['a' < 'b' < 'c']\u001b[39;00m\n\u001b[0;32m   2406\u001b[0m \u001b[38;5;124;03m    \"\"\"\u001b[39;00m\n\u001b[1;32m-> 2407\u001b[0m     \u001b[38;5;28;01mreturn\u001b[39;00m \u001b[38;5;28;43msuper\u001b[39;49m\u001b[43m(\u001b[49m\u001b[43m)\u001b[49m\u001b[38;5;241;43m.\u001b[39;49m\u001b[43munique\u001b[49m\u001b[43m(\u001b[49m\u001b[43m)\u001b[49m\n",
      "File \u001b[1;32mc:\\Users\\USER\\.conda\\envs\\ai\\lib\\site-packages\\pandas\\core\\base.py:1025\u001b[0m, in \u001b[0;36mIndexOpsMixin.unique\u001b[1;34m(self)\u001b[0m\n\u001b[0;32m   1023\u001b[0m     result \u001b[38;5;241m=\u001b[39m values\u001b[38;5;241m.\u001b[39munique()\n\u001b[0;32m   1024\u001b[0m \u001b[38;5;28;01melse\u001b[39;00m:\n\u001b[1;32m-> 1025\u001b[0m     result \u001b[38;5;241m=\u001b[39m \u001b[43malgorithms\u001b[49m\u001b[38;5;241;43m.\u001b[39;49m\u001b[43munique1d\u001b[49m\u001b[43m(\u001b[49m\u001b[43mvalues\u001b[49m\u001b[43m)\u001b[49m\n\u001b[0;32m   1026\u001b[0m \u001b[38;5;28;01mreturn\u001b[39;00m result\n",
      "File \u001b[1;32mc:\\Users\\USER\\.conda\\envs\\ai\\lib\\site-packages\\pandas\\core\\algorithms.py:401\u001b[0m, in \u001b[0;36munique\u001b[1;34m(values)\u001b[0m\n\u001b[0;32m    307\u001b[0m \u001b[38;5;28;01mdef\u001b[39;00m \u001b[38;5;21munique\u001b[39m(values):\n\u001b[0;32m    308\u001b[0m \u001b[38;5;250m    \u001b[39m\u001b[38;5;124;03m\"\"\"\u001b[39;00m\n\u001b[0;32m    309\u001b[0m \u001b[38;5;124;03m    Return unique values based on a hash table.\u001b[39;00m\n\u001b[0;32m    310\u001b[0m \n\u001b[1;32m   (...)\u001b[0m\n\u001b[0;32m    399\u001b[0m \u001b[38;5;124;03m    array([('a', 'b'), ('b', 'a'), ('a', 'c')], dtype=object)\u001b[39;00m\n\u001b[0;32m    400\u001b[0m \u001b[38;5;124;03m    \"\"\"\u001b[39;00m\n\u001b[1;32m--> 401\u001b[0m     \u001b[38;5;28;01mreturn\u001b[39;00m \u001b[43munique_with_mask\u001b[49m\u001b[43m(\u001b[49m\u001b[43mvalues\u001b[49m\u001b[43m)\u001b[49m\n",
      "File \u001b[1;32mc:\\Users\\USER\\.conda\\envs\\ai\\lib\\site-packages\\pandas\\core\\algorithms.py:440\u001b[0m, in \u001b[0;36munique_with_mask\u001b[1;34m(values, mask)\u001b[0m\n\u001b[0;32m    438\u001b[0m table \u001b[38;5;241m=\u001b[39m hashtable(\u001b[38;5;28mlen\u001b[39m(values))\n\u001b[0;32m    439\u001b[0m \u001b[38;5;28;01mif\u001b[39;00m mask \u001b[38;5;129;01mis\u001b[39;00m \u001b[38;5;28;01mNone\u001b[39;00m:\n\u001b[1;32m--> 440\u001b[0m     uniques \u001b[38;5;241m=\u001b[39m \u001b[43mtable\u001b[49m\u001b[38;5;241;43m.\u001b[39;49m\u001b[43munique\u001b[49m\u001b[43m(\u001b[49m\u001b[43mvalues\u001b[49m\u001b[43m)\u001b[49m\n\u001b[0;32m    441\u001b[0m     uniques \u001b[38;5;241m=\u001b[39m _reconstruct_data(uniques, original\u001b[38;5;241m.\u001b[39mdtype, original)\n\u001b[0;32m    442\u001b[0m     \u001b[38;5;28;01mreturn\u001b[39;00m uniques\n",
      "File \u001b[1;32mpandas\\\\_libs\\\\hashtable_class_helper.pxi:7248\u001b[0m, in \u001b[0;36mpandas._libs.hashtable.PyObjectHashTable.unique\u001b[1;34m()\u001b[0m\n",
      "File \u001b[1;32mpandas\\\\_libs\\\\hashtable_class_helper.pxi:7195\u001b[0m, in \u001b[0;36mpandas._libs.hashtable.PyObjectHashTable._unique\u001b[1;34m()\u001b[0m\n",
      "\u001b[1;31mTypeError\u001b[0m: unhashable type: 'list'"
     ]
    }
   ],
   "source": [
    "df_processed.nunique()"
   ]
  },
  {
   "cell_type": "code",
   "execution_count": 12,
   "metadata": {},
   "outputs": [],
   "source": [
    "df2 = df1.copy()"
   ]
  },
  {
   "cell_type": "code",
   "execution_count": 13,
   "metadata": {},
   "outputs": [],
   "source": [
    "# This will keep the first occurrence of each duplicate row\n",
    "df_no_duplicates = df1.drop_duplicates()"
   ]
  },
  {
   "cell_type": "code",
   "execution_count": 17,
   "metadata": {},
   "outputs": [],
   "source": [
    "# Group by the 'context' (question) column and aggregate the 'response' (answer) column\n",
    "df_grouped = df_no_duplicates.groupby('Context')['Response'].agg(list).reset_index()\n",
    "\n",
    "# Filter to keep only questions with multiple answers\n",
    "df_multiple_answers = df_grouped[df_grouped['Response'].map(len) > 1]"
   ]
  },
  {
   "cell_type": "code",
   "execution_count": 18,
   "metadata": {},
   "outputs": [
    {
     "name": "stderr",
     "output_type": "stream",
     "text": [
      "C:\\Users\\USER\\AppData\\Local\\Temp\\ipykernel_20516\\1605488034.py:2: SettingWithCopyWarning: \n",
      "A value is trying to be set on a copy of a slice from a DataFrame.\n",
      "Try using .loc[row_indexer,col_indexer] = value instead\n",
      "\n",
      "See the caveats in the documentation: https://pandas.pydata.org/pandas-docs/stable/user_guide/indexing.html#returning-a-view-versus-a-copy\n",
      "  df_single_answers['Response'] = df_single_answers['Response'].map(lambda x: x[0])\n"
     ]
    }
   ],
   "source": [
    "df_single_answers = df_grouped[df_grouped['Response'].map(len) == 1]\n",
    "df_single_answers['Response'] = df_single_answers['Response'].map(lambda x: x[0])\n",
    "\n",
    "# Combine multiple and single answer dataframes\n",
    "df_processed = pd.concat([df_multiple_answers, df_single_answers])"
   ]
  },
  {
   "cell_type": "code",
   "execution_count": 24,
   "metadata": {},
   "outputs": [
    {
     "data": {
      "text/plain": [
       "Context     0\n",
       "Response    0\n",
       "dtype: int64"
      ]
     },
     "execution_count": 24,
     "metadata": {},
     "output_type": "execute_result"
    }
   ],
   "source": [
    "df_processed.isna().sum()"
   ]
  },
  {
   "cell_type": "code",
   "execution_count": 19,
   "metadata": {},
   "outputs": [
    {
     "data": {
      "text/html": [
       "<div>\n",
       "<style scoped>\n",
       "    .dataframe tbody tr th:only-of-type {\n",
       "        vertical-align: middle;\n",
       "    }\n",
       "\n",
       "    .dataframe tbody tr th {\n",
       "        vertical-align: top;\n",
       "    }\n",
       "\n",
       "    .dataframe thead th {\n",
       "        text-align: right;\n",
       "    }\n",
       "</style>\n",
       "<table border=\"1\" class=\"dataframe\">\n",
       "  <thead>\n",
       "    <tr style=\"text-align: right;\">\n",
       "      <th></th>\n",
       "      <th>Context</th>\n",
       "      <th>Response</th>\n",
       "    </tr>\n",
       "  </thead>\n",
       "  <tbody>\n",
       "    <tr>\n",
       "      <th>3</th>\n",
       "      <td>A few years ago I was making love to my wife w...</td>\n",
       "      <td>[First step always is to do a medical rule out...</td>\n",
       "    </tr>\n",
       "    <tr>\n",
       "      <th>4</th>\n",
       "      <td>A few years ago I was making love to my wife w...</td>\n",
       "      <td>[First step always is to do a medical rule out...</td>\n",
       "    </tr>\n",
       "    <tr>\n",
       "      <th>7</th>\n",
       "      <td>A lot of times, I avoid situations where I am ...</td>\n",
       "      <td>[Hello, and thank you for your question. First...</td>\n",
       "    </tr>\n",
       "    <tr>\n",
       "      <th>9</th>\n",
       "      <td>A year ago, the love of my life left me and ne...</td>\n",
       "      <td>[Who takes care of your son, is a significant ...</td>\n",
       "    </tr>\n",
       "    <tr>\n",
       "      <th>11</th>\n",
       "      <td>About 3 years ago or so I was skinny, but I wa...</td>\n",
       "      <td>[Hey!  I am so impressed with your efforts to ...</td>\n",
       "    </tr>\n",
       "    <tr>\n",
       "      <th>12</th>\n",
       "      <td>About 5 months ago my ex left without fully ex...</td>\n",
       "      <td>[since you realize your sense of trust was bro...</td>\n",
       "    </tr>\n",
       "    <tr>\n",
       "      <th>14</th>\n",
       "      <td>About two and a half months ago, I met a woman...</td>\n",
       "      <td>[That sounds really heartbreaking. It is tough...</td>\n",
       "    </tr>\n",
       "    <tr>\n",
       "      <th>15</th>\n",
       "      <td>About two and a half months ago, I met a woman...</td>\n",
       "      <td>[Love doesn't hurt.Your description of the rel...</td>\n",
       "    </tr>\n",
       "    <tr>\n",
       "      <th>16</th>\n",
       "      <td>After 25 years, I fell in love for the first t...</td>\n",
       "      <td>[Ouch. Losing someone you love hurts so much. ...</td>\n",
       "    </tr>\n",
       "    <tr>\n",
       "      <th>17</th>\n",
       "      <td>After 40 years of being straight, how could I ...</td>\n",
       "      <td>[What most people don't know is that sexual pr...</td>\n",
       "    </tr>\n",
       "  </tbody>\n",
       "</table>\n",
       "</div>"
      ],
      "text/plain": [
       "                                              Context  \\\n",
       "3   A few years ago I was making love to my wife w...   \n",
       "4   A few years ago I was making love to my wife w...   \n",
       "7   A lot of times, I avoid situations where I am ...   \n",
       "9   A year ago, the love of my life left me and ne...   \n",
       "11  About 3 years ago or so I was skinny, but I wa...   \n",
       "12  About 5 months ago my ex left without fully ex...   \n",
       "14  About two and a half months ago, I met a woman...   \n",
       "15  About two and a half months ago, I met a woman...   \n",
       "16  After 25 years, I fell in love for the first t...   \n",
       "17  After 40 years of being straight, how could I ...   \n",
       "\n",
       "                                             Response  \n",
       "3   [First step always is to do a medical rule out...  \n",
       "4   [First step always is to do a medical rule out...  \n",
       "7   [Hello, and thank you for your question. First...  \n",
       "9   [Who takes care of your son, is a significant ...  \n",
       "11  [Hey!  I am so impressed with your efforts to ...  \n",
       "12  [since you realize your sense of trust was bro...  \n",
       "14  [That sounds really heartbreaking. It is tough...  \n",
       "15  [Love doesn't hurt.Your description of the rel...  \n",
       "16  [Ouch. Losing someone you love hurts so much. ...  \n",
       "17  [What most people don't know is that sexual pr...  "
      ]
     },
     "execution_count": 19,
     "metadata": {},
     "output_type": "execute_result"
    }
   ],
   "source": [
    "df_multiple_answers.head(10)"
   ]
  },
  {
   "cell_type": "code",
   "execution_count": 23,
   "metadata": {},
   "outputs": [
    {
     "data": {
      "text/plain": [
       "(438, 2)"
      ]
     },
     "execution_count": 23,
     "metadata": {},
     "output_type": "execute_result"
    }
   ],
   "source": [
    "df_single_answers.shape"
   ]
  },
  {
   "cell_type": "code",
   "execution_count": 22,
   "metadata": {},
   "outputs": [
    {
     "data": {
      "text/plain": [
       "(557, 2)"
      ]
     },
     "execution_count": 22,
     "metadata": {},
     "output_type": "execute_result"
    }
   ],
   "source": [
    "df_multiple_answers.shape"
   ]
  },
  {
   "cell_type": "code",
   "execution_count": 28,
   "metadata": {},
   "outputs": [
    {
     "data": {
      "text/plain": [
       "(2752, 2)"
      ]
     },
     "execution_count": 28,
     "metadata": {},
     "output_type": "execute_result"
    }
   ],
   "source": [
    "df_no_duplicates.shape"
   ]
  },
  {
   "cell_type": "code",
   "execution_count": null,
   "metadata": {},
   "outputs": [],
   "source": []
  },
  {
   "cell_type": "code",
   "execution_count": null,
   "metadata": {},
   "outputs": [],
   "source": []
  },
  {
   "cell_type": "code",
   "execution_count": null,
   "metadata": {},
   "outputs": [],
   "source": []
  },
  {
   "cell_type": "code",
   "execution_count": null,
   "metadata": {},
   "outputs": [],
   "source": []
  }
 ],
 "metadata": {
  "kernelspec": {
   "display_name": "ai",
   "language": "python",
   "name": "python3"
  },
  "language_info": {
   "codemirror_mode": {
    "name": "ipython",
    "version": 3
   },
   "file_extension": ".py",
   "mimetype": "text/x-python",
   "name": "python",
   "nbconvert_exporter": "python",
   "pygments_lexer": "ipython3",
   "version": "3.10.14"
  }
 },
 "nbformat": 4,
 "nbformat_minor": 2
}
