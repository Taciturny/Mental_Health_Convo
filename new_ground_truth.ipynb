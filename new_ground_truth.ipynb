{
 "cells": [
  {
   "cell_type": "code",
   "execution_count": 1,
   "id": "3b027627",
   "metadata": {},
   "outputs": [],
   "source": [
    "import os\n",
    "os.environ['HF_HOME'] = '/run/cache/'"
   ]
  },
  {
   "cell_type": "code",
   "execution_count": 2,
   "id": "8980d2b0",
   "metadata": {},
   "outputs": [
    {
     "data": {
      "text/html": [
       "<div>\n",
       "<style scoped>\n",
       "    .dataframe tbody tr th:only-of-type {\n",
       "        vertical-align: middle;\n",
       "    }\n",
       "\n",
       "    .dataframe tbody tr th {\n",
       "        vertical-align: top;\n",
       "    }\n",
       "\n",
       "    .dataframe thead th {\n",
       "        text-align: right;\n",
       "    }\n",
       "</style>\n",
       "<table border=\"1\" class=\"dataframe\">\n",
       "  <thead>\n",
       "    <tr style=\"text-align: right;\">\n",
       "      <th></th>\n",
       "      <th>context</th>\n",
       "      <th>response</th>\n",
       "      <th>document</th>\n",
       "    </tr>\n",
       "  </thead>\n",
       "  <tbody>\n",
       "    <tr>\n",
       "      <th>0</th>\n",
       "      <td>a few nights ago i talked to this girl i know about my self esteem issues for the first time we talked for hours and she told me time and again that i was a great guy she told me i was attractive and have a great personality etc i really started to feel better about myself by the time i woke up the next morning\\nnow though i cant stop thinking about her but i leave to go back to college in a few days and i go to school 4 hours away from her so now i feel constantly depressed because even if i told her how i felt it wouldnt matter i feel helpless and i dont know what to do</td>\n",
       "      <td>hey  it takes a lot of courage to share your feelings with someone  and it sounds like you have been lucky to meet someone who makes you feel safe enough to explore some of your more painful feelings  a big part of the process however of strengthening your selfconcept is learning how to tell yourself those positive messages that you heard from your friend  leaving for college may also be contributing to your feelings of unsteadiness  try this  make a list of all of the positive things that you know are true about yourself  ask your friends and family to contribute to the list  then carry it with you in your wallet  and when you need a selfesteem boost take a look at it  you are in a season of life that presents lots of challenges and opportunities  reach out to your longdistance friend when you need support  and take a walk over to the campus counseling center and check out what they might have to offer  be wise</td>\n",
       "      <td>4ff5a089-bfdd-46bb-abe2-f6558d7265cc</td>\n",
       "    </tr>\n",
       "    <tr>\n",
       "      <th>1</th>\n",
       "      <td>a few nights ago i talked to this girl i know about my self esteem issues for the first time we talked for hours and she told me time and again that i was a great guy she told me i was attractive and have a great personality etc i really started to feel better about myself by the time i woke up the next morning now though i cant stop thinking about her but i leave to go back to college in a few days and i go to school 4 hours away from her so now i feel constantly depressed because even if i told her how i felt it wouldnt matter i feel helpless and i dont know what to do</td>\n",
       "      <td>hey  it takes a lot of courage to share your feelings with someone  and it sounds like you have been lucky to meet someone who makes you feel safe enough to explore some of your more painful feelings  a big part of the process however of strengthening your selfconcept is learning how to tell yourself those positive messages that you heard from your friend  leaving for college may also be contributing to your feelings of unsteadiness  try this  make a list of all of the positive things that you know are true about yourself  ask your friends and family to contribute to the list  then carry it with you in your wallet  and when you need a selfesteem boost take a look at it  you are in a season of life that presents lots of challenges and opportunities  reach out to your longdistance friend when you need support  and take a walk over to the campus counseling center and check out what they might have to offer  be wise</td>\n",
       "      <td>c9732551-d000-4737-83c6-6ee4962f6598</td>\n",
       "    </tr>\n",
       "    <tr>\n",
       "      <th>2</th>\n",
       "      <td>a few years ago i was making love to my wife when for no known reason i lost my erection \\r\\n\\r\\nnow im in my early 30s and my problem has become more and more frequent  this is causing major problems for my ego and its diminishing my self esteem this has resulted in ongoing depression and tearing apart my marriage \\r\\n\\r\\ni am devastated and cannot find a cause for these issues i am very attracted to my wife and want to express it in the bedroom like i used to \\r\\n\\r\\nwhat could be causing this and what can i do about it</td>\n",
       "      <td>for starters know that this is a normal experience for many men at some point in their lives while this can certainly cause some embarrassment a diminished sexual esteem or relationship problems it is important to know you are not alone i am going to move forward assuming that you have already checked with a medical professional to rule out any medical problems that may be related to this assuming that is the case for most this happens for two primary reasons it is either a short term biological shortage of blood flow to the penis this can be caused my diet lack of exercise even stress another primary reason for loss of erections are anxiety have their been recent relationship issues are you feeling as though you arent satisfied in the bedroom these are just a few aspects that can cause subconscious anxiety and loss of erection my suggestion to you would be to seek out a counselor that specializes in sexuality that can assist you in moving forward with this  best of luck | first step always is to do a medical rule out so that youre sure the problem is psychological and emotion based not a medical condition which requires care and attentionif you are medically clear in the reasons for losing your erection then reflect on what may be creating a loss in confidence in either who you are and what youre doing with your life or whether your wife has these sort of problems within herselfoften a problem transfers ownership of who shows itif you are a sensitive person its possible your erection problem reflects your wifes insecurities and selfdoubt  if she is someone who is reluctant to talk about feeling unsure then in a certain way by you showing a problem she can avoid looking at herselfthere may not be a direct cause such as usually exists in a medical problemmedicine looks for symptoms to treatour emotional lives are much more indirectif you feel stress at work or are unhappy in the place you live for example then your frustration may show up in your sex lifebasically do a broad inward search of your life and what it holds and maybe ask your wife to do the sameyou may clear the air within yourselves and between each other so the problem goes away | when im working with men with this type of situation i always suggest a medical examination to rule out any type of organic reason for a difficulty in maintaining interaction in cases where there is no medical reason for the loss of erection i find that many men have a similar situation in experiencing negative intrusive thinking during lovemaking my counseling approach for this situation is to incorporate the use of mindful sex</td>\n",
       "      <td>57d7ee58-3265-42f2-b3ab-0d5585d976df</td>\n",
       "    </tr>\n",
       "    <tr>\n",
       "      <th>3</th>\n",
       "      <td>a few years ago i was making love to my wife when for no known reason i lost my erection    now im in my early 30s and my problem has become more and more frequent this is causing major problems for my ego and its diminishing my self esteem this has resulted in ongoing depression and tearing apart my marriage    i am devastated and cannot find a cause for these issues i am very attracted to my wife and want to express it in the bedroom like i used to    what could be causing this and what can i do about it</td>\n",
       "      <td>erection maintenance is caused by connective tissue weakness as well as lymphatic stagnation of the area and accompanying channels  a proper detoxification is necessary to reverse the stagnation and get things flowing againlower circulation and pituitary might also be indicatedmedical will likely not recommend anything useful in the long term pharmaceuticals do not solve a problem only suppress it and it will return again later and worse than beforecertain herbal protocols and natural protocols would be very warranted in getting things going again | first step always is to do a medical rule out so that youre sure the problem is psychological and emotion based not a medical condition which requires care and attentionif you are medically clear in the reasons for losing your erection then reflect on what may be creating a loss in confidence in either who you are and what youre doing with your life or whether your wife has these sort of problems within herselfoften a problem transfers ownership of who shows itif you are a sensitive person its possible your erection problem reflects your wifes insecurities and selfdoubt  if she is someone who is reluctant to talk about feeling unsure then in a certain way by you showing a problem she can avoid looking at herselfthere may not be a direct cause such as usually exists in a medical problemmedicine looks for symptoms to treatour emotional lives are much more indirectif you feel stress at work or are unhappy in the place you live for example then your frustration may show up in your sex lifebasically do a broad inward search of your life and what it holds and maybe ask your wife to do the sameyou may clear the air within yourselves and between each other so the problem goes away | when im working with men with this type of situation i always suggest a medical examination to rule out any type of organic reason for a difficulty in maintaining interaction in cases where there is no medical reason for the loss of erection i find that many men have a similar situation in experiencing negative intrusive thinking during lovemaking my counseling approach for this situation is to incorporate the use of mindful sex | assuming there are no medical explanations for this issue many men ive worked with on this come to see it as essentially a form of anxiety there is a phenomenon called the yerkes dodson law see below source wikipedia which basically states that if we feel either too much or too little stress pressure or nervousness about a task it will adversely impact our ability to do carry it out successfully the ideal amount of stressarousal is right in the middle  not too little and not too much this applies to more things than we might often realize  from giving a presentation to ordering food to making a free throw to driving to sexual intimacy as in this case a common suggestion that many men find helpful is initiating open and honest conversations with their partners about this issue and for a temporary period of time agreeing to physical intimacy and sexual pleasure in other forms and without the expectation of intercourse there are many ways to go about that which are outside the scope of this blog article but this can be a path to connecting intimately and renewing physical bonding without unhelpful anxiety  and over time can lead back to intimacy in all the ways that have become elusive best of luck | if you havent already please see a doctor  ed can be caused by any number of physical conditions and you need to get checked out  once you have ruled out any physical issues that interfere with getting an  erection its time to look for more subtle causes  unfortunately you may have gotten yourself into a mind set of i hope i can but what if i cant  which is certain to interfere with performanceagain rule out physical causes can you tell i think thats important then talk with your wife about working  together to find the right approach  it might be a good idea for example to take the pressure off by enjoying each other without intercourse  you can have great sex without penetration and you can have physical intimacy without sex so slow down and experiment  you might find more pleasure than you expect when you can relax knowing there doesnt have to be a finish lineagain yes the  third time see a doctor just in case theres something going  on  once you get the all clear find joy and spontaneity with your wife again by being creative and pressure free | for starters know that this is a normal experience for many men at some point in their lives while this can certainly cause some embarrassment a diminished sexual esteem or relationship problems it is important to know you are not alone i am going to move forward assuming that you have already checked with a medical professional to rule out any medical problems that may be related to this assuming that is the case for most this happens for two primary reasons it is either a short term biological shortage of blood flow to the penis this can be caused my diet lack of exercise even stress another primary reason for loss of erections are anxiety have their been recent relationship issues are you feeling as though you arent satisfied in the bedroom these are just a few aspects that can cause subconscious anxiety and loss of erection my suggestion to you would be to seek out a counselor that specializes in sexuality that can assist you in moving forward with this  best of luck</td>\n",
       "      <td>2a3de090-cf81-48d1-ac65-fa7f42895d3c</td>\n",
       "    </tr>\n",
       "    <tr>\n",
       "      <th>4</th>\n",
       "      <td>a friend of mine taking psychology advised i go to my doctor to check if i have major depressive disorder im afraid of the consequences of doing so if i do become diagnosed with major depressive disorder wont that go on my records i will never be able to become a counselor along with a list of other things i may be prohibited from im also afraid of taking any antidepressants this year my doctor gave me some for a dislocated hip i had a severe reaction and passed out moments after taking them everyone i know who has taken antidepressants says its a bad idea all around and youre better getting treatment without them im concerned they might take me to a clinic and force me to take medication because i am unable to make decisions on my own im not really suicidal but i am not really taking care of myself either someone also told me they still use electroshock therapy im not keen on that im wondering if i am better off just getting selfhelp and working things out on my own its just that ive been an emotional mess since i was in elementary school ive graduated now and tried to stay positive and be happy but i cannot deny i still am not good</td>\n",
       "      <td>i admire your courage for stating your view about antidepressants  questioning mainstream thinking and being in touch with your own views are signs of strength and clarity in a personas a therapist i always tell my patients to avoid antidepressantstheir effectiveness is in suppressing a persons mood and feelings  if someone does not know how they are feeling then they will have more difficulty in understanding themselves their uncertainties and hesitations and overall how they relate to others and what they expect from othersantidepressants mask how someone feelsin a crisis temporarily taking antidepressants may be helpful  if someone is so overwhelmed that they are not functioning then  suppressing unhappy feelings so that the person can get through a day may be of benefit for a short whilebasically respect and follow your own opinion about antidepressants   your view is shared by many   it is a minority opinion and very valid if you would like to shop for a therapist ask the person on the phone what their opinions are about antidepressantsideally you will eventually find a therapist who thinks in a way which is similar to you or at least similar enough that you will have a sense that you are able to trust working with them on whatever you define as problematici hope you will have an easy and productive therapist search</td>\n",
       "      <td>efbb62fd-5e0f-45f3-9e3b-1ed99f28d0f3</td>\n",
       "    </tr>\n",
       "  </tbody>\n",
       "</table>\n",
       "</div>"
      ],
      "text/plain": [
       "                                                                                                                                                                                                                                                                                                                                                                                                                                                                                                                                                                                                                                                                                                                                                                                                                                                                                                                                                                                                                                                                                                                                                                                           context  \\\n",
       "0                                                                                                                                                                                                                                                                                                                                                                                                                                                                                                                                                                                               a few nights ago i talked to this girl i know about my self esteem issues for the first time we talked for hours and she told me time and again that i was a great guy she told me i was attractive and have a great personality etc i really started to feel better about myself by the time i woke up the next morning\\nnow though i cant stop thinking about her but i leave to go back to college in a few days and i go to school 4 hours away from her so now i feel constantly depressed because even if i told her how i felt it wouldnt matter i feel helpless and i dont know what to do   \n",
       "1                                                                                                                                                                                                                                                                                                                                                                                                                                                                                                                                                                                                a few nights ago i talked to this girl i know about my self esteem issues for the first time we talked for hours and she told me time and again that i was a great guy she told me i was attractive and have a great personality etc i really started to feel better about myself by the time i woke up the next morning now though i cant stop thinking about her but i leave to go back to college in a few days and i go to school 4 hours away from her so now i feel constantly depressed because even if i told her how i felt it wouldnt matter i feel helpless and i dont know what to do   \n",
       "2                                                                                                                                                                                                                                                                                                                                                                                                                                                                                                                                                                                                                                                  a few years ago i was making love to my wife when for no known reason i lost my erection \\r\\n\\r\\nnow im in my early 30s and my problem has become more and more frequent  this is causing major problems for my ego and its diminishing my self esteem this has resulted in ongoing depression and tearing apart my marriage \\r\\n\\r\\ni am devastated and cannot find a cause for these issues i am very attracted to my wife and want to express it in the bedroom like i used to \\r\\n\\r\\nwhat could be causing this and what can i do about it   \n",
       "3                                                                                                                                                                                                                                                                                                                                                                                                                                                                                                                                                                                                                                                                  a few years ago i was making love to my wife when for no known reason i lost my erection    now im in my early 30s and my problem has become more and more frequent this is causing major problems for my ego and its diminishing my self esteem this has resulted in ongoing depression and tearing apart my marriage    i am devastated and cannot find a cause for these issues i am very attracted to my wife and want to express it in the bedroom like i used to    what could be causing this and what can i do about it   \n",
       "4  a friend of mine taking psychology advised i go to my doctor to check if i have major depressive disorder im afraid of the consequences of doing so if i do become diagnosed with major depressive disorder wont that go on my records i will never be able to become a counselor along with a list of other things i may be prohibited from im also afraid of taking any antidepressants this year my doctor gave me some for a dislocated hip i had a severe reaction and passed out moments after taking them everyone i know who has taken antidepressants says its a bad idea all around and youre better getting treatment without them im concerned they might take me to a clinic and force me to take medication because i am unable to make decisions on my own im not really suicidal but i am not really taking care of myself either someone also told me they still use electroshock therapy im not keen on that im wondering if i am better off just getting selfhelp and working things out on my own its just that ive been an emotional mess since i was in elementary school ive graduated now and tried to stay positive and be happy but i cannot deny i still am not good   \n",
       "\n",
       "                                                                                                                                                                                                                                                                                                                                                                                                                                                                                                                                                                                                                                                                                                                                                                                                                                                                                                                                                                                                                                                                                                                                                                                                                                                                                                                                                                                                                                                                                                                                                                                                                                                                                                                                                                                                                                                                                                                                                                                                                                                                                                                                                                                                                                                                                                                                                                                                                                                                                                                                                                                                                                                                                                                                                                                                                                                                                                                                                                                                                                                                                                                                                                                                                                                                                                                                                                                                                                                                                                                                                                                                                                                                                                                                                                                                                                                                                                                                                                                                                                                                                                                                                                                                                                                                                                                                                                                                                                                                                                                                                                                                                                                                                                                                                                                                                                                                                                                                                                                                                                                                                                                                                                                                                                                                                                                                                                                                                                                                                                                                                                                                                                                                        response  \\\n",
       "0                                                                                                                                                                                                                                                                                                                                                                                                                                                                                                                                                                                                                                                                                                                                                                                                                                                                                                                                                                                                                                                                                                                                                                                                                                                                                                                                                                                                                                                                                                                                                                                                                                                                                                                                                                                                                                                                                                                                                                                                                                                                                                                                                                                                                                                                                                                                                                                                                                                                                                                                                                                                                                                                                                                                                                                                                                                                                                                                                                                                                                                                                                                                                                                                                                                                                                                                                                                                                                                                                                                                                                                                                                                                                                                                                                                                                                                                                                                                                                                                                                                                                                                                                                                                                                                                                                                                                                                                                                                                                                                                                                                                                                                                                                                  hey  it takes a lot of courage to share your feelings with someone  and it sounds like you have been lucky to meet someone who makes you feel safe enough to explore some of your more painful feelings  a big part of the process however of strengthening your selfconcept is learning how to tell yourself those positive messages that you heard from your friend  leaving for college may also be contributing to your feelings of unsteadiness  try this  make a list of all of the positive things that you know are true about yourself  ask your friends and family to contribute to the list  then carry it with you in your wallet  and when you need a selfesteem boost take a look at it  you are in a season of life that presents lots of challenges and opportunities  reach out to your longdistance friend when you need support  and take a walk over to the campus counseling center and check out what they might have to offer  be wise   \n",
       "1                                                                                                                                                                                                                                                                                                                                                                                                                                                                                                                                                                                                                                                                                                                                                                                                                                                                                                                                                                                                                                                                                                                                                                                                                                                                                                                                                                                                                                                                                                                                                                                                                                                                                                                                                                                                                                                                                                                                                                                                                                                                                                                                                                                                                                                                                                                                                                                                                                                                                                                                                                                                                                                                                                                                                                                                                                                                                                                                                                                                                                                                                                                                                                                                                                                                                                                                                                                                                                                                                                                                                                                                                                                                                                                                                                                                                                                                                                                                                                                                                                                                                                                                                                                                                                                                                                                                                                                                                                                                                                                                                                                                                                                                                                                  hey  it takes a lot of courage to share your feelings with someone  and it sounds like you have been lucky to meet someone who makes you feel safe enough to explore some of your more painful feelings  a big part of the process however of strengthening your selfconcept is learning how to tell yourself those positive messages that you heard from your friend  leaving for college may also be contributing to your feelings of unsteadiness  try this  make a list of all of the positive things that you know are true about yourself  ask your friends and family to contribute to the list  then carry it with you in your wallet  and when you need a selfesteem boost take a look at it  you are in a season of life that presents lots of challenges and opportunities  reach out to your longdistance friend when you need support  and take a walk over to the campus counseling center and check out what they might have to offer  be wise   \n",
       "2                                                                                                                                                                                                                                                                                                                                                                                                                                                                                                                                                                                                                                                                                                                                                                                                                                                                                                                                                                                                                                                                                                                                                                                                                                                                                                                                                                                                                                                                                                                                                                                                                                                                                                                                                                                                                                                                                                                                                                                                                                                                                                                                                                                                                                                                                                                                                                                                                                                                                                                                                                                                                                                                                                                                                                                                                                                                                                                                                         for starters know that this is a normal experience for many men at some point in their lives while this can certainly cause some embarrassment a diminished sexual esteem or relationship problems it is important to know you are not alone i am going to move forward assuming that you have already checked with a medical professional to rule out any medical problems that may be related to this assuming that is the case for most this happens for two primary reasons it is either a short term biological shortage of blood flow to the penis this can be caused my diet lack of exercise even stress another primary reason for loss of erections are anxiety have their been recent relationship issues are you feeling as though you arent satisfied in the bedroom these are just a few aspects that can cause subconscious anxiety and loss of erection my suggestion to you would be to seek out a counselor that specializes in sexuality that can assist you in moving forward with this  best of luck | first step always is to do a medical rule out so that youre sure the problem is psychological and emotion based not a medical condition which requires care and attentionif you are medically clear in the reasons for losing your erection then reflect on what may be creating a loss in confidence in either who you are and what youre doing with your life or whether your wife has these sort of problems within herselfoften a problem transfers ownership of who shows itif you are a sensitive person its possible your erection problem reflects your wifes insecurities and selfdoubt  if she is someone who is reluctant to talk about feeling unsure then in a certain way by you showing a problem she can avoid looking at herselfthere may not be a direct cause such as usually exists in a medical problemmedicine looks for symptoms to treatour emotional lives are much more indirectif you feel stress at work or are unhappy in the place you live for example then your frustration may show up in your sex lifebasically do a broad inward search of your life and what it holds and maybe ask your wife to do the sameyou may clear the air within yourselves and between each other so the problem goes away | when im working with men with this type of situation i always suggest a medical examination to rule out any type of organic reason for a difficulty in maintaining interaction in cases where there is no medical reason for the loss of erection i find that many men have a similar situation in experiencing negative intrusive thinking during lovemaking my counseling approach for this situation is to incorporate the use of mindful sex   \n",
       "3  erection maintenance is caused by connective tissue weakness as well as lymphatic stagnation of the area and accompanying channels  a proper detoxification is necessary to reverse the stagnation and get things flowing againlower circulation and pituitary might also be indicatedmedical will likely not recommend anything useful in the long term pharmaceuticals do not solve a problem only suppress it and it will return again later and worse than beforecertain herbal protocols and natural protocols would be very warranted in getting things going again | first step always is to do a medical rule out so that youre sure the problem is psychological and emotion based not a medical condition which requires care and attentionif you are medically clear in the reasons for losing your erection then reflect on what may be creating a loss in confidence in either who you are and what youre doing with your life or whether your wife has these sort of problems within herselfoften a problem transfers ownership of who shows itif you are a sensitive person its possible your erection problem reflects your wifes insecurities and selfdoubt  if she is someone who is reluctant to talk about feeling unsure then in a certain way by you showing a problem she can avoid looking at herselfthere may not be a direct cause such as usually exists in a medical problemmedicine looks for symptoms to treatour emotional lives are much more indirectif you feel stress at work or are unhappy in the place you live for example then your frustration may show up in your sex lifebasically do a broad inward search of your life and what it holds and maybe ask your wife to do the sameyou may clear the air within yourselves and between each other so the problem goes away | when im working with men with this type of situation i always suggest a medical examination to rule out any type of organic reason for a difficulty in maintaining interaction in cases where there is no medical reason for the loss of erection i find that many men have a similar situation in experiencing negative intrusive thinking during lovemaking my counseling approach for this situation is to incorporate the use of mindful sex | assuming there are no medical explanations for this issue many men ive worked with on this come to see it as essentially a form of anxiety there is a phenomenon called the yerkes dodson law see below source wikipedia which basically states that if we feel either too much or too little stress pressure or nervousness about a task it will adversely impact our ability to do carry it out successfully the ideal amount of stressarousal is right in the middle  not too little and not too much this applies to more things than we might often realize  from giving a presentation to ordering food to making a free throw to driving to sexual intimacy as in this case a common suggestion that many men find helpful is initiating open and honest conversations with their partners about this issue and for a temporary period of time agreeing to physical intimacy and sexual pleasure in other forms and without the expectation of intercourse there are many ways to go about that which are outside the scope of this blog article but this can be a path to connecting intimately and renewing physical bonding without unhelpful anxiety  and over time can lead back to intimacy in all the ways that have become elusive best of luck | if you havent already please see a doctor  ed can be caused by any number of physical conditions and you need to get checked out  once you have ruled out any physical issues that interfere with getting an  erection its time to look for more subtle causes  unfortunately you may have gotten yourself into a mind set of i hope i can but what if i cant  which is certain to interfere with performanceagain rule out physical causes can you tell i think thats important then talk with your wife about working  together to find the right approach  it might be a good idea for example to take the pressure off by enjoying each other without intercourse  you can have great sex without penetration and you can have physical intimacy without sex so slow down and experiment  you might find more pleasure than you expect when you can relax knowing there doesnt have to be a finish lineagain yes the  third time see a doctor just in case theres something going  on  once you get the all clear find joy and spontaneity with your wife again by being creative and pressure free | for starters know that this is a normal experience for many men at some point in their lives while this can certainly cause some embarrassment a diminished sexual esteem or relationship problems it is important to know you are not alone i am going to move forward assuming that you have already checked with a medical professional to rule out any medical problems that may be related to this assuming that is the case for most this happens for two primary reasons it is either a short term biological shortage of blood flow to the penis this can be caused my diet lack of exercise even stress another primary reason for loss of erections are anxiety have their been recent relationship issues are you feeling as though you arent satisfied in the bedroom these are just a few aspects that can cause subconscious anxiety and loss of erection my suggestion to you would be to seek out a counselor that specializes in sexuality that can assist you in moving forward with this  best of luck   \n",
       "4                                                                                                                                                                                                                                                                                                                                                                                                                                                                                                                                                                                                                                                                                                                                                                                                                                                                                                                                                                                                                                                                                                                                                                                                                                                                                                                                                                                                                                                                                                                                                                                                                                                                                                                                                                                                                                                                                                                                                                                                                                                                                                                                                                                                                                                                                                                                                                                                                                                                                                                                                                                                                                                                                                                                                                                                                                                                                                                                                                                                                                                                                                                                                                                                                                                                                                                                                                                                                                                                                                                                                                                                                                                                                                                                                                                                                                                                                                                                                                                                                                                                                                                                                                                                                                                                                 i admire your courage for stating your view about antidepressants  questioning mainstream thinking and being in touch with your own views are signs of strength and clarity in a personas a therapist i always tell my patients to avoid antidepressantstheir effectiveness is in suppressing a persons mood and feelings  if someone does not know how they are feeling then they will have more difficulty in understanding themselves their uncertainties and hesitations and overall how they relate to others and what they expect from othersantidepressants mask how someone feelsin a crisis temporarily taking antidepressants may be helpful  if someone is so overwhelmed that they are not functioning then  suppressing unhappy feelings so that the person can get through a day may be of benefit for a short whilebasically respect and follow your own opinion about antidepressants   your view is shared by many   it is a minority opinion and very valid if you would like to shop for a therapist ask the person on the phone what their opinions are about antidepressantsideally you will eventually find a therapist who thinks in a way which is similar to you or at least similar enough that you will have a sense that you are able to trust working with them on whatever you define as problematici hope you will have an easy and productive therapist search   \n",
       "\n",
       "                               document  \n",
       "0  4ff5a089-bfdd-46bb-abe2-f6558d7265cc  \n",
       "1  c9732551-d000-4737-83c6-6ee4962f6598  \n",
       "2  57d7ee58-3265-42f2-b3ab-0d5585d976df  \n",
       "3  2a3de090-cf81-48d1-ac65-fa7f42895d3c  \n",
       "4  efbb62fd-5e0f-45f3-9e3b-1ed99f28d0f3  "
      ]
     },
     "execution_count": 2,
     "metadata": {},
     "output_type": "execute_result"
    }
   ],
   "source": [
    "import pandas as pd\n",
    "# import uuid\n",
    "pd.set_option('display.max_colwidth', None)\n",
    "# def add_id_to_data(df):\n",
    "#     df['id'] = [str(uuid.uuid4())[:10] for _ in range(len(df))]\n",
    "#     return df\n",
    "df = pd.read_json('weaviate_input.json')\n",
    "\n",
    "df.head()"
   ]
  },
  {
   "cell_type": "code",
   "execution_count": 3,
   "id": "fd5dd59a",
   "metadata": {},
   "outputs": [
    {
     "data": {
      "text/plain": [
       "context     0\n",
       "response    0\n",
       "document    0\n",
       "dtype: int64"
      ]
     },
     "execution_count": 3,
     "metadata": {},
     "output_type": "execute_result"
    }
   ],
   "source": [
    "df.isna().sum()"
   ]
  },
  {
   "cell_type": "code",
   "execution_count": 5,
   "id": "5486218e",
   "metadata": {},
   "outputs": [
    {
     "name": "stdout",
     "output_type": "stream",
     "text": [
      "Number of unique contexts: 995\n"
     ]
    }
   ],
   "source": [
    "print(f\"Number of unique contexts: {df['context'].nunique()}\")"
   ]
  },
  {
   "cell_type": "code",
   "execution_count": 7,
   "id": "83d3c4ee",
   "metadata": {},
   "outputs": [
    {
     "name": "stdout",
     "output_type": "stream",
     "text": [
      "count      995.000000\n",
      "mean      2539.940704\n",
      "std       3524.853501\n",
      "min          1.000000\n",
      "25%        739.000000\n",
      "50%       1367.000000\n",
      "75%       2839.000000\n",
      "max      36220.000000\n",
      "Name: response_length, dtype: float64\n"
     ]
    }
   ],
   "source": [
    "df['response_length'] = df['response'].str.len()\n",
    "print(df['response_length'].describe())"
   ]
  },
  {
   "cell_type": "code",
   "execution_count": 8,
   "id": "9d11aae6",
   "metadata": {},
   "outputs": [
    {
     "name": "stdout",
     "output_type": "stream",
     "text": [
      "Filesystem      Size  Used Avail Use% Mounted on\r\n",
      "overlay         100G   35G   66G  35% /\r\n",
      "tmpfs            64M     0   64M   0% /dev\r\n",
      "tmpfs           7.7G     0  7.7G   0% /sys/fs/cgroup\r\n",
      "/dev/nvme0n1p1  100G   35G   66G  35% /run\r\n",
      "tmpfs            14G     0   14G   0% /dev/shm\r\n",
      "/dev/nvme2n1    2.0G   16M  1.9G   1% /home/jovyan\r\n",
      "tmpfs            14G  124K   14G   1% /home/jovyan/.saturn\r\n",
      "tmpfs            14G   12K   14G   1% /run/secrets/kubernetes.io/serviceaccount\r\n",
      "tmpfs           7.7G   12K  7.7G   1% /proc/driver/nvidia\r\n",
      "tmpfs           7.7G  4.9M  7.7G   1% /run/nvidia-persistenced/socket\r\n",
      "tmpfs           7.7G     0  7.7G   0% /proc/acpi\r\n",
      "tmpfs           7.7G     0  7.7G   0% /sys/firmware\r\n"
     ]
    }
   ],
   "source": [
    "!df -h"
   ]
  },
  {
   "cell_type": "code",
   "execution_count": 9,
   "id": "53d0676e",
   "metadata": {},
   "outputs": [
    {
     "data": {
      "application/vnd.jupyter.widget-view+json": {
       "model_id": "77f8ddb154a04bce821dd11419358951",
       "version_major": 2,
       "version_minor": 0
      },
      "text/plain": [
       "Downloading tokenizer_config.json:   0%|          | 0.00/2.54k [00:00<?, ?B/s]"
      ]
     },
     "metadata": {},
     "output_type": "display_data"
    },
    {
     "data": {
      "application/vnd.jupyter.widget-view+json": {
       "model_id": "fbef540bcab34f988d3b7eee0a6717a6",
       "version_major": 2,
       "version_minor": 0
      },
      "text/plain": [
       "Downloading spiece.model:   0%|          | 0.00/792k [00:00<?, ?B/s]"
      ]
     },
     "metadata": {},
     "output_type": "display_data"
    },
    {
     "data": {
      "application/vnd.jupyter.widget-view+json": {
       "model_id": "b3a4718640e940909ec50112b6c41a39",
       "version_major": 2,
       "version_minor": 0
      },
      "text/plain": [
       "Downloading (…)cial_tokens_map.json:   0%|          | 0.00/2.20k [00:00<?, ?B/s]"
      ]
     },
     "metadata": {},
     "output_type": "display_data"
    },
    {
     "data": {
      "application/vnd.jupyter.widget-view+json": {
       "model_id": "f3ba9a8b3a1d47fcb47fcd0b80a82e2e",
       "version_major": 2,
       "version_minor": 0
      },
      "text/plain": [
       "Downloading tokenizer.json:   0%|          | 0.00/2.42M [00:00<?, ?B/s]"
      ]
     },
     "metadata": {},
     "output_type": "display_data"
    },
    {
     "name": "stderr",
     "output_type": "stream",
     "text": [
      "You are using the default legacy behaviour of the <class 'transformers.models.t5.tokenization_t5.T5Tokenizer'>. This is expected, and simply means that the `legacy` (previous) behavior will be used so nothing changes for you. If you want to use the new behaviour, set `legacy=False`. This should only be set if you understand what it means, and thouroughly read the reason why this was added as explained in https://github.com/huggingface/transformers/pull/24565\n",
      "Special tokens have been added in the vocabulary, make sure the associated word embeddings are fine-tuned or trained.\n"
     ]
    },
    {
     "data": {
      "application/vnd.jupyter.widget-view+json": {
       "model_id": "cbd292f8d9c54c86844d9fd1a0f56598",
       "version_major": 2,
       "version_minor": 0
      },
      "text/plain": [
       "Downloading config.json:   0%|          | 0.00/662 [00:00<?, ?B/s]"
      ]
     },
     "metadata": {},
     "output_type": "display_data"
    },
    {
     "data": {
      "application/vnd.jupyter.widget-view+json": {
       "model_id": "9a3cfaf9749b4ea29a27d894a0602d18",
       "version_major": 2,
       "version_minor": 0
      },
      "text/plain": [
       "Downloading model.safetensors:   0%|          | 0.00/3.13G [00:00<?, ?B/s]"
      ]
     },
     "metadata": {},
     "output_type": "display_data"
    },
    {
     "data": {
      "application/vnd.jupyter.widget-view+json": {
       "model_id": "be8079cc8ab34a59bfea254d137d0ae5",
       "version_major": 2,
       "version_minor": 0
      },
      "text/plain": [
       "Downloading generation_config.json:   0%|          | 0.00/147 [00:00<?, ?B/s]"
      ]
     },
     "metadata": {},
     "output_type": "display_data"
    }
   ],
   "source": [
    "from transformers import T5ForConditionalGeneration, T5Tokenizer\n",
    "import torch\n",
    "\n",
    "# Load your data\n",
    "df1 = df.copy()\n",
    "\n",
    "# Deduplicate contexts and aggregate responses\n",
    "df_unique = df.groupby('context')['response'].agg(list).reset_index()\n",
    "\n",
    "# Load the model and tokenizer\n",
    "model_name = \"google/flan-t5-large\"\n",
    "tokenizer = T5Tokenizer.from_pretrained(model_name)\n",
    "model = T5ForConditionalGeneration.from_pretrained(model_name)\n",
    "\n",
    "def generate_questions(context, num_questions=2):\n",
    "    input_text = f\"Generate {num_questions} questions based on this context: {context}\"\n",
    "    input_ids = tokenizer(input_text, return_tensors=\"pt\", max_length=512, truncation=True).input_ids\n",
    "    \n",
    "    outputs = model.generate(input_ids, max_length=64, num_return_sequences=num_questions, num_beams=4)\n",
    "    \n",
    "    questions = [tokenizer.decode(output, skip_special_tokens=True) for output in outputs]\n",
    "    return questions\n",
    "\n",
    "# Generate questions for each unique context\n",
    "df_unique['generated_questions'] = df_unique['context'].apply(generate_questions)\n",
    "\n",
    "# Explode the questions to create separate rows\n",
    "df_ground_truth = df_unique.explode('generated_questions').reset_index(drop=True)\n",
    "\n",
    "# Rename columns for clarity\n",
    "df_ground_truth = df_ground_truth.rename(columns={\n",
    "    'context': 'original_context',\n",
    "    'generated_questions': 'question'\n",
    "})\n",
    "\n",
    "# # Save the ground truth dataset\n",
    "# df_ground_truth.to_json('data/ground_truth_dataset.json', orient='records', lines=True)"
   ]
  },
  {
   "cell_type": "code",
   "execution_count": 10,
   "id": "6ca805fc",
   "metadata": {},
   "outputs": [
    {
     "name": "stdout",
     "output_type": "stream",
     "text": [
      "Shape of df_ground_truth: (1990, 3)\n",
      "Memory usage of df_ground_truth: 1.18 MB\n",
      "Estimated file size (JSON): 5.99 MB\n"
     ]
    }
   ],
   "source": [
    "import sys\n",
    "\n",
    "# ... (your existing code to create df_ground_truth)\n",
    "\n",
    "# Check shape\n",
    "print(f\"Shape of df_ground_truth: {df_ground_truth.shape}\")\n",
    "\n",
    "# Check memory usage\n",
    "memory_usage = df_ground_truth.memory_usage(deep=True).sum()\n",
    "print(f\"Memory usage of df_ground_truth: {memory_usage / 1e6:.2f} MB\")\n",
    "\n",
    "# Estimate file size (for JSON format)\n",
    "estimated_size = sys.getsizeof(df_ground_truth.to_json()) / 1e6\n",
    "print(f\"Estimated file size (JSON): {estimated_size:.2f} MB\")\n",
    "\n",
    "# # If the size is acceptable, save the DataFrame\n",
    "# if estimated_size < 100:  # For example, if it's less than 100 MB\n",
    "#     df_ground_truth.to_json('data/ground_truth_dataset.json', orient='records', lines=True)\n",
    "#     print(\"Data saved successfully.\")\n",
    "# else:\n",
    "#     print(\"Data size is too large. Consider reducing the dataset or using a different storage method.\")"
   ]
  },
  {
   "cell_type": "code",
   "execution_count": 18,
   "id": "5cc4cda0",
   "metadata": {},
   "outputs": [
    {
     "data": {
      "text/plain": [
       "Index(['context', 'response', 'document', 'response_length'], dtype='object')"
      ]
     },
     "execution_count": 18,
     "metadata": {},
     "output_type": "execute_result"
    }
   ],
   "source": [
    "df.columns"
   ]
  },
  {
   "cell_type": "code",
   "execution_count": 12,
   "id": "102da70a",
   "metadata": {},
   "outputs": [
    {
     "data": {
      "text/plain": [
       "Index(['original_context', 'response', 'question'], dtype='object')"
      ]
     },
     "execution_count": 12,
     "metadata": {},
     "output_type": "execute_result"
    }
   ],
   "source": [
    "df_ground_truth.columns"
   ]
  },
  {
   "cell_type": "code",
   "execution_count": 13,
   "id": "af56cdd9",
   "metadata": {},
   "outputs": [],
   "source": [
    "# Save the questions data\n",
    "df_ground_truth.to_parquet('ground_truth_data.parquet')"
   ]
  },
  {
   "cell_type": "code",
   "execution_count": 15,
   "id": "cb1a80fe",
   "metadata": {},
   "outputs": [
    {
     "data": {
      "text/plain": [
       "(1990, 3)"
      ]
     },
     "execution_count": 15,
     "metadata": {},
     "output_type": "execute_result"
    }
   ],
   "source": [
    "df1 = pd.read_parquet('ground_truth_data.parquet')\n",
    "df1.shape"
   ]
  },
  {
   "cell_type": "code",
   "execution_count": 8,
   "id": "056c4804",
   "metadata": {},
   "outputs": [
    {
     "name": "stderr",
     "output_type": "stream",
     "text": [
      "Special tokens have been added in the vocabulary, make sure the associated word embeddings are fine-tuned or trained.\n"
     ]
    }
   ],
   "source": [
    "from transformers import T5ForConditionalGeneration, T5Tokenizer\n",
    "\n",
    "model_name = \"google/flan-t5-large\"\n",
    "tokenizer = T5Tokenizer.from_pretrained(model_name)\n",
    "model = T5ForConditionalGeneration.from_pretrained(model_name)\n",
    "\n",
    "def generate_questions(context, num_questions=2, max_context_length=300):\n",
    "    # Truncate the context if it's too long\n",
    "    context_tokens = tokenizer.encode(context, add_special_tokens=False, truncation=True, max_length=max_context_length)\n",
    "    truncated_context = tokenizer.decode(context_tokens)\n",
    "\n",
    "    prompt = f\"\"\"\n",
    "    You are someone experiencing mental health challenges. Based on the following context, create {num_questions} questions that you might ask a mental health professional or support group:\n",
    "\n",
    "    Context: {truncated_context}\n",
    "\n",
    "    Generate {num_questions} questions:\n",
    "    \"\"\"\n",
    "    \n",
    "    input_ids = tokenizer(prompt, return_tensors=\"pt\", truncation=True, max_length=512).input_ids\n",
    "    \n",
    "    outputs = model.generate(\n",
    "        input_ids,\n",
    "        max_length=150,\n",
    "        num_return_sequences=num_questions,\n",
    "        num_beams=num_questions,\n",
    "        do_sample=True,\n",
    "        temperature=0.7,\n",
    "        no_repeat_ngram_size=2\n",
    "    )\n",
    "    \n",
    "    questions = [tokenizer.decode(output, skip_special_tokens=True) for output in outputs]\n",
    "    return questions"
   ]
  },
  {
   "cell_type": "code",
   "execution_count": 9,
   "id": "8d605bd8",
   "metadata": {},
   "outputs": [],
   "source": [
    "sample_df = df.sample(n=10, random_state=42)\n",
    "\n",
    "# List to store new rows\n",
    "new_rows = []\n",
    "\n",
    "# Generate questions and create new format\n",
    "for index, row in sample_df.iterrows():\n",
    "    questions = generate_questions(row['Context'])\n",
    "    \n",
    "    for i, question in enumerate(questions):\n",
    "        new_rows.append({\n",
    "            'question': question,\n",
    "#             'documents': i,\n",
    "            'document': row['document']\n",
    "        })\n",
    "\n",
    "# Create new dataframe with the desired format\n",
    "questions_df = pd.DataFrame(new_rows)\n",
    "\n",
    "# Reorder columns\n",
    "questions_df = questions_df[['question', 'document']]"
   ]
  },
  {
   "cell_type": "code",
   "execution_count": 10,
   "id": "8459c023",
   "metadata": {},
   "outputs": [
    {
     "data": {
      "text/html": [
       "<div>\n",
       "<style scoped>\n",
       "    .dataframe tbody tr th:only-of-type {\n",
       "        vertical-align: middle;\n",
       "    }\n",
       "\n",
       "    .dataframe tbody tr th {\n",
       "        vertical-align: top;\n",
       "    }\n",
       "\n",
       "    .dataframe thead th {\n",
       "        text-align: right;\n",
       "    }\n",
       "</style>\n",
       "<table border=\"1\" class=\"dataframe\">\n",
       "  <thead>\n",
       "    <tr style=\"text-align: right;\">\n",
       "      <th></th>\n",
       "      <th>question</th>\n",
       "      <th>document</th>\n",
       "    </tr>\n",
       "  </thead>\n",
       "  <tbody>\n",
       "    <tr>\n",
       "      <th>0</th>\n",
       "      <td>What may be the reason for you being in a wome...</td>\n",
       "      <td>e739b2db-1</td>\n",
       "    </tr>\n",
       "    <tr>\n",
       "      <th>1</th>\n",
       "      <td>What may be the reason for you not seeing your...</td>\n",
       "      <td>e739b2db-1</td>\n",
       "    </tr>\n",
       "    <tr>\n",
       "      <th>2</th>\n",
       "      <td>How long has it been since your mother's death?</td>\n",
       "      <td>2510448d-8</td>\n",
       "    </tr>\n",
       "    <tr>\n",
       "      <th>3</th>\n",
       "      <td>How long has it been since your mother died?</td>\n",
       "      <td>2510448d-8</td>\n",
       "    </tr>\n",
       "    <tr>\n",
       "      <th>4</th>\n",
       "      <td>What may be the reason for you to be angry wit...</td>\n",
       "      <td>db959012-6</td>\n",
       "    </tr>\n",
       "  </tbody>\n",
       "</table>\n",
       "</div>"
      ],
      "text/plain": [
       "                                            question    document\n",
       "0  What may be the reason for you being in a wome...  e739b2db-1\n",
       "1  What may be the reason for you not seeing your...  e739b2db-1\n",
       "2    How long has it been since your mother's death?  2510448d-8\n",
       "3       How long has it been since your mother died?  2510448d-8\n",
       "4  What may be the reason for you to be angry wit...  db959012-6"
      ]
     },
     "execution_count": 10,
     "metadata": {},
     "output_type": "execute_result"
    }
   ],
   "source": [
    "questions_df.head()"
   ]
  },
  {
   "cell_type": "code",
   "execution_count": 11,
   "id": "f67639d0",
   "metadata": {},
   "outputs": [
    {
     "data": {
      "text/html": [
       "<div>\n",
       "<style scoped>\n",
       "    .dataframe tbody tr th:only-of-type {\n",
       "        vertical-align: middle;\n",
       "    }\n",
       "\n",
       "    .dataframe tbody tr th {\n",
       "        vertical-align: top;\n",
       "    }\n",
       "\n",
       "    .dataframe thead th {\n",
       "        text-align: right;\n",
       "    }\n",
       "</style>\n",
       "<table border=\"1\" class=\"dataframe\">\n",
       "  <thead>\n",
       "    <tr style=\"text-align: right;\">\n",
       "      <th></th>\n",
       "      <th>Context</th>\n",
       "      <th>Response</th>\n",
       "      <th>document</th>\n",
       "    </tr>\n",
       "  </thead>\n",
       "  <tbody>\n",
       "    <tr>\n",
       "      <th>0</th>\n",
       "      <td>a few years ago i was making love to my wife w...</td>\n",
       "      <td>[first step always is to do a medical rule out...</td>\n",
       "      <td>cb02ebd1-4</td>\n",
       "    </tr>\n",
       "    <tr>\n",
       "      <th>1</th>\n",
       "      <td>a lot of times i avoid situations where i am t...</td>\n",
       "      <td>[hello and thank you for your question first i...</td>\n",
       "      <td>0c9816ff-e</td>\n",
       "    </tr>\n",
       "    <tr>\n",
       "      <th>2</th>\n",
       "      <td>a year ago the love of my life left me and nev...</td>\n",
       "      <td>[who takes care of your son is a significant p...</td>\n",
       "      <td>cd3e9d25-8</td>\n",
       "    </tr>\n",
       "    <tr>\n",
       "      <th>3</th>\n",
       "      <td>about 3 years ago or so i was skinny but i was...</td>\n",
       "      <td>[hey i am so impressed with your efforts to as...</td>\n",
       "      <td>42f38c04-1</td>\n",
       "    </tr>\n",
       "    <tr>\n",
       "      <th>4</th>\n",
       "      <td>about 5 months ago my ex left without fully ex...</td>\n",
       "      <td>[since you realize your sense of trust was bro...</td>\n",
       "      <td>1141a8ca-3</td>\n",
       "    </tr>\n",
       "  </tbody>\n",
       "</table>\n",
       "</div>"
      ],
      "text/plain": [
       "                                             Context  \\\n",
       "0  a few years ago i was making love to my wife w...   \n",
       "1  a lot of times i avoid situations where i am t...   \n",
       "2  a year ago the love of my life left me and nev...   \n",
       "3  about 3 years ago or so i was skinny but i was...   \n",
       "4  about 5 months ago my ex left without fully ex...   \n",
       "\n",
       "                                            Response    document  \n",
       "0  [first step always is to do a medical rule out...  cb02ebd1-4  \n",
       "1  [hello and thank you for your question first i...  0c9816ff-e  \n",
       "2  [who takes care of your son is a significant p...  cd3e9d25-8  \n",
       "3  [hey i am so impressed with your efforts to as...  42f38c04-1  \n",
       "4  [since you realize your sense of trust was bro...  1141a8ca-3  "
      ]
     },
     "execution_count": 11,
     "metadata": {},
     "output_type": "execute_result"
    }
   ],
   "source": [
    "df.head()"
   ]
  },
  {
   "cell_type": "code",
   "execution_count": 14,
   "id": "64c72411",
   "metadata": {},
   "outputs": [],
   "source": [
    "# sample_df = df.sample(n=10, random_state=42)\n",
    "\n",
    "# List to store new rows\n",
    "new_rows = []\n",
    "\n",
    "# Generate questions and create new format\n",
    "for index, row in df.iterrows():\n",
    "    questions = generate_questions(row['Context'])\n",
    "    \n",
    "    for i, question in enumerate(questions):\n",
    "        new_rows.append({\n",
    "            'question': question,\n",
    "#             'documents': i,\n",
    "            'document': row['document']\n",
    "        })\n",
    "\n",
    "# Create new dataframe with the desired format\n",
    "questions_df = pd.DataFrame(new_rows)\n",
    "\n",
    "# Reorder columns\n",
    "questions_df = questions_df[['question', 'document']]"
   ]
  },
  {
   "cell_type": "code",
   "execution_count": 15,
   "id": "d11209a8",
   "metadata": {},
   "outputs": [
    {
     "data": {
      "text/plain": [
       "(1662, 2)"
      ]
     },
     "execution_count": 15,
     "metadata": {},
     "output_type": "execute_result"
    }
   ],
   "source": [
    "questions_df.shape"
   ]
  },
  {
   "cell_type": "code",
   "execution_count": 17,
   "id": "2ab8c6d4",
   "metadata": {},
   "outputs": [
    {
     "data": {
      "text/html": [
       "<div>\n",
       "<style scoped>\n",
       "    .dataframe tbody tr th:only-of-type {\n",
       "        vertical-align: middle;\n",
       "    }\n",
       "\n",
       "    .dataframe tbody tr th {\n",
       "        vertical-align: top;\n",
       "    }\n",
       "\n",
       "    .dataframe thead th {\n",
       "        text-align: right;\n",
       "    }\n",
       "</style>\n",
       "<table border=\"1\" class=\"dataframe\">\n",
       "  <thead>\n",
       "    <tr style=\"text-align: right;\">\n",
       "      <th></th>\n",
       "      <th>question</th>\n",
       "      <th>document</th>\n",
       "    </tr>\n",
       "  </thead>\n",
       "  <tbody>\n",
       "    <tr>\n",
       "      <th>584</th>\n",
       "      <td>What might I do if I am worried about something?</td>\n",
       "      <td>2616ddbe-a</td>\n",
       "    </tr>\n",
       "    <tr>\n",
       "      <th>455</th>\n",
       "      <td>What may be the reason for you wearing lingerie?</td>\n",
       "      <td>64b6dbcf-b</td>\n",
       "    </tr>\n",
       "    <tr>\n",
       "      <th>1419</th>\n",
       "      <td>What may be the reason for you to be apart fro...</td>\n",
       "      <td>8a099260-d</td>\n",
       "    </tr>\n",
       "    <tr>\n",
       "      <th>1107</th>\n",
       "      <td>What may be the reason for you feeling like this?</td>\n",
       "      <td>02d20d54-6</td>\n",
       "    </tr>\n",
       "    <tr>\n",
       "      <th>1299</th>\n",
       "      <td>What may be the reason why you aren't interest...</td>\n",
       "      <td>c0d80d3d-2</td>\n",
       "    </tr>\n",
       "    <tr>\n",
       "      <th>1052</th>\n",
       "      <td>What may be the reason you distanced yourself ...</td>\n",
       "      <td>1c309951-0</td>\n",
       "    </tr>\n",
       "    <tr>\n",
       "      <th>1557</th>\n",
       "      <td>What might be the reason for you being anxious...</td>\n",
       "      <td>06215297-8</td>\n",
       "    </tr>\n",
       "    <tr>\n",
       "      <th>702</th>\n",
       "      <td>What might be the reason you want to move out?</td>\n",
       "      <td>215a6cf0-c</td>\n",
       "    </tr>\n",
       "    <tr>\n",
       "      <th>855</th>\n",
       "      <td>What may be the reason she is angry?</td>\n",
       "      <td>0a6fa060-f</td>\n",
       "    </tr>\n",
       "    <tr>\n",
       "      <th>118</th>\n",
       "      <td>What may be the reason for you being down and ...</td>\n",
       "      <td>7af158e0-8</td>\n",
       "    </tr>\n",
       "  </tbody>\n",
       "</table>\n",
       "</div>"
      ],
      "text/plain": [
       "                                               question    document\n",
       "584    What might I do if I am worried about something?  2616ddbe-a\n",
       "455    What may be the reason for you wearing lingerie?  64b6dbcf-b\n",
       "1419  What may be the reason for you to be apart fro...  8a099260-d\n",
       "1107  What may be the reason for you feeling like this?  02d20d54-6\n",
       "1299  What may be the reason why you aren't interest...  c0d80d3d-2\n",
       "1052  What may be the reason you distanced yourself ...  1c309951-0\n",
       "1557  What might be the reason for you being anxious...  06215297-8\n",
       "702      What might be the reason you want to move out?  215a6cf0-c\n",
       "855                What may be the reason she is angry?  0a6fa060-f\n",
       "118   What may be the reason for you being down and ...  7af158e0-8"
      ]
     },
     "execution_count": 17,
     "metadata": {},
     "output_type": "execute_result"
    }
   ],
   "source": [
    "questions_df.sample(10)"
   ]
  },
  {
   "cell_type": "code",
   "execution_count": 18,
   "id": "d5d4948a",
   "metadata": {},
   "outputs": [
    {
     "name": "stdout",
     "output_type": "stream",
     "text": [
      "Filesystem      Size  Used Avail Use% Mounted on\r\n",
      "overlay         100G   38G   63G  38% /\r\n",
      "tmpfs            64M     0   64M   0% /dev\r\n",
      "tmpfs           7.7G     0  7.7G   0% /sys/fs/cgroup\r\n",
      "/dev/nvme0n1p1  100G   38G   63G  38% /run\r\n",
      "tmpfs            14G  4.0K   14G   1% /dev/shm\r\n",
      "/dev/nvme2n1    2.0G  3.3M  1.9G   1% /home/jovyan\r\n",
      "tmpfs            14G  124K   14G   1% /home/jovyan/.saturn\r\n",
      "tmpfs            14G   12K   14G   1% /run/secrets/kubernetes.io/serviceaccount\r\n",
      "tmpfs           7.7G   12K  7.7G   1% /proc/driver/nvidia\r\n",
      "tmpfs           7.7G  8.2M  7.7G   1% /run/nvidia-persistenced/socket\r\n",
      "tmpfs           7.7G     0  7.7G   0% /proc/acpi\r\n",
      "tmpfs           7.7G     0  7.7G   0% /sys/firmware\r\n"
     ]
    }
   ],
   "source": [
    "!df -h"
   ]
  },
  {
   "cell_type": "code",
   "execution_count": 19,
   "id": "63123d7a",
   "metadata": {},
   "outputs": [],
   "source": [
    "# Save the original data with IDs\n",
    "df.to_parquet('mental_health_data_with_ids.parquet')\n",
    "\n",
    "# Save the questions data\n",
    "questions_df.to_parquet('ground_truth_data.parquet')"
   ]
  },
  {
   "cell_type": "code",
   "execution_count": 20,
   "id": "39a9078f",
   "metadata": {},
   "outputs": [
    {
     "data": {
      "text/plain": [
       "(831, 3)"
      ]
     },
     "execution_count": 20,
     "metadata": {},
     "output_type": "execute_result"
    }
   ],
   "source": [
    "# Load the Parquet file into a DataFrame\n",
    "df1 = pd.read_parquet('mental_health_data_with_ids.parquet')\n",
    "df1.shape"
   ]
  },
  {
   "cell_type": "code",
   "execution_count": 22,
   "id": "49c123c4",
   "metadata": {},
   "outputs": [
    {
     "data": {
      "text/html": [
       "<div>\n",
       "<style scoped>\n",
       "    .dataframe tbody tr th:only-of-type {\n",
       "        vertical-align: middle;\n",
       "    }\n",
       "\n",
       "    .dataframe tbody tr th {\n",
       "        vertical-align: top;\n",
       "    }\n",
       "\n",
       "    .dataframe thead th {\n",
       "        text-align: right;\n",
       "    }\n",
       "</style>\n",
       "<table border=\"1\" class=\"dataframe\">\n",
       "  <thead>\n",
       "    <tr style=\"text-align: right;\">\n",
       "      <th></th>\n",
       "      <th>Context</th>\n",
       "      <th>Response</th>\n",
       "      <th>document</th>\n",
       "    </tr>\n",
       "  </thead>\n",
       "  <tbody>\n",
       "    <tr>\n",
       "      <th>264</th>\n",
       "      <td>im dealing with an illness that will never go ...</td>\n",
       "      <td>[is it possible that even though your illness ...</td>\n",
       "      <td>8c434cba-5</td>\n",
       "    </tr>\n",
       "    <tr>\n",
       "      <th>249</th>\n",
       "      <td>im a teenager and i just got my first job i am...</td>\n",
       "      <td>[getting your first job is an exciting terrify...</td>\n",
       "      <td>4ab46a4d-d</td>\n",
       "    </tr>\n",
       "    <tr>\n",
       "      <th>634</th>\n",
       "      <td>i think adult life is making him depressed and...</td>\n",
       "      <td>[how do you help yourself to believe you requi...</td>\n",
       "      <td>8b309f9b-2</td>\n",
       "    </tr>\n",
       "    <tr>\n",
       "      <th>454</th>\n",
       "      <td>we live with my expartners sister and her husb...</td>\n",
       "      <td>[hi new york im happy to hear that your daught...</td>\n",
       "      <td>aa4f24f2-1</td>\n",
       "    </tr>\n",
       "    <tr>\n",
       "      <th>157</th>\n",
       "      <td>i have no friends no hobbies and no interest i...</td>\n",
       "      <td>[hello and thank you for your question it cert...</td>\n",
       "      <td>9a92800e-2</td>\n",
       "    </tr>\n",
       "    <tr>\n",
       "      <th>738</th>\n",
       "      <td>my dad beat and mentally abused me so badly th...</td>\n",
       "      <td>[i am so sorry to hear that you are struggling...</td>\n",
       "      <td>d5e21679-8</td>\n",
       "    </tr>\n",
       "    <tr>\n",
       "      <th>341</th>\n",
       "      <td>my boyfriend is in recovery from drug addictio...</td>\n",
       "      <td>[my empathy goes out to you relationships are ...</td>\n",
       "      <td>5b00fb0e-2</td>\n",
       "    </tr>\n",
       "    <tr>\n",
       "      <th>636</th>\n",
       "      <td>i told him i liked him he called me lovely and...</td>\n",
       "      <td>[well as disappointed as you may very well fee...</td>\n",
       "      <td>87979059-7</td>\n",
       "    </tr>\n",
       "    <tr>\n",
       "      <th>564</th>\n",
       "      <td>i got engaged and everything was going well th...</td>\n",
       "      <td>[somehow you knew the marriage wouldnt have a ...</td>\n",
       "      <td>07a4a324-2</td>\n",
       "    </tr>\n",
       "    <tr>\n",
       "      <th>78</th>\n",
       "      <td>i been having anger problems a lot lately it o...</td>\n",
       "      <td>[with me knowing that a healthy relationship u...</td>\n",
       "      <td>5b1082aa-e</td>\n",
       "    </tr>\n",
       "  </tbody>\n",
       "</table>\n",
       "</div>"
      ],
      "text/plain": [
       "                                               Context  \\\n",
       "264  im dealing with an illness that will never go ...   \n",
       "249  im a teenager and i just got my first job i am...   \n",
       "634  i think adult life is making him depressed and...   \n",
       "454  we live with my expartners sister and her husb...   \n",
       "157  i have no friends no hobbies and no interest i...   \n",
       "738  my dad beat and mentally abused me so badly th...   \n",
       "341  my boyfriend is in recovery from drug addictio...   \n",
       "636  i told him i liked him he called me lovely and...   \n",
       "564  i got engaged and everything was going well th...   \n",
       "78   i been having anger problems a lot lately it o...   \n",
       "\n",
       "                                              Response    document  \n",
       "264  [is it possible that even though your illness ...  8c434cba-5  \n",
       "249  [getting your first job is an exciting terrify...  4ab46a4d-d  \n",
       "634  [how do you help yourself to believe you requi...  8b309f9b-2  \n",
       "454  [hi new york im happy to hear that your daught...  aa4f24f2-1  \n",
       "157  [hello and thank you for your question it cert...  9a92800e-2  \n",
       "738  [i am so sorry to hear that you are struggling...  d5e21679-8  \n",
       "341  [my empathy goes out to you relationships are ...  5b00fb0e-2  \n",
       "636  [well as disappointed as you may very well fee...  87979059-7  \n",
       "564  [somehow you knew the marriage wouldnt have a ...  07a4a324-2  \n",
       "78   [with me knowing that a healthy relationship u...  5b1082aa-e  "
      ]
     },
     "execution_count": 22,
     "metadata": {},
     "output_type": "execute_result"
    }
   ],
   "source": [
    "df1.sample(10)"
   ]
  },
  {
   "cell_type": "code",
   "execution_count": 24,
   "id": "cde685ee",
   "metadata": {},
   "outputs": [
    {
     "data": {
      "text/plain": [
       "(1662, 2)"
      ]
     },
     "execution_count": 24,
     "metadata": {},
     "output_type": "execute_result"
    }
   ],
   "source": [
    "df2 = pd.read_parquet('ground_truth_data.parquet')\n",
    "df2.shape"
   ]
  },
  {
   "cell_type": "code",
   "execution_count": 26,
   "id": "20a5c3f2",
   "metadata": {},
   "outputs": [
    {
     "data": {
      "text/html": [
       "<div>\n",
       "<style scoped>\n",
       "    .dataframe tbody tr th:only-of-type {\n",
       "        vertical-align: middle;\n",
       "    }\n",
       "\n",
       "    .dataframe tbody tr th {\n",
       "        vertical-align: top;\n",
       "    }\n",
       "\n",
       "    .dataframe thead th {\n",
       "        text-align: right;\n",
       "    }\n",
       "</style>\n",
       "<table border=\"1\" class=\"dataframe\">\n",
       "  <thead>\n",
       "    <tr style=\"text-align: right;\">\n",
       "      <th></th>\n",
       "      <th>question</th>\n",
       "      <th>document</th>\n",
       "    </tr>\n",
       "  </thead>\n",
       "  <tbody>\n",
       "    <tr>\n",
       "      <th>1652</th>\n",
       "      <td>What might be the reason for you not cutting?</td>\n",
       "      <td>a61f42d3-d</td>\n",
       "    </tr>\n",
       "    <tr>\n",
       "      <th>1653</th>\n",
       "      <td>What might be the reason for you not cutting a...</td>\n",
       "      <td>a61f42d3-d</td>\n",
       "    </tr>\n",
       "    <tr>\n",
       "      <th>1654</th>\n",
       "      <td>What might you do if you want to cut yourself?</td>\n",
       "      <td>3a65764a-e</td>\n",
       "    </tr>\n",
       "    <tr>\n",
       "      <th>1655</th>\n",
       "      <td>What may happen after you cut yourself?</td>\n",
       "      <td>3a65764a-e</td>\n",
       "    </tr>\n",
       "    <tr>\n",
       "      <th>1656</th>\n",
       "      <td>What might happen if you move in with your gir...</td>\n",
       "      <td>33b14d46-a</td>\n",
       "    </tr>\n",
       "    <tr>\n",
       "      <th>1657</th>\n",
       "      <td>What might happen if you moved in with your gi...</td>\n",
       "      <td>33b14d46-a</td>\n",
       "    </tr>\n",
       "    <tr>\n",
       "      <th>1658</th>\n",
       "      <td>What might be the reason for your boyfriend's ...</td>\n",
       "      <td>b5df98a6-c</td>\n",
       "    </tr>\n",
       "    <tr>\n",
       "      <th>1659</th>\n",
       "      <td>What might be the reason for your boyfriend's ...</td>\n",
       "      <td>b5df98a6-c</td>\n",
       "    </tr>\n",
       "    <tr>\n",
       "      <th>1660</th>\n",
       "      <td>What may be the reason you are attracted to ol...</td>\n",
       "      <td>310dbd5b-8</td>\n",
       "    </tr>\n",
       "    <tr>\n",
       "      <th>1661</th>\n",
       "      <td>What may be the reason for your attraction to ...</td>\n",
       "      <td>310dbd5b-8</td>\n",
       "    </tr>\n",
       "  </tbody>\n",
       "</table>\n",
       "</div>"
      ],
      "text/plain": [
       "                                               question    document\n",
       "1652      What might be the reason for you not cutting?  a61f42d3-d\n",
       "1653  What might be the reason for you not cutting a...  a61f42d3-d\n",
       "1654     What might you do if you want to cut yourself?  3a65764a-e\n",
       "1655            What may happen after you cut yourself?  3a65764a-e\n",
       "1656  What might happen if you move in with your gir...  33b14d46-a\n",
       "1657  What might happen if you moved in with your gi...  33b14d46-a\n",
       "1658  What might be the reason for your boyfriend's ...  b5df98a6-c\n",
       "1659  What might be the reason for your boyfriend's ...  b5df98a6-c\n",
       "1660  What may be the reason you are attracted to ol...  310dbd5b-8\n",
       "1661  What may be the reason for your attraction to ...  310dbd5b-8"
      ]
     },
     "execution_count": 26,
     "metadata": {},
     "output_type": "execute_result"
    }
   ],
   "source": [
    "df2.tail(10)"
   ]
  },
  {
   "cell_type": "code",
   "execution_count": null,
   "id": "43c01c1c",
   "metadata": {},
   "outputs": [],
   "source": []
  }
 ],
 "metadata": {
  "kernelspec": {
   "display_name": "saturn (Python 3)",
   "language": "python",
   "name": "python3"
  },
  "language_info": {
   "codemirror_mode": {
    "name": "ipython",
    "version": 3
   },
   "file_extension": ".py",
   "mimetype": "text/x-python",
   "name": "python",
   "nbconvert_exporter": "python",
   "pygments_lexer": "ipython3",
   "version": "3.9.18"
  }
 },
 "nbformat": 4,
 "nbformat_minor": 5
}
