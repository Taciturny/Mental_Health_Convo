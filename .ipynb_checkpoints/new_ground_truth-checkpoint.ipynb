{
 "cells": [
  {
   "cell_type": "code",
   "execution_count": 1,
   "id": "3b027627",
   "metadata": {},
   "outputs": [],
   "source": [
    "import os\n",
    "os.environ['HF_HOME'] = '/run/cache/'"
   ]
  },
  {
   "cell_type": "code",
   "execution_count": 2,
   "id": "8980d2b0",
   "metadata": {},
   "outputs": [
    {
     "data": {
      "text/html": [
       "<div>\n",
       "<style scoped>\n",
       "    .dataframe tbody tr th:only-of-type {\n",
       "        vertical-align: middle;\n",
       "    }\n",
       "\n",
       "    .dataframe tbody tr th {\n",
       "        vertical-align: top;\n",
       "    }\n",
       "\n",
       "    .dataframe thead th {\n",
       "        text-align: right;\n",
       "    }\n",
       "</style>\n",
       "<table border=\"1\" class=\"dataframe\">\n",
       "  <thead>\n",
       "    <tr style=\"text-align: right;\">\n",
       "      <th></th>\n",
       "      <th>context</th>\n",
       "      <th>response</th>\n",
       "      <th>document</th>\n",
       "    </tr>\n",
       "  </thead>\n",
       "  <tbody>\n",
       "    <tr>\n",
       "      <th>894</th>\n",
       "      <td>she was raised by her abusive father and his wife 30 years ago i shot and killed my rapist and was convicted in louisiana i lost custody of my daughter and served 5 years when i was released she was 5 and didnt remember me many many sad memories came from my having to leave her visit after visit having to leave her in texas to travel back to louisiana she doesnt remember that i do\\nover the years i thought we had developed a close mother daughter relationship she gave me good reason to doubt that on several occasions but especially last year i have been cruel to her verbally and to my son who i met years after giving him up for adoption last night i was angry at the world and afraid of god i drank and cussed out a maintenance worker for not doing his job 4 months running now im not only feeling guilty for that but afraid of being evicted now help</td>\n",
       "      <td>was either parent abusive or violent toward youyou sound to have suffered emotionally in your relationships since early in lifeone point to consider is to strive for moderation in what you offer in relationshipsa lot of what youve lived through is extreme either as victim or perpetratorif you imagine that apologizing to the custodian for the way spoke to him would calm him down do soat the very least youll be actively resolving your guilt over cussing at him and fear of his retaliation</td>\n",
       "      <td>d640e5b8-56ea-4bc5-9e33-caaf886bba5f</td>\n",
       "    </tr>\n",
       "    <tr>\n",
       "      <th>70</th>\n",
       "      <td>he isnt violent but he has anger issues and deep insecurities hes working on them and has improved we started counseling and he participated in one or two individual sessions but we broke up again shortly thereafter now his constant questions and accusations are getting really draining</td>\n",
       "      <td>sometimes relationships just do not work  dont feel that the first second or even third relationship is the relationship you are suppose to be in for life   the one that is meant for you will require work but should be be draining and a constant roller coaster of breaking up  it is good you all went to counseling but one or two sessions may not be enough to make and see a change in behavior  it takes times and it takes both working toward the same goal  i would suggest doing youmeaning focusing on your own growth at the time  if he wants to grow with you he will make the necessary steps  if he doesntwish him well | from what you write youre not too happy with how your boyfriend treats you and how he handles his own lifewhat keeps you feeling connected to him in positive waysif youre truly not happy most of the time in this relationship then youre at the time of asking why youd want to remain in a relationship which is draining | hello and thank you for your question i worked for a number of years with people who have been both abused in their relationships and those who have been abusive being involved in a relationship with a partner who does the behaviors you describe can be incredibly difficult and many would argue is even harder than overcoming actual physical violence i was a little confused about whether youre are still broken up with this person or if you are still thinking about it i am going to assume you are still undecided some of the things you are describing sound like emotional abuse even without physical abuse being emotionally abused can still be traumatizing when partners question and accuse they are often trying to exercise power and control over their partners by hurting them with unfounded accusations  the accusations serve to make someone feel guilty and to manipulate them for example if your partner accuses you of cheating when you go out bowling with friends you may elect not to go bowling just to satisfy your partner and prevent a fight from occurring the person being accused or questioned often tries to prove over and over again that they have done nothing wrong but it doesnt matter and that brings me to the point of what some people who experience these behaviors do in order to start feeling like they have some power again here are just a few things1 they realize there is no right answer trying to be logical with someone who doesnt want to be logical doesnt work many people simply stop trying to defend themselves against false accusations because there was no answer that would satisfy their partner anyway in addition the rules of the relationship seem to change on a daily basis and what may be okay with your partner one day may make them angry the next and this can leave people constantly feeling like they are on eggshells  2 the find support finding a support group or a group of people who remind you on a daily basis that you are a decent person is always a good idea one of the things that can happen when we are with someone who does emotionally abusive things is begin to have a negative concept of ourselves surrounding yourself with people who remind you that you are a good person is a great idea 3 they reinvest in themselves try to find some time for yourself this couldnt possibly sound more cliché but it is actually true whether that is taking up a new hobby or doing an old one one thing that can happen when emotional abuse takes place in a relationship is the person being abused can begin to isolate and not do the things that make them enjoy life taking some time for the self can sometimes bring things into perspectivei dont know if you are still in counseling but if you are and you are getting what you need then that is great if not there are others you can try its important to find the right fit as for the question of whether or not you should leave your partner that is a question that can only be answered by you but you could ask yourself some questions  like these to help you decide1 what are some of my values about relationships do i want trust honesty ask yourself if you have these things in your relationship2 do i feel like this relationship brings out the best in me or does it seem to bring me down3 if i want to stay in this relationship what are some specific things that need to change hope some of these suggestions help good luck to you be wellrobin landwehr dbh lpc ncc</td>\n",
       "      <td>0afa9199-26df-438f-8dd9-a586d5e49756</td>\n",
       "    </tr>\n",
       "  </tbody>\n",
       "</table>\n",
       "</div>"
      ],
      "text/plain": [
       "                                                                                                                                                                                                                                                                                                                                                                                                                                                                                                                                                                                                                                                                                                                                                                                                                                                                                        context  \\\n",
       "894  she was raised by her abusive father and his wife 30 years ago i shot and killed my rapist and was convicted in louisiana i lost custody of my daughter and served 5 years when i was released she was 5 and didnt remember me many many sad memories came from my having to leave her visit after visit having to leave her in texas to travel back to louisiana she doesnt remember that i do\\nover the years i thought we had developed a close mother daughter relationship she gave me good reason to doubt that on several occasions but especially last year i have been cruel to her verbally and to my son who i met years after giving him up for adoption last night i was angry at the world and afraid of god i drank and cussed out a maintenance worker for not doing his job 4 months running now im not only feeling guilty for that but afraid of being evicted now help   \n",
       "70                                                                                                                                                                                                                                                                                                                                                                                                                                                                                                                                                                                               he isnt violent but he has anger issues and deep insecurities hes working on them and has improved we started counseling and he participated in one or two individual sessions but we broke up again shortly thereafter now his constant questions and accusations are getting really draining   \n",
       "\n",
       "                                                                                                                                                                                                                                                                                                                                                                                                                                                                                                                                                                                                                                                                                                                                                                                                                                                                                                                                                                                                                                                                                                                                                                                                                                                                                                                                                                                                                                                                                                                                                                                                                                                                                                                                                                                                                                                                                                                                                                                                                                                                                                                                                                                                                                                                                                                                                                                                                                                                                                                                                                                                                                                                                                                                                                                                                                                                                                                                                                                                                                                                                                                                                                                                                                                                                                                                                                                                                                                                                                                                                                                                                                                                                                                                                                                                                                                                                                                                                                                                                                                                                                                                                                                                                                                                                                                                                                                                                                                                                                                                                                    response  \\\n",
       "894                                                                                                                                                                                                                                                                                                                                                                                                                                                                                                                                                                                                                                                                                                                                                                                                                                                                                                                                                                                                                                                                                                                                                                                                                                                                                                                                                                                                                                                                                                                                                                                                                                                                                                                                                                                                                                                                                                                                                                                                                                                                                                                                                                                                                                                                                                                                                                                                                                                                                                                                                                                                                                                                                                                                                                                                                                                                                                                                                                                                                                                                                                                                                                                                                                                                                                                                                                                                                                                                                                                                                                                                                                                                                                                                                                                                                                                                                                                                                                                                                                                               was either parent abusive or violent toward youyou sound to have suffered emotionally in your relationships since early in lifeone point to consider is to strive for moderation in what you offer in relationshipsa lot of what youve lived through is extreme either as victim or perpetratorif you imagine that apologizing to the custodian for the way spoke to him would calm him down do soat the very least youll be actively resolving your guilt over cussing at him and fear of his retaliation   \n",
       "70   sometimes relationships just do not work  dont feel that the first second or even third relationship is the relationship you are suppose to be in for life   the one that is meant for you will require work but should be be draining and a constant roller coaster of breaking up  it is good you all went to counseling but one or two sessions may not be enough to make and see a change in behavior  it takes times and it takes both working toward the same goal  i would suggest doing youmeaning focusing on your own growth at the time  if he wants to grow with you he will make the necessary steps  if he doesntwish him well | from what you write youre not too happy with how your boyfriend treats you and how he handles his own lifewhat keeps you feeling connected to him in positive waysif youre truly not happy most of the time in this relationship then youre at the time of asking why youd want to remain in a relationship which is draining | hello and thank you for your question i worked for a number of years with people who have been both abused in their relationships and those who have been abusive being involved in a relationship with a partner who does the behaviors you describe can be incredibly difficult and many would argue is even harder than overcoming actual physical violence i was a little confused about whether youre are still broken up with this person or if you are still thinking about it i am going to assume you are still undecided some of the things you are describing sound like emotional abuse even without physical abuse being emotionally abused can still be traumatizing when partners question and accuse they are often trying to exercise power and control over their partners by hurting them with unfounded accusations  the accusations serve to make someone feel guilty and to manipulate them for example if your partner accuses you of cheating when you go out bowling with friends you may elect not to go bowling just to satisfy your partner and prevent a fight from occurring the person being accused or questioned often tries to prove over and over again that they have done nothing wrong but it doesnt matter and that brings me to the point of what some people who experience these behaviors do in order to start feeling like they have some power again here are just a few things1 they realize there is no right answer trying to be logical with someone who doesnt want to be logical doesnt work many people simply stop trying to defend themselves against false accusations because there was no answer that would satisfy their partner anyway in addition the rules of the relationship seem to change on a daily basis and what may be okay with your partner one day may make them angry the next and this can leave people constantly feeling like they are on eggshells  2 the find support finding a support group or a group of people who remind you on a daily basis that you are a decent person is always a good idea one of the things that can happen when we are with someone who does emotionally abusive things is begin to have a negative concept of ourselves surrounding yourself with people who remind you that you are a good person is a great idea 3 they reinvest in themselves try to find some time for yourself this couldnt possibly sound more cliché but it is actually true whether that is taking up a new hobby or doing an old one one thing that can happen when emotional abuse takes place in a relationship is the person being abused can begin to isolate and not do the things that make them enjoy life taking some time for the self can sometimes bring things into perspectivei dont know if you are still in counseling but if you are and you are getting what you need then that is great if not there are others you can try its important to find the right fit as for the question of whether or not you should leave your partner that is a question that can only be answered by you but you could ask yourself some questions  like these to help you decide1 what are some of my values about relationships do i want trust honesty ask yourself if you have these things in your relationship2 do i feel like this relationship brings out the best in me or does it seem to bring me down3 if i want to stay in this relationship what are some specific things that need to change hope some of these suggestions help good luck to you be wellrobin landwehr dbh lpc ncc   \n",
       "\n",
       "                                 document  \n",
       "894  d640e5b8-56ea-4bc5-9e33-caaf886bba5f  \n",
       "70   0afa9199-26df-438f-8dd9-a586d5e49756  "
      ]
     },
     "execution_count": 2,
     "metadata": {},
     "output_type": "execute_result"
    }
   ],
   "source": [
    "import pandas as pd\n",
    "# import uuid\n",
    "pd.set_option('display.max_colwidth', None)\n",
    "\n",
    "df = pd.read_json('weaviate_input.json')\n",
    "\n",
    "df.sample(2)"
   ]
  },
  {
   "cell_type": "code",
   "execution_count": 3,
   "id": "b412b29d",
   "metadata": {},
   "outputs": [
    {
     "data": {
      "text/plain": [
       "context     0\n",
       "response    0\n",
       "document    0\n",
       "dtype: int64"
      ]
     },
     "execution_count": 3,
     "metadata": {},
     "output_type": "execute_result"
    }
   ],
   "source": [
    "df.isna().sum()"
   ]
  },
  {
   "cell_type": "code",
   "execution_count": 4,
   "id": "e44a411d",
   "metadata": {},
   "outputs": [
    {
     "name": "stdout",
     "output_type": "stream",
     "text": [
      "Number of unique contexts: 995\n"
     ]
    }
   ],
   "source": [
    "print(f\"Number of unique contexts: {df['context'].nunique()}\")"
   ]
  },
  {
   "cell_type": "code",
   "execution_count": 5,
   "id": "44e0bae0",
   "metadata": {},
   "outputs": [
    {
     "name": "stdout",
     "output_type": "stream",
     "text": [
      "count      995.000000\n",
      "mean      2539.940704\n",
      "std       3524.853501\n",
      "min          1.000000\n",
      "25%        739.000000\n",
      "50%       1367.000000\n",
      "75%       2839.000000\n",
      "max      36220.000000\n",
      "Name: response_length, dtype: float64\n"
     ]
    }
   ],
   "source": [
    "df['response_length'] = df['response'].str.len()\n",
    "print(df['response_length'].describe())"
   ]
  },
  {
   "cell_type": "code",
   "execution_count": 6,
   "id": "9d11aae6",
   "metadata": {},
   "outputs": [
    {
     "name": "stdout",
     "output_type": "stream",
     "text": [
      "Filesystem      Size  Used Avail Use% Mounted on\r\n",
      "overlay         100G   38G   63G  38% /\r\n",
      "tmpfs            64M     0   64M   0% /dev\r\n",
      "tmpfs           7.7G     0  7.7G   0% /sys/fs/cgroup\r\n",
      "/dev/nvme0n1p1  100G   38G   63G  38% /run\r\n",
      "tmpfs            14G     0   14G   0% /dev/shm\r\n",
      "/dev/nvme2n1    2.0G   18M  1.9G   1% /home/jovyan\r\n",
      "tmpfs            14G  124K   14G   1% /home/jovyan/.saturn\r\n",
      "tmpfs            14G   12K   14G   1% /run/secrets/kubernetes.io/serviceaccount\r\n",
      "tmpfs           7.7G   12K  7.7G   1% /proc/driver/nvidia\r\n",
      "tmpfs           7.7G  9.6M  7.7G   1% /run/nvidia-persistenced/socket\r\n",
      "tmpfs           7.7G     0  7.7G   0% /proc/acpi\r\n",
      "tmpfs           7.7G     0  7.7G   0% /sys/firmware\r\n"
     ]
    }
   ],
   "source": [
    "!df -h"
   ]
  },
  {
   "cell_type": "code",
   "execution_count": 7,
   "id": "fa9f0631",
   "metadata": {},
   "outputs": [
    {
     "name": "stderr",
     "output_type": "stream",
     "text": [
      "You are using the default legacy behaviour of the <class 'transformers.models.t5.tokenization_t5.T5Tokenizer'>. This is expected, and simply means that the `legacy` (previous) behavior will be used so nothing changes for you. If you want to use the new behaviour, set `legacy=False`. This should only be set if you understand what it means, and thouroughly read the reason why this was added as explained in https://github.com/huggingface/transformers/pull/24565\n",
      "Special tokens have been added in the vocabulary, make sure the associated word embeddings are fine-tuned or trained.\n"
     ]
    }
   ],
   "source": [
    "from transformers import T5ForConditionalGeneration, T5Tokenizer\n",
    "import torch\n",
    "\n",
    "# Load your data\n",
    "# df1 = df.copy()\n",
    "\n",
    "# Deduplicate contexts and aggregate responses\n",
    "df_unique = df.groupby(['context', 'document'])['response'].agg(list).reset_index()\n",
    "\n",
    "# Load the model and tokenizer\n",
    "model_name = \"google/flan-t5-large\"\n",
    "tokenizer = T5Tokenizer.from_pretrained(model_name)\n",
    "model = T5ForConditionalGeneration.from_pretrained(model_name)"
   ]
  },
  {
   "cell_type": "code",
   "execution_count": null,
   "id": "6a616bbd",
   "metadata": {},
   "outputs": [],
   "source": [
    "def generate_questions(context, num_questions=2):\n",
    "    input_text = f\"Generate {num_questions} questions based on this context: {context}\"\n",
    "    input_ids = tokenizer(input_text, return_tensors=\"pt\", max_length=512, truncation=True).input_ids\n",
    "    \n",
    "    outputs = model.generate(input_ids, max_length=64, num_return_sequences=num_questions, num_beams=4)\n",
    "    \n",
    "    questions = [tokenizer.decode(output, skip_special_tokens=True) for output in outputs]\n",
    "    return questions\n",
    "\n",
    "# Generate questions for each unique context\n",
    "df_unique['generated_questions'] = df_unique['context'].apply(generate_questions)\n",
    "\n",
    "# Explode the questions to create separate rows\n",
    "df_ground_truth = df_unique.explode('generated_questions').reset_index(drop=True)\n",
    "\n",
    "# Rename columns for clarity\n",
    "df_ground_truth = df_ground_truth.rename(columns={\n",
    "    'generated_questions': 'question'\n",
    "})\n",
    "\n",
    "# Select only the 'question' and 'document' columns\n",
    "df_ground_truth = df_ground_truth[['question', 'document']]"
   ]
  },
  {
   "cell_type": "code",
   "execution_count": 10,
   "id": "34c20915",
   "metadata": {},
   "outputs": [
    {
     "name": "stdout",
     "output_type": "stream",
     "text": [
      "Shape of df_ground_truth: (1990, 3)\n",
      "Memory usage of df_ground_truth: 1.18 MB\n",
      "Estimated file size (JSON): 5.99 MB\n"
     ]
    }
   ],
   "source": [
    "import sys\n",
    "\n",
    "# ... (your existing code to create df_ground_truth)\n",
    "\n",
    "# Check shape\n",
    "print(f\"Shape of df_ground_truth: {df_ground_truth.shape}\")\n",
    "\n",
    "# Check memory usage\n",
    "memory_usage = df_ground_truth.memory_usage(deep=True).sum()\n",
    "print(f\"Memory usage of df_ground_truth: {memory_usage / 1e6:.2f} MB\")\n",
    "\n",
    "# Estimate file size (for JSON format)\n",
    "estimated_size = sys.getsizeof(df_ground_truth.to_json()) / 1e6\n",
    "print(f\"Estimated file size (JSON): {estimated_size:.2f} MB\")\n",
    "\n",
    "# # If the size is acceptable, save the DataFrame\n",
    "# if estimated_size < 100:  # For example, if it's less than 100 MB\n",
    "#     df_ground_truth.to_json('data/ground_truth_dataset.json', orient='records', lines=True)\n",
    "#     print(\"Data saved successfully.\")\n",
    "# else:\n",
    "#     print(\"Data size is too large. Consider reducing the dataset or using a different storage method.\")"
   ]
  },
  {
   "cell_type": "code",
   "execution_count": 18,
   "id": "9bed9bae",
   "metadata": {},
   "outputs": [
    {
     "data": {
      "text/plain": [
       "Index(['context', 'response', 'document', 'response_length'], dtype='object')"
      ]
     },
     "execution_count": 18,
     "metadata": {},
     "output_type": "execute_result"
    }
   ],
   "source": [
    "df.columns"
   ]
  },
  {
   "cell_type": "code",
   "execution_count": 12,
   "id": "fafe434f",
   "metadata": {},
   "outputs": [
    {
     "data": {
      "text/plain": [
       "Index(['original_context', 'response', 'question'], dtype='object')"
      ]
     },
     "execution_count": 12,
     "metadata": {},
     "output_type": "execute_result"
    }
   ],
   "source": [
    "df_ground_truth.columns"
   ]
  },
  {
   "cell_type": "code",
   "execution_count": 13,
   "id": "92ef0240",
   "metadata": {},
   "outputs": [],
   "source": [
    "# Save the questions data\n",
    "df_ground_truth.to_parquet('ground_truth_data.parquet')"
   ]
  },
  {
   "cell_type": "code",
   "execution_count": 15,
   "id": "4e8a26ea",
   "metadata": {},
   "outputs": [
    {
     "data": {
      "text/plain": [
       "(1990, 3)"
      ]
     },
     "execution_count": 15,
     "metadata": {},
     "output_type": "execute_result"
    }
   ],
   "source": [
    "df1 = pd.read_parquet('ground_truth_data.parquet')\n",
    "df1.shape"
   ]
  },
  {
   "cell_type": "code",
   "execution_count": 8,
   "id": "056c4804",
   "metadata": {},
   "outputs": [
    {
     "name": "stderr",
     "output_type": "stream",
     "text": [
      "Special tokens have been added in the vocabulary, make sure the associated word embeddings are fine-tuned or trained.\n"
     ]
    }
   ],
   "source": [
    "from transformers import T5ForConditionalGeneration, T5Tokenizer\n",
    "\n",
    "model_name = \"google/flan-t5-large\"\n",
    "tokenizer = T5Tokenizer.from_pretrained(model_name)\n",
    "model = T5ForConditionalGeneration.from_pretrained(model_name)\n",
    "\n",
    "def generate_questions(context, num_questions=2, max_context_length=300):\n",
    "    # Truncate the context if it's too long\n",
    "    context_tokens = tokenizer.encode(context, add_special_tokens=False, truncation=True, max_length=max_context_length)\n",
    "    truncated_context = tokenizer.decode(context_tokens)\n",
    "\n",
    "    prompt = f\"\"\"\n",
    "    You are someone experiencing mental health challenges. Based on the following context, create {num_questions} questions that you might ask a mental health professional or support group:\n",
    "\n",
    "    Context: {truncated_context}\n",
    "\n",
    "    Generate {num_questions} questions:\n",
    "    \"\"\"\n",
    "    \n",
    "    input_ids = tokenizer(prompt, return_tensors=\"pt\", truncation=True, max_length=512).input_ids\n",
    "    \n",
    "    outputs = model.generate(\n",
    "        input_ids,\n",
    "        max_length=150,\n",
    "        num_return_sequences=num_questions,\n",
    "        num_beams=num_questions,\n",
    "        do_sample=True,\n",
    "        temperature=0.7,\n",
    "        no_repeat_ngram_size=2\n",
    "    )\n",
    "    \n",
    "    questions = [tokenizer.decode(output, skip_special_tokens=True) for output in outputs]\n",
    "    return questions"
   ]
  },
  {
   "cell_type": "code",
   "execution_count": 9,
   "id": "8d605bd8",
   "metadata": {},
   "outputs": [],
   "source": [
    "sample_df = df.sample(n=10, random_state=42)\n",
    "\n",
    "# List to store new rows\n",
    "new_rows = []\n",
    "\n",
    "# Generate questions and create new format\n",
    "for index, row in sample_df.iterrows():\n",
    "    questions = generate_questions(row['Context'])\n",
    "    \n",
    "    for i, question in enumerate(questions):\n",
    "        new_rows.append({\n",
    "            'question': question,\n",
    "#             'documents': i,\n",
    "            'document': row['document']\n",
    "        })\n",
    "\n",
    "# Create new dataframe with the desired format\n",
    "questions_df = pd.DataFrame(new_rows)\n",
    "\n",
    "# Reorder columns\n",
    "questions_df = questions_df[['question', 'document']]"
   ]
  },
  {
   "cell_type": "code",
   "execution_count": 10,
   "id": "8459c023",
   "metadata": {},
   "outputs": [
    {
     "data": {
      "text/html": [
       "<div>\n",
       "<style scoped>\n",
       "    .dataframe tbody tr th:only-of-type {\n",
       "        vertical-align: middle;\n",
       "    }\n",
       "\n",
       "    .dataframe tbody tr th {\n",
       "        vertical-align: top;\n",
       "    }\n",
       "\n",
       "    .dataframe thead th {\n",
       "        text-align: right;\n",
       "    }\n",
       "</style>\n",
       "<table border=\"1\" class=\"dataframe\">\n",
       "  <thead>\n",
       "    <tr style=\"text-align: right;\">\n",
       "      <th></th>\n",
       "      <th>question</th>\n",
       "      <th>document</th>\n",
       "    </tr>\n",
       "  </thead>\n",
       "  <tbody>\n",
       "    <tr>\n",
       "      <th>0</th>\n",
       "      <td>What may be the reason for you being in a wome...</td>\n",
       "      <td>e739b2db-1</td>\n",
       "    </tr>\n",
       "    <tr>\n",
       "      <th>1</th>\n",
       "      <td>What may be the reason for you not seeing your...</td>\n",
       "      <td>e739b2db-1</td>\n",
       "    </tr>\n",
       "    <tr>\n",
       "      <th>2</th>\n",
       "      <td>How long has it been since your mother's death?</td>\n",
       "      <td>2510448d-8</td>\n",
       "    </tr>\n",
       "    <tr>\n",
       "      <th>3</th>\n",
       "      <td>How long has it been since your mother died?</td>\n",
       "      <td>2510448d-8</td>\n",
       "    </tr>\n",
       "    <tr>\n",
       "      <th>4</th>\n",
       "      <td>What may be the reason for you to be angry wit...</td>\n",
       "      <td>db959012-6</td>\n",
       "    </tr>\n",
       "  </tbody>\n",
       "</table>\n",
       "</div>"
      ],
      "text/plain": [
       "                                            question    document\n",
       "0  What may be the reason for you being in a wome...  e739b2db-1\n",
       "1  What may be the reason for you not seeing your...  e739b2db-1\n",
       "2    How long has it been since your mother's death?  2510448d-8\n",
       "3       How long has it been since your mother died?  2510448d-8\n",
       "4  What may be the reason for you to be angry wit...  db959012-6"
      ]
     },
     "execution_count": 10,
     "metadata": {},
     "output_type": "execute_result"
    }
   ],
   "source": [
    "questions_df.head()"
   ]
  },
  {
   "cell_type": "code",
   "execution_count": 11,
   "id": "f67639d0",
   "metadata": {},
   "outputs": [
    {
     "data": {
      "text/html": [
       "<div>\n",
       "<style scoped>\n",
       "    .dataframe tbody tr th:only-of-type {\n",
       "        vertical-align: middle;\n",
       "    }\n",
       "\n",
       "    .dataframe tbody tr th {\n",
       "        vertical-align: top;\n",
       "    }\n",
       "\n",
       "    .dataframe thead th {\n",
       "        text-align: right;\n",
       "    }\n",
       "</style>\n",
       "<table border=\"1\" class=\"dataframe\">\n",
       "  <thead>\n",
       "    <tr style=\"text-align: right;\">\n",
       "      <th></th>\n",
       "      <th>Context</th>\n",
       "      <th>Response</th>\n",
       "      <th>document</th>\n",
       "    </tr>\n",
       "  </thead>\n",
       "  <tbody>\n",
       "    <tr>\n",
       "      <th>0</th>\n",
       "      <td>a few years ago i was making love to my wife w...</td>\n",
       "      <td>[first step always is to do a medical rule out...</td>\n",
       "      <td>cb02ebd1-4</td>\n",
       "    </tr>\n",
       "    <tr>\n",
       "      <th>1</th>\n",
       "      <td>a lot of times i avoid situations where i am t...</td>\n",
       "      <td>[hello and thank you for your question first i...</td>\n",
       "      <td>0c9816ff-e</td>\n",
       "    </tr>\n",
       "    <tr>\n",
       "      <th>2</th>\n",
       "      <td>a year ago the love of my life left me and nev...</td>\n",
       "      <td>[who takes care of your son is a significant p...</td>\n",
       "      <td>cd3e9d25-8</td>\n",
       "    </tr>\n",
       "    <tr>\n",
       "      <th>3</th>\n",
       "      <td>about 3 years ago or so i was skinny but i was...</td>\n",
       "      <td>[hey i am so impressed with your efforts to as...</td>\n",
       "      <td>42f38c04-1</td>\n",
       "    </tr>\n",
       "    <tr>\n",
       "      <th>4</th>\n",
       "      <td>about 5 months ago my ex left without fully ex...</td>\n",
       "      <td>[since you realize your sense of trust was bro...</td>\n",
       "      <td>1141a8ca-3</td>\n",
       "    </tr>\n",
       "  </tbody>\n",
       "</table>\n",
       "</div>"
      ],
      "text/plain": [
       "                                             Context  \\\n",
       "0  a few years ago i was making love to my wife w...   \n",
       "1  a lot of times i avoid situations where i am t...   \n",
       "2  a year ago the love of my life left me and nev...   \n",
       "3  about 3 years ago or so i was skinny but i was...   \n",
       "4  about 5 months ago my ex left without fully ex...   \n",
       "\n",
       "                                            Response    document  \n",
       "0  [first step always is to do a medical rule out...  cb02ebd1-4  \n",
       "1  [hello and thank you for your question first i...  0c9816ff-e  \n",
       "2  [who takes care of your son is a significant p...  cd3e9d25-8  \n",
       "3  [hey i am so impressed with your efforts to as...  42f38c04-1  \n",
       "4  [since you realize your sense of trust was bro...  1141a8ca-3  "
      ]
     },
     "execution_count": 11,
     "metadata": {},
     "output_type": "execute_result"
    }
   ],
   "source": [
    "df.head()"
   ]
  },
  {
   "cell_type": "code",
   "execution_count": 14,
   "id": "64c72411",
   "metadata": {},
   "outputs": [],
   "source": [
    "# sample_df = df.sample(n=10, random_state=42)\n",
    "\n",
    "# List to store new rows\n",
    "new_rows = []\n",
    "\n",
    "# Generate questions and create new format\n",
    "for index, row in df.iterrows():\n",
    "    questions = generate_questions(row['Context'])\n",
    "    \n",
    "    for i, question in enumerate(questions):\n",
    "        new_rows.append({\n",
    "            'question': question,\n",
    "#             'documents': i,\n",
    "            'document': row['document']\n",
    "        })\n",
    "\n",
    "# Create new dataframe with the desired format\n",
    "questions_df = pd.DataFrame(new_rows)\n",
    "\n",
    "# Reorder columns\n",
    "questions_df = questions_df[['question', 'document']]"
   ]
  },
  {
   "cell_type": "code",
   "execution_count": 15,
   "id": "d11209a8",
   "metadata": {},
   "outputs": [
    {
     "data": {
      "text/plain": [
       "(1662, 2)"
      ]
     },
     "execution_count": 15,
     "metadata": {},
     "output_type": "execute_result"
    }
   ],
   "source": [
    "questions_df.shape"
   ]
  },
  {
   "cell_type": "code",
   "execution_count": 17,
   "id": "2ab8c6d4",
   "metadata": {},
   "outputs": [
    {
     "data": {
      "text/html": [
       "<div>\n",
       "<style scoped>\n",
       "    .dataframe tbody tr th:only-of-type {\n",
       "        vertical-align: middle;\n",
       "    }\n",
       "\n",
       "    .dataframe tbody tr th {\n",
       "        vertical-align: top;\n",
       "    }\n",
       "\n",
       "    .dataframe thead th {\n",
       "        text-align: right;\n",
       "    }\n",
       "</style>\n",
       "<table border=\"1\" class=\"dataframe\">\n",
       "  <thead>\n",
       "    <tr style=\"text-align: right;\">\n",
       "      <th></th>\n",
       "      <th>question</th>\n",
       "      <th>document</th>\n",
       "    </tr>\n",
       "  </thead>\n",
       "  <tbody>\n",
       "    <tr>\n",
       "      <th>584</th>\n",
       "      <td>What might I do if I am worried about something?</td>\n",
       "      <td>2616ddbe-a</td>\n",
       "    </tr>\n",
       "    <tr>\n",
       "      <th>455</th>\n",
       "      <td>What may be the reason for you wearing lingerie?</td>\n",
       "      <td>64b6dbcf-b</td>\n",
       "    </tr>\n",
       "    <tr>\n",
       "      <th>1419</th>\n",
       "      <td>What may be the reason for you to be apart fro...</td>\n",
       "      <td>8a099260-d</td>\n",
       "    </tr>\n",
       "    <tr>\n",
       "      <th>1107</th>\n",
       "      <td>What may be the reason for you feeling like this?</td>\n",
       "      <td>02d20d54-6</td>\n",
       "    </tr>\n",
       "    <tr>\n",
       "      <th>1299</th>\n",
       "      <td>What may be the reason why you aren't interest...</td>\n",
       "      <td>c0d80d3d-2</td>\n",
       "    </tr>\n",
       "    <tr>\n",
       "      <th>1052</th>\n",
       "      <td>What may be the reason you distanced yourself ...</td>\n",
       "      <td>1c309951-0</td>\n",
       "    </tr>\n",
       "    <tr>\n",
       "      <th>1557</th>\n",
       "      <td>What might be the reason for you being anxious...</td>\n",
       "      <td>06215297-8</td>\n",
       "    </tr>\n",
       "    <tr>\n",
       "      <th>702</th>\n",
       "      <td>What might be the reason you want to move out?</td>\n",
       "      <td>215a6cf0-c</td>\n",
       "    </tr>\n",
       "    <tr>\n",
       "      <th>855</th>\n",
       "      <td>What may be the reason she is angry?</td>\n",
       "      <td>0a6fa060-f</td>\n",
       "    </tr>\n",
       "    <tr>\n",
       "      <th>118</th>\n",
       "      <td>What may be the reason for you being down and ...</td>\n",
       "      <td>7af158e0-8</td>\n",
       "    </tr>\n",
       "  </tbody>\n",
       "</table>\n",
       "</div>"
      ],
      "text/plain": [
       "                                               question    document\n",
       "584    What might I do if I am worried about something?  2616ddbe-a\n",
       "455    What may be the reason for you wearing lingerie?  64b6dbcf-b\n",
       "1419  What may be the reason for you to be apart fro...  8a099260-d\n",
       "1107  What may be the reason for you feeling like this?  02d20d54-6\n",
       "1299  What may be the reason why you aren't interest...  c0d80d3d-2\n",
       "1052  What may be the reason you distanced yourself ...  1c309951-0\n",
       "1557  What might be the reason for you being anxious...  06215297-8\n",
       "702      What might be the reason you want to move out?  215a6cf0-c\n",
       "855                What may be the reason she is angry?  0a6fa060-f\n",
       "118   What may be the reason for you being down and ...  7af158e0-8"
      ]
     },
     "execution_count": 17,
     "metadata": {},
     "output_type": "execute_result"
    }
   ],
   "source": [
    "questions_df.sample(10)"
   ]
  },
  {
   "cell_type": "code",
   "execution_count": 18,
   "id": "d5d4948a",
   "metadata": {},
   "outputs": [
    {
     "name": "stdout",
     "output_type": "stream",
     "text": [
      "Filesystem      Size  Used Avail Use% Mounted on\r\n",
      "overlay         100G   38G   63G  38% /\r\n",
      "tmpfs            64M     0   64M   0% /dev\r\n",
      "tmpfs           7.7G     0  7.7G   0% /sys/fs/cgroup\r\n",
      "/dev/nvme0n1p1  100G   38G   63G  38% /run\r\n",
      "tmpfs            14G  4.0K   14G   1% /dev/shm\r\n",
      "/dev/nvme2n1    2.0G  3.3M  1.9G   1% /home/jovyan\r\n",
      "tmpfs            14G  124K   14G   1% /home/jovyan/.saturn\r\n",
      "tmpfs            14G   12K   14G   1% /run/secrets/kubernetes.io/serviceaccount\r\n",
      "tmpfs           7.7G   12K  7.7G   1% /proc/driver/nvidia\r\n",
      "tmpfs           7.7G  8.2M  7.7G   1% /run/nvidia-persistenced/socket\r\n",
      "tmpfs           7.7G     0  7.7G   0% /proc/acpi\r\n",
      "tmpfs           7.7G     0  7.7G   0% /sys/firmware\r\n"
     ]
    }
   ],
   "source": [
    "!df -h"
   ]
  },
  {
   "cell_type": "code",
   "execution_count": 19,
   "id": "63123d7a",
   "metadata": {},
   "outputs": [],
   "source": [
    "# Save the original data with IDs\n",
    "df.to_parquet('mental_health_data_with_ids.parquet')\n",
    "\n",
    "# Save the questions data\n",
    "questions_df.to_parquet('ground_truth_data.parquet')"
   ]
  },
  {
   "cell_type": "code",
   "execution_count": 20,
   "id": "39a9078f",
   "metadata": {},
   "outputs": [
    {
     "data": {
      "text/plain": [
       "(831, 3)"
      ]
     },
     "execution_count": 20,
     "metadata": {},
     "output_type": "execute_result"
    }
   ],
   "source": [
    "# Load the Parquet file into a DataFrame\n",
    "df1 = pd.read_parquet('mental_health_data_with_ids.parquet')\n",
    "df1.shape"
   ]
  },
  {
   "cell_type": "code",
   "execution_count": 22,
   "id": "49c123c4",
   "metadata": {},
   "outputs": [
    {
     "data": {
      "text/html": [
       "<div>\n",
       "<style scoped>\n",
       "    .dataframe tbody tr th:only-of-type {\n",
       "        vertical-align: middle;\n",
       "    }\n",
       "\n",
       "    .dataframe tbody tr th {\n",
       "        vertical-align: top;\n",
       "    }\n",
       "\n",
       "    .dataframe thead th {\n",
       "        text-align: right;\n",
       "    }\n",
       "</style>\n",
       "<table border=\"1\" class=\"dataframe\">\n",
       "  <thead>\n",
       "    <tr style=\"text-align: right;\">\n",
       "      <th></th>\n",
       "      <th>Context</th>\n",
       "      <th>Response</th>\n",
       "      <th>document</th>\n",
       "    </tr>\n",
       "  </thead>\n",
       "  <tbody>\n",
       "    <tr>\n",
       "      <th>264</th>\n",
       "      <td>im dealing with an illness that will never go ...</td>\n",
       "      <td>[is it possible that even though your illness ...</td>\n",
       "      <td>8c434cba-5</td>\n",
       "    </tr>\n",
       "    <tr>\n",
       "      <th>249</th>\n",
       "      <td>im a teenager and i just got my first job i am...</td>\n",
       "      <td>[getting your first job is an exciting terrify...</td>\n",
       "      <td>4ab46a4d-d</td>\n",
       "    </tr>\n",
       "    <tr>\n",
       "      <th>634</th>\n",
       "      <td>i think adult life is making him depressed and...</td>\n",
       "      <td>[how do you help yourself to believe you requi...</td>\n",
       "      <td>8b309f9b-2</td>\n",
       "    </tr>\n",
       "    <tr>\n",
       "      <th>454</th>\n",
       "      <td>we live with my expartners sister and her husb...</td>\n",
       "      <td>[hi new york im happy to hear that your daught...</td>\n",
       "      <td>aa4f24f2-1</td>\n",
       "    </tr>\n",
       "    <tr>\n",
       "      <th>157</th>\n",
       "      <td>i have no friends no hobbies and no interest i...</td>\n",
       "      <td>[hello and thank you for your question it cert...</td>\n",
       "      <td>9a92800e-2</td>\n",
       "    </tr>\n",
       "    <tr>\n",
       "      <th>738</th>\n",
       "      <td>my dad beat and mentally abused me so badly th...</td>\n",
       "      <td>[i am so sorry to hear that you are struggling...</td>\n",
       "      <td>d5e21679-8</td>\n",
       "    </tr>\n",
       "    <tr>\n",
       "      <th>341</th>\n",
       "      <td>my boyfriend is in recovery from drug addictio...</td>\n",
       "      <td>[my empathy goes out to you relationships are ...</td>\n",
       "      <td>5b00fb0e-2</td>\n",
       "    </tr>\n",
       "    <tr>\n",
       "      <th>636</th>\n",
       "      <td>i told him i liked him he called me lovely and...</td>\n",
       "      <td>[well as disappointed as you may very well fee...</td>\n",
       "      <td>87979059-7</td>\n",
       "    </tr>\n",
       "    <tr>\n",
       "      <th>564</th>\n",
       "      <td>i got engaged and everything was going well th...</td>\n",
       "      <td>[somehow you knew the marriage wouldnt have a ...</td>\n",
       "      <td>07a4a324-2</td>\n",
       "    </tr>\n",
       "    <tr>\n",
       "      <th>78</th>\n",
       "      <td>i been having anger problems a lot lately it o...</td>\n",
       "      <td>[with me knowing that a healthy relationship u...</td>\n",
       "      <td>5b1082aa-e</td>\n",
       "    </tr>\n",
       "  </tbody>\n",
       "</table>\n",
       "</div>"
      ],
      "text/plain": [
       "                                               Context  \\\n",
       "264  im dealing with an illness that will never go ...   \n",
       "249  im a teenager and i just got my first job i am...   \n",
       "634  i think adult life is making him depressed and...   \n",
       "454  we live with my expartners sister and her husb...   \n",
       "157  i have no friends no hobbies and no interest i...   \n",
       "738  my dad beat and mentally abused me so badly th...   \n",
       "341  my boyfriend is in recovery from drug addictio...   \n",
       "636  i told him i liked him he called me lovely and...   \n",
       "564  i got engaged and everything was going well th...   \n",
       "78   i been having anger problems a lot lately it o...   \n",
       "\n",
       "                                              Response    document  \n",
       "264  [is it possible that even though your illness ...  8c434cba-5  \n",
       "249  [getting your first job is an exciting terrify...  4ab46a4d-d  \n",
       "634  [how do you help yourself to believe you requi...  8b309f9b-2  \n",
       "454  [hi new york im happy to hear that your daught...  aa4f24f2-1  \n",
       "157  [hello and thank you for your question it cert...  9a92800e-2  \n",
       "738  [i am so sorry to hear that you are struggling...  d5e21679-8  \n",
       "341  [my empathy goes out to you relationships are ...  5b00fb0e-2  \n",
       "636  [well as disappointed as you may very well fee...  87979059-7  \n",
       "564  [somehow you knew the marriage wouldnt have a ...  07a4a324-2  \n",
       "78   [with me knowing that a healthy relationship u...  5b1082aa-e  "
      ]
     },
     "execution_count": 22,
     "metadata": {},
     "output_type": "execute_result"
    }
   ],
   "source": [
    "df1.sample(10)"
   ]
  },
  {
   "cell_type": "code",
   "execution_count": 24,
   "id": "cde685ee",
   "metadata": {},
   "outputs": [
    {
     "data": {
      "text/plain": [
       "(1662, 2)"
      ]
     },
     "execution_count": 24,
     "metadata": {},
     "output_type": "execute_result"
    }
   ],
   "source": [
    "df2 = pd.read_parquet('ground_truth_data.parquet')\n",
    "df2.shape"
   ]
  },
  {
   "cell_type": "code",
   "execution_count": 26,
   "id": "20a5c3f2",
   "metadata": {},
   "outputs": [
    {
     "data": {
      "text/html": [
       "<div>\n",
       "<style scoped>\n",
       "    .dataframe tbody tr th:only-of-type {\n",
       "        vertical-align: middle;\n",
       "    }\n",
       "\n",
       "    .dataframe tbody tr th {\n",
       "        vertical-align: top;\n",
       "    }\n",
       "\n",
       "    .dataframe thead th {\n",
       "        text-align: right;\n",
       "    }\n",
       "</style>\n",
       "<table border=\"1\" class=\"dataframe\">\n",
       "  <thead>\n",
       "    <tr style=\"text-align: right;\">\n",
       "      <th></th>\n",
       "      <th>question</th>\n",
       "      <th>document</th>\n",
       "    </tr>\n",
       "  </thead>\n",
       "  <tbody>\n",
       "    <tr>\n",
       "      <th>1652</th>\n",
       "      <td>What might be the reason for you not cutting?</td>\n",
       "      <td>a61f42d3-d</td>\n",
       "    </tr>\n",
       "    <tr>\n",
       "      <th>1653</th>\n",
       "      <td>What might be the reason for you not cutting a...</td>\n",
       "      <td>a61f42d3-d</td>\n",
       "    </tr>\n",
       "    <tr>\n",
       "      <th>1654</th>\n",
       "      <td>What might you do if you want to cut yourself?</td>\n",
       "      <td>3a65764a-e</td>\n",
       "    </tr>\n",
       "    <tr>\n",
       "      <th>1655</th>\n",
       "      <td>What may happen after you cut yourself?</td>\n",
       "      <td>3a65764a-e</td>\n",
       "    </tr>\n",
       "    <tr>\n",
       "      <th>1656</th>\n",
       "      <td>What might happen if you move in with your gir...</td>\n",
       "      <td>33b14d46-a</td>\n",
       "    </tr>\n",
       "    <tr>\n",
       "      <th>1657</th>\n",
       "      <td>What might happen if you moved in with your gi...</td>\n",
       "      <td>33b14d46-a</td>\n",
       "    </tr>\n",
       "    <tr>\n",
       "      <th>1658</th>\n",
       "      <td>What might be the reason for your boyfriend's ...</td>\n",
       "      <td>b5df98a6-c</td>\n",
       "    </tr>\n",
       "    <tr>\n",
       "      <th>1659</th>\n",
       "      <td>What might be the reason for your boyfriend's ...</td>\n",
       "      <td>b5df98a6-c</td>\n",
       "    </tr>\n",
       "    <tr>\n",
       "      <th>1660</th>\n",
       "      <td>What may be the reason you are attracted to ol...</td>\n",
       "      <td>310dbd5b-8</td>\n",
       "    </tr>\n",
       "    <tr>\n",
       "      <th>1661</th>\n",
       "      <td>What may be the reason for your attraction to ...</td>\n",
       "      <td>310dbd5b-8</td>\n",
       "    </tr>\n",
       "  </tbody>\n",
       "</table>\n",
       "</div>"
      ],
      "text/plain": [
       "                                               question    document\n",
       "1652      What might be the reason for you not cutting?  a61f42d3-d\n",
       "1653  What might be the reason for you not cutting a...  a61f42d3-d\n",
       "1654     What might you do if you want to cut yourself?  3a65764a-e\n",
       "1655            What may happen after you cut yourself?  3a65764a-e\n",
       "1656  What might happen if you move in with your gir...  33b14d46-a\n",
       "1657  What might happen if you moved in with your gi...  33b14d46-a\n",
       "1658  What might be the reason for your boyfriend's ...  b5df98a6-c\n",
       "1659  What might be the reason for your boyfriend's ...  b5df98a6-c\n",
       "1660  What may be the reason you are attracted to ol...  310dbd5b-8\n",
       "1661  What may be the reason for your attraction to ...  310dbd5b-8"
      ]
     },
     "execution_count": 26,
     "metadata": {},
     "output_type": "execute_result"
    }
   ],
   "source": [
    "df2.tail(10)"
   ]
  },
  {
   "cell_type": "code",
   "execution_count": null,
   "id": "43c01c1c",
   "metadata": {},
   "outputs": [],
   "source": []
  }
 ],
 "metadata": {
  "kernelspec": {
   "display_name": "saturn (Python 3)",
   "language": "python",
   "name": "python3"
  },
  "language_info": {
   "codemirror_mode": {
    "name": "ipython",
    "version": 3
   },
   "file_extension": ".py",
   "mimetype": "text/x-python",
   "name": "python",
   "nbconvert_exporter": "python",
   "pygments_lexer": "ipython3",
   "version": "3.9.18"
  }
 },
 "nbformat": 4,
 "nbformat_minor": 5
}
