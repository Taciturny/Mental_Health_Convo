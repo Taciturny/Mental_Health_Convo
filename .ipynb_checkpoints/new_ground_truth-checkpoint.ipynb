{
 "cells": [
  {
   "cell_type": "code",
   "execution_count": 1,
   "id": "3b027627",
   "metadata": {},
   "outputs": [],
   "source": [
    "import os\n",
    "os.environ['HF_HOME'] = '/run/cache/'"
   ]
  },
  {
   "cell_type": "code",
   "execution_count": 2,
   "id": "8980d2b0",
   "metadata": {},
   "outputs": [
    {
     "data": {
      "text/html": [
       "<div>\n",
       "<style scoped>\n",
       "    .dataframe tbody tr th:only-of-type {\n",
       "        vertical-align: middle;\n",
       "    }\n",
       "\n",
       "    .dataframe tbody tr th {\n",
       "        vertical-align: top;\n",
       "    }\n",
       "\n",
       "    .dataframe thead th {\n",
       "        text-align: right;\n",
       "    }\n",
       "</style>\n",
       "<table border=\"1\" class=\"dataframe\">\n",
       "  <thead>\n",
       "    <tr style=\"text-align: right;\">\n",
       "      <th></th>\n",
       "      <th>context</th>\n",
       "      <th>response</th>\n",
       "      <th>document</th>\n",
       "    </tr>\n",
       "  </thead>\n",
       "  <tbody>\n",
       "    <tr>\n",
       "      <th>894</th>\n",
       "      <td>she was raised by her abusive father and his wife 30 years ago i shot and killed my rapist and was convicted in louisiana i lost custody of my daughter and served 5 years when i was released she was 5 and didnt remember me many many sad memories came from my having to leave her visit after visit having to leave her in texas to travel back to louisiana she doesnt remember that i do\\nover the years i thought we had developed a close mother daughter relationship she gave me good reason to doubt that on several occasions but especially last year i have been cruel to her verbally and to my son who i met years after giving him up for adoption last night i was angry at the world and afraid of god i drank and cussed out a maintenance worker for not doing his job 4 months running now im not only feeling guilty for that but afraid of being evicted now help</td>\n",
       "      <td>was either parent abusive or violent toward youyou sound to have suffered emotionally in your relationships since early in lifeone point to consider is to strive for moderation in what you offer in relationshipsa lot of what youve lived through is extreme either as victim or perpetratorif you imagine that apologizing to the custodian for the way spoke to him would calm him down do soat the very least youll be actively resolving your guilt over cussing at him and fear of his retaliation</td>\n",
       "      <td>d640e5b8-56ea-4bc5-9e33-caaf886bba5f</td>\n",
       "    </tr>\n",
       "    <tr>\n",
       "      <th>70</th>\n",
       "      <td>he isnt violent but he has anger issues and deep insecurities hes working on them and has improved we started counseling and he participated in one or two individual sessions but we broke up again shortly thereafter now his constant questions and accusations are getting really draining</td>\n",
       "      <td>sometimes relationships just do not work  dont feel that the first second or even third relationship is the relationship you are suppose to be in for life   the one that is meant for you will require work but should be be draining and a constant roller coaster of breaking up  it is good you all went to counseling but one or two sessions may not be enough to make and see a change in behavior  it takes times and it takes both working toward the same goal  i would suggest doing youmeaning focusing on your own growth at the time  if he wants to grow with you he will make the necessary steps  if he doesntwish him well | from what you write youre not too happy with how your boyfriend treats you and how he handles his own lifewhat keeps you feeling connected to him in positive waysif youre truly not happy most of the time in this relationship then youre at the time of asking why youd want to remain in a relationship which is draining | hello and thank you for your question i worked for a number of years with people who have been both abused in their relationships and those who have been abusive being involved in a relationship with a partner who does the behaviors you describe can be incredibly difficult and many would argue is even harder than overcoming actual physical violence i was a little confused about whether youre are still broken up with this person or if you are still thinking about it i am going to assume you are still undecided some of the things you are describing sound like emotional abuse even without physical abuse being emotionally abused can still be traumatizing when partners question and accuse they are often trying to exercise power and control over their partners by hurting them with unfounded accusations  the accusations serve to make someone feel guilty and to manipulate them for example if your partner accuses you of cheating when you go out bowling with friends you may elect not to go bowling just to satisfy your partner and prevent a fight from occurring the person being accused or questioned often tries to prove over and over again that they have done nothing wrong but it doesnt matter and that brings me to the point of what some people who experience these behaviors do in order to start feeling like they have some power again here are just a few things1 they realize there is no right answer trying to be logical with someone who doesnt want to be logical doesnt work many people simply stop trying to defend themselves against false accusations because there was no answer that would satisfy their partner anyway in addition the rules of the relationship seem to change on a daily basis and what may be okay with your partner one day may make them angry the next and this can leave people constantly feeling like they are on eggshells  2 the find support finding a support group or a group of people who remind you on a daily basis that you are a decent person is always a good idea one of the things that can happen when we are with someone who does emotionally abusive things is begin to have a negative concept of ourselves surrounding yourself with people who remind you that you are a good person is a great idea 3 they reinvest in themselves try to find some time for yourself this couldnt possibly sound more cliché but it is actually true whether that is taking up a new hobby or doing an old one one thing that can happen when emotional abuse takes place in a relationship is the person being abused can begin to isolate and not do the things that make them enjoy life taking some time for the self can sometimes bring things into perspectivei dont know if you are still in counseling but if you are and you are getting what you need then that is great if not there are others you can try its important to find the right fit as for the question of whether or not you should leave your partner that is a question that can only be answered by you but you could ask yourself some questions  like these to help you decide1 what are some of my values about relationships do i want trust honesty ask yourself if you have these things in your relationship2 do i feel like this relationship brings out the best in me or does it seem to bring me down3 if i want to stay in this relationship what are some specific things that need to change hope some of these suggestions help good luck to you be wellrobin landwehr dbh lpc ncc</td>\n",
       "      <td>0afa9199-26df-438f-8dd9-a586d5e49756</td>\n",
       "    </tr>\n",
       "  </tbody>\n",
       "</table>\n",
       "</div>"
      ],
      "text/plain": [
       "                                                                                                                                                                                                                                                                                                                                                                                                                                                                                                                                                                                                                                                                                                                                                                                                                                                                                        context  \\\n",
       "894  she was raised by her abusive father and his wife 30 years ago i shot and killed my rapist and was convicted in louisiana i lost custody of my daughter and served 5 years when i was released she was 5 and didnt remember me many many sad memories came from my having to leave her visit after visit having to leave her in texas to travel back to louisiana she doesnt remember that i do\\nover the years i thought we had developed a close mother daughter relationship she gave me good reason to doubt that on several occasions but especially last year i have been cruel to her verbally and to my son who i met years after giving him up for adoption last night i was angry at the world and afraid of god i drank and cussed out a maintenance worker for not doing his job 4 months running now im not only feeling guilty for that but afraid of being evicted now help   \n",
       "70                                                                                                                                                                                                                                                                                                                                                                                                                                                                                                                                                                                               he isnt violent but he has anger issues and deep insecurities hes working on them and has improved we started counseling and he participated in one or two individual sessions but we broke up again shortly thereafter now his constant questions and accusations are getting really draining   \n",
       "\n",
       "                                                                                                                                                                                                                                                                                                                                                                                                                                                                                                                                                                                                                                                                                                                                                                                                                                                                                                                                                                                                                                                                                                                                                                                                                                                                                                                                                                                                                                                                                                                                                                                                                                                                                                                                                                                                                                                                                                                                                                                                                                                                                                                                                                                                                                                                                                                                                                                                                                                                                                                                                                                                                                                                                                                                                                                                                                                                                                                                                                                                                                                                                                                                                                                                                                                                                                                                                                                                                                                                                                                                                                                                                                                                                                                                                                                                                                                                                                                                                                                                                                                                                                                                                                                                                                                                                                                                                                                                                                                                                                                                                                    response  \\\n",
       "894                                                                                                                                                                                                                                                                                                                                                                                                                                                                                                                                                                                                                                                                                                                                                                                                                                                                                                                                                                                                                                                                                                                                                                                                                                                                                                                                                                                                                                                                                                                                                                                                                                                                                                                                                                                                                                                                                                                                                                                                                                                                                                                                                                                                                                                                                                                                                                                                                                                                                                                                                                                                                                                                                                                                                                                                                                                                                                                                                                                                                                                                                                                                                                                                                                                                                                                                                                                                                                                                                                                                                                                                                                                                                                                                                                                                                                                                                                                                                                                                                                                               was either parent abusive or violent toward youyou sound to have suffered emotionally in your relationships since early in lifeone point to consider is to strive for moderation in what you offer in relationshipsa lot of what youve lived through is extreme either as victim or perpetratorif you imagine that apologizing to the custodian for the way spoke to him would calm him down do soat the very least youll be actively resolving your guilt over cussing at him and fear of his retaliation   \n",
       "70   sometimes relationships just do not work  dont feel that the first second or even third relationship is the relationship you are suppose to be in for life   the one that is meant for you will require work but should be be draining and a constant roller coaster of breaking up  it is good you all went to counseling but one or two sessions may not be enough to make and see a change in behavior  it takes times and it takes both working toward the same goal  i would suggest doing youmeaning focusing on your own growth at the time  if he wants to grow with you he will make the necessary steps  if he doesntwish him well | from what you write youre not too happy with how your boyfriend treats you and how he handles his own lifewhat keeps you feeling connected to him in positive waysif youre truly not happy most of the time in this relationship then youre at the time of asking why youd want to remain in a relationship which is draining | hello and thank you for your question i worked for a number of years with people who have been both abused in their relationships and those who have been abusive being involved in a relationship with a partner who does the behaviors you describe can be incredibly difficult and many would argue is even harder than overcoming actual physical violence i was a little confused about whether youre are still broken up with this person or if you are still thinking about it i am going to assume you are still undecided some of the things you are describing sound like emotional abuse even without physical abuse being emotionally abused can still be traumatizing when partners question and accuse they are often trying to exercise power and control over their partners by hurting them with unfounded accusations  the accusations serve to make someone feel guilty and to manipulate them for example if your partner accuses you of cheating when you go out bowling with friends you may elect not to go bowling just to satisfy your partner and prevent a fight from occurring the person being accused or questioned often tries to prove over and over again that they have done nothing wrong but it doesnt matter and that brings me to the point of what some people who experience these behaviors do in order to start feeling like they have some power again here are just a few things1 they realize there is no right answer trying to be logical with someone who doesnt want to be logical doesnt work many people simply stop trying to defend themselves against false accusations because there was no answer that would satisfy their partner anyway in addition the rules of the relationship seem to change on a daily basis and what may be okay with your partner one day may make them angry the next and this can leave people constantly feeling like they are on eggshells  2 the find support finding a support group or a group of people who remind you on a daily basis that you are a decent person is always a good idea one of the things that can happen when we are with someone who does emotionally abusive things is begin to have a negative concept of ourselves surrounding yourself with people who remind you that you are a good person is a great idea 3 they reinvest in themselves try to find some time for yourself this couldnt possibly sound more cliché but it is actually true whether that is taking up a new hobby or doing an old one one thing that can happen when emotional abuse takes place in a relationship is the person being abused can begin to isolate and not do the things that make them enjoy life taking some time for the self can sometimes bring things into perspectivei dont know if you are still in counseling but if you are and you are getting what you need then that is great if not there are others you can try its important to find the right fit as for the question of whether or not you should leave your partner that is a question that can only be answered by you but you could ask yourself some questions  like these to help you decide1 what are some of my values about relationships do i want trust honesty ask yourself if you have these things in your relationship2 do i feel like this relationship brings out the best in me or does it seem to bring me down3 if i want to stay in this relationship what are some specific things that need to change hope some of these suggestions help good luck to you be wellrobin landwehr dbh lpc ncc   \n",
       "\n",
       "                                 document  \n",
       "894  d640e5b8-56ea-4bc5-9e33-caaf886bba5f  \n",
       "70   0afa9199-26df-438f-8dd9-a586d5e49756  "
      ]
     },
     "execution_count": 2,
     "metadata": {},
     "output_type": "execute_result"
    }
   ],
   "source": [
    "import pandas as pd\n",
    "# import uuid\n",
    "pd.set_option('display.max_colwidth', None)\n",
    "\n",
    "df = pd.read_json('weaviate_input.json')\n",
    "\n",
    "df.sample(2)"
   ]
  },
  {
   "cell_type": "code",
   "execution_count": 3,
   "id": "bd8625af",
   "metadata": {},
   "outputs": [
    {
     "data": {
      "text/plain": [
       "context     0\n",
       "response    0\n",
       "document    0\n",
       "dtype: int64"
      ]
     },
     "execution_count": 3,
     "metadata": {},
     "output_type": "execute_result"
    }
   ],
   "source": [
    "df.isna().sum()"
   ]
  },
  {
   "cell_type": "code",
   "execution_count": 4,
   "id": "129bd191",
   "metadata": {},
   "outputs": [
    {
     "name": "stdout",
     "output_type": "stream",
     "text": [
      "Number of unique contexts: 995\n"
     ]
    }
   ],
   "source": [
    "print(f\"Number of unique contexts: {df['context'].nunique()}\")"
   ]
  },
  {
   "cell_type": "code",
   "execution_count": 5,
   "id": "596d3dd5",
   "metadata": {},
   "outputs": [
    {
     "name": "stdout",
     "output_type": "stream",
     "text": [
      "count      995.000000\n",
      "mean      2539.940704\n",
      "std       3524.853501\n",
      "min          1.000000\n",
      "25%        739.000000\n",
      "50%       1367.000000\n",
      "75%       2839.000000\n",
      "max      36220.000000\n",
      "Name: response_length, dtype: float64\n"
     ]
    }
   ],
   "source": [
    "df['response_length'] = df['response'].str.len()\n",
    "print(df['response_length'].describe())"
   ]
  },
  {
   "cell_type": "code",
   "execution_count": 6,
   "id": "9d11aae6",
   "metadata": {},
   "outputs": [
    {
     "name": "stdout",
     "output_type": "stream",
     "text": [
      "Filesystem      Size  Used Avail Use% Mounted on\r\n",
      "overlay         100G   38G   63G  38% /\r\n",
      "tmpfs            64M     0   64M   0% /dev\r\n",
      "tmpfs           7.7G     0  7.7G   0% /sys/fs/cgroup\r\n",
      "/dev/nvme0n1p1  100G   38G   63G  38% /run\r\n",
      "tmpfs            14G     0   14G   0% /dev/shm\r\n",
      "/dev/nvme2n1    2.0G   18M  1.9G   1% /home/jovyan\r\n",
      "tmpfs            14G  124K   14G   1% /home/jovyan/.saturn\r\n",
      "tmpfs            14G   12K   14G   1% /run/secrets/kubernetes.io/serviceaccount\r\n",
      "tmpfs           7.7G   12K  7.7G   1% /proc/driver/nvidia\r\n",
      "tmpfs           7.7G  9.6M  7.7G   1% /run/nvidia-persistenced/socket\r\n",
      "tmpfs           7.7G     0  7.7G   0% /proc/acpi\r\n",
      "tmpfs           7.7G     0  7.7G   0% /sys/firmware\r\n"
     ]
    }
   ],
   "source": [
    "!df -h"
   ]
  },
  {
   "cell_type": "code",
   "execution_count": 7,
   "id": "6dab83e0",
   "metadata": {},
   "outputs": [
    {
     "name": "stderr",
     "output_type": "stream",
     "text": [
      "You are using the default legacy behaviour of the <class 'transformers.models.t5.tokenization_t5.T5Tokenizer'>. This is expected, and simply means that the `legacy` (previous) behavior will be used so nothing changes for you. If you want to use the new behaviour, set `legacy=False`. This should only be set if you understand what it means, and thouroughly read the reason why this was added as explained in https://github.com/huggingface/transformers/pull/24565\n",
      "Special tokens have been added in the vocabulary, make sure the associated word embeddings are fine-tuned or trained.\n"
     ]
    }
   ],
   "source": [
    "from transformers import T5ForConditionalGeneration, T5Tokenizer\n",
    "import torch\n",
    "\n",
    "# Load your data\n",
    "# df1 = df.copy()\n",
    "\n",
    "# Deduplicate contexts and aggregate responses\n",
    "df_unique = df.groupby(['context', 'document'])['response'].agg(list).reset_index()\n",
    "\n",
    "# Load the model and tokenizer\n",
    "model_name = \"google/flan-t5-large\"\n",
    "tokenizer = T5Tokenizer.from_pretrained(model_name)\n",
    "model = T5ForConditionalGeneration.from_pretrained(model_name)"
   ]
  },
  {
   "cell_type": "code",
   "execution_count": 8,
   "id": "23e183ab",
   "metadata": {},
   "outputs": [],
   "source": [
    "def generate_questions(context, num_questions=2):\n",
    "    input_text = f\"Generate {num_questions} questions based on this context: {context}\"\n",
    "    input_ids = tokenizer(input_text, return_tensors=\"pt\", max_length=512, truncation=True).input_ids\n",
    "    \n",
    "    outputs = model.generate(input_ids, max_length=64, num_return_sequences=num_questions, num_beams=4)\n",
    "    \n",
    "    questions = [tokenizer.decode(output, skip_special_tokens=True) for output in outputs]\n",
    "    return questions\n",
    "\n",
    "# Generate questions for each unique context\n",
    "df_unique['generated_questions'] = df_unique['context'].apply(generate_questions)\n",
    "\n",
    "# Explode the questions to create separate rows\n",
    "df_ground_truth = df_unique.explode('generated_questions').reset_index(drop=True)\n",
    "\n",
    "# Rename columns for clarity\n",
    "df_ground_truth = df_ground_truth.rename(columns={\n",
    "    'generated_questions': 'question'\n",
    "})\n",
    "\n",
    "# Select only the 'question' and 'document' columns\n",
    "df_ground_truth = df_ground_truth[['question', 'document']]"
   ]
  },
  {
   "cell_type": "code",
   "execution_count": 9,
   "id": "192fee8e",
   "metadata": {},
   "outputs": [
    {
     "name": "stdout",
     "output_type": "stream",
     "text": [
      "Shape of df_ground_truth: (1990, 2)\n",
      "Memory usage of df_ground_truth: 0.39 MB\n",
      "Estimated file size (JSON): 0.20 MB\n"
     ]
    }
   ],
   "source": [
    "import sys\n",
    "\n",
    "# ... (your existing code to create df_ground_truth)\n",
    "\n",
    "# Check shape\n",
    "print(f\"Shape of df_ground_truth: {df_ground_truth.shape}\")\n",
    "\n",
    "# Check memory usage\n",
    "memory_usage = df_ground_truth.memory_usage(deep=True).sum()\n",
    "print(f\"Memory usage of df_ground_truth: {memory_usage / 1e6:.2f} MB\")\n",
    "\n",
    "# Estimate file size (for JSON format)\n",
    "estimated_size = sys.getsizeof(df_ground_truth.to_json()) / 1e6\n",
    "print(f\"Estimated file size (JSON): {estimated_size:.2f} MB\")"
   ]
  },
  {
   "cell_type": "code",
   "execution_count": 10,
   "id": "3677d0fa",
   "metadata": {},
   "outputs": [],
   "source": [
    "df_ground_truth.to_json('ground_truth_data.json', orient='records', lines=True)"
   ]
  },
  {
   "cell_type": "code",
   "execution_count": 13,
   "id": "fdbe3c12",
   "metadata": {},
   "outputs": [
    {
     "data": {
      "text/plain": [
       "(1990, 2)"
      ]
     },
     "execution_count": 13,
     "metadata": {},
     "output_type": "execute_result"
    }
   ],
   "source": [
    "df1 = pd.read_json('ground_truth_data.json', lines=True)\n",
    "df1.shape"
   ]
  },
  {
   "cell_type": "code",
   "execution_count": 14,
   "id": "33973ef5",
   "metadata": {},
   "outputs": [
    {
     "data": {
      "text/plain": [
       "Index(['context', 'response', 'document', 'response_length'], dtype='object')"
      ]
     },
     "execution_count": 14,
     "metadata": {},
     "output_type": "execute_result"
    }
   ],
   "source": [
    "df.columns"
   ]
  },
  {
   "cell_type": "code",
   "execution_count": 15,
   "id": "2bdae6f9",
   "metadata": {},
   "outputs": [
    {
     "data": {
      "text/plain": [
       "Index(['question', 'document'], dtype='object')"
      ]
     },
     "execution_count": 15,
     "metadata": {},
     "output_type": "execute_result"
    }
   ],
   "source": [
    "df_ground_truth.columns"
   ]
  }
 ],
 "metadata": {
  "kernelspec": {
   "display_name": "saturn (Python 3)",
   "language": "python",
   "name": "python3"
  },
  "language_info": {
   "codemirror_mode": {
    "name": "ipython",
    "version": 3
   },
   "file_extension": ".py",
   "mimetype": "text/x-python",
   "name": "python",
   "nbconvert_exporter": "python",
   "pygments_lexer": "ipython3",
   "version": "3.9.18"
  }
 },
 "nbformat": 4,
 "nbformat_minor": 5
}
