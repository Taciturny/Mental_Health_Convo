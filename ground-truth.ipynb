{
 "cells": [
  {
   "cell_type": "code",
   "execution_count": 1,
   "id": "3210fcee",
   "metadata": {},
   "outputs": [],
   "source": [
    "import os\n",
    "os.environ['HF_HOME'] = '/run/cache/'"
   ]
  },
  {
   "cell_type": "code",
   "execution_count": 2,
   "id": "c562a649",
   "metadata": {},
   "outputs": [
    {
     "data": {
      "application/vnd.jupyter.widget-view+json": {
       "model_id": "1d93e3d41a8b4efc9791fd9f5584b577",
       "version_major": 2,
       "version_minor": 0
      },
      "text/plain": [
       "Downloading readme:   0%|          | 0.00/2.82k [00:00<?, ?B/s]"
      ]
     },
     "metadata": {},
     "output_type": "display_data"
    },
    {
     "data": {
      "application/vnd.jupyter.widget-view+json": {
       "model_id": "18d0eccaefce4654b2322809b0399c57",
       "version_major": 2,
       "version_minor": 0
      },
      "text/plain": [
       "Downloading data:   0%|          | 0.00/4.79M [00:00<?, ?B/s]"
      ]
     },
     "metadata": {},
     "output_type": "display_data"
    },
    {
     "data": {
      "application/vnd.jupyter.widget-view+json": {
       "model_id": "709ef5cae06941669bc814ec1a1b9835",
       "version_major": 2,
       "version_minor": 0
      },
      "text/plain": [
       "Generating train split:   0%|          | 0/3512 [00:00<?, ? examples/s]"
      ]
     },
     "metadata": {},
     "output_type": "display_data"
    }
   ],
   "source": [
    "# Load the dataset\n",
    "from datasets import load_dataset\n",
    "\n",
    "dataset = load_dataset('Amod/mental_health_counseling_conversations', split='train')"
   ]
  },
  {
   "cell_type": "code",
   "execution_count": 3,
   "id": "872b17e2",
   "metadata": {},
   "outputs": [],
   "source": [
    "df = dataset.to_pandas()"
   ]
  },
  {
   "cell_type": "code",
   "execution_count": 4,
   "id": "67959436",
   "metadata": {},
   "outputs": [
    {
     "data": {
      "text/plain": [
       "<torch._C.Generator at 0x7fc6940ec730>"
      ]
     },
     "execution_count": 4,
     "metadata": {},
     "output_type": "execute_result"
    }
   ],
   "source": [
    "import torch\n",
    "from transformers import AutoModelForCausalLM, AutoTokenizer, pipeline\n",
    "\n",
    "torch.random.manual_seed(0)"
   ]
  },
  {
   "cell_type": "code",
   "execution_count": 6,
   "id": "fd0f4673",
   "metadata": {},
   "outputs": [
    {
     "data": {
      "application/vnd.jupyter.widget-view+json": {
       "model_id": "f87358b261944f6faadf9da524c29ac4",
       "version_major": 2,
       "version_minor": 0
      },
      "text/plain": [
       "config.json:   0%|          | 0.00/3.48k [00:00<?, ?B/s]"
      ]
     },
     "metadata": {},
     "output_type": "display_data"
    },
    {
     "data": {
      "application/vnd.jupyter.widget-view+json": {
       "model_id": "d2c2d3f0c7a44269bb73ba64690ec97c",
       "version_major": 2,
       "version_minor": 0
      },
      "text/plain": [
       "configuration_phi3.py:   0%|          | 0.00/11.2k [00:00<?, ?B/s]"
      ]
     },
     "metadata": {},
     "output_type": "display_data"
    },
    {
     "name": "stderr",
     "output_type": "stream",
     "text": [
      "A new version of the following files was downloaded from https://huggingface.co/microsoft/Phi-3-mini-128k-instruct:\n",
      "- configuration_phi3.py\n",
      ". Make sure to double-check they do not contain any added malicious code. To avoid downloading new versions of the code file, you can pin a revision.\n"
     ]
    },
    {
     "data": {
      "application/vnd.jupyter.widget-view+json": {
       "model_id": "afe3f1a831e041b5abad50024c7c3a50",
       "version_major": 2,
       "version_minor": 0
      },
      "text/plain": [
       "modeling_phi3.py:   0%|          | 0.00/73.2k [00:00<?, ?B/s]"
      ]
     },
     "metadata": {},
     "output_type": "display_data"
    },
    {
     "name": "stderr",
     "output_type": "stream",
     "text": [
      "A new version of the following files was downloaded from https://huggingface.co/microsoft/Phi-3-mini-128k-instruct:\n",
      "- modeling_phi3.py\n",
      ". Make sure to double-check they do not contain any added malicious code. To avoid downloading new versions of the code file, you can pin a revision.\n",
      "`flash-attention` package not found, consider installing for better performance: No module named 'flash_attn'.\n",
      "Current `flash-attention` does not support `window_size`. Either upgrade or use `attn_implementation='eager'`.\n"
     ]
    },
    {
     "data": {
      "application/vnd.jupyter.widget-view+json": {
       "model_id": "bcc3a3660a4e4626ab51db424cbfe596",
       "version_major": 2,
       "version_minor": 0
      },
      "text/plain": [
       "model.safetensors.index.json:   0%|          | 0.00/16.3k [00:00<?, ?B/s]"
      ]
     },
     "metadata": {},
     "output_type": "display_data"
    },
    {
     "data": {
      "application/vnd.jupyter.widget-view+json": {
       "model_id": "c10be8cb5e8e4fae9e134bbd109f8b1d",
       "version_major": 2,
       "version_minor": 0
      },
      "text/plain": [
       "Downloading shards:   0%|          | 0/2 [00:00<?, ?it/s]"
      ]
     },
     "metadata": {},
     "output_type": "display_data"
    },
    {
     "data": {
      "application/vnd.jupyter.widget-view+json": {
       "model_id": "e9ed8074ac9e453db6ed2c9cad87b50e",
       "version_major": 2,
       "version_minor": 0
      },
      "text/plain": [
       "model-00001-of-00002.safetensors:   0%|          | 0.00/4.97G [00:00<?, ?B/s]"
      ]
     },
     "metadata": {},
     "output_type": "display_data"
    },
    {
     "data": {
      "application/vnd.jupyter.widget-view+json": {
       "model_id": "4473de98148e40ba95610f244faefed3",
       "version_major": 2,
       "version_minor": 0
      },
      "text/plain": [
       "model-00002-of-00002.safetensors:   0%|          | 0.00/2.67G [00:00<?, ?B/s]"
      ]
     },
     "metadata": {},
     "output_type": "display_data"
    },
    {
     "data": {
      "application/vnd.jupyter.widget-view+json": {
       "model_id": "b8b1b56236f444ef9a93bfdf93adadf4",
       "version_major": 2,
       "version_minor": 0
      },
      "text/plain": [
       "Loading checkpoint shards:   0%|          | 0/2 [00:00<?, ?it/s]"
      ]
     },
     "metadata": {},
     "output_type": "display_data"
    },
    {
     "data": {
      "application/vnd.jupyter.widget-view+json": {
       "model_id": "3c3fd01abbd940d3b18f384d1685d6d1",
       "version_major": 2,
       "version_minor": 0
      },
      "text/plain": [
       "generation_config.json:   0%|          | 0.00/181 [00:00<?, ?B/s]"
      ]
     },
     "metadata": {},
     "output_type": "display_data"
    },
    {
     "data": {
      "application/vnd.jupyter.widget-view+json": {
       "model_id": "3d097f7e5d4e4899a1071c0b8cd74ea6",
       "version_major": 2,
       "version_minor": 0
      },
      "text/plain": [
       "tokenizer_config.json:   0%|          | 0.00/3.44k [00:00<?, ?B/s]"
      ]
     },
     "metadata": {},
     "output_type": "display_data"
    },
    {
     "data": {
      "application/vnd.jupyter.widget-view+json": {
       "model_id": "04b344781c624312a153ea55070eeb84",
       "version_major": 2,
       "version_minor": 0
      },
      "text/plain": [
       "tokenizer.model:   0%|          | 0.00/500k [00:00<?, ?B/s]"
      ]
     },
     "metadata": {},
     "output_type": "display_data"
    },
    {
     "data": {
      "application/vnd.jupyter.widget-view+json": {
       "model_id": "64aaf6759c5640249e8dab00bca2472e",
       "version_major": 2,
       "version_minor": 0
      },
      "text/plain": [
       "tokenizer.json:   0%|          | 0.00/1.94M [00:00<?, ?B/s]"
      ]
     },
     "metadata": {},
     "output_type": "display_data"
    },
    {
     "data": {
      "application/vnd.jupyter.widget-view+json": {
       "model_id": "fabe62b86e5e431086e2d61288cb50cc",
       "version_major": 2,
       "version_minor": 0
      },
      "text/plain": [
       "added_tokens.json:   0%|          | 0.00/306 [00:00<?, ?B/s]"
      ]
     },
     "metadata": {},
     "output_type": "display_data"
    },
    {
     "data": {
      "application/vnd.jupyter.widget-view+json": {
       "model_id": "c2f4af4b325b4748800c30373bbc1dce",
       "version_major": 2,
       "version_minor": 0
      },
      "text/plain": [
       "special_tokens_map.json:   0%|          | 0.00/599 [00:00<?, ?B/s]"
      ]
     },
     "metadata": {},
     "output_type": "display_data"
    }
   ],
   "source": [
    "model = AutoModelForCausalLM.from_pretrained(\n",
    "    \"microsoft/Phi-3-mini-128k-instruct\", \n",
    "    device_map=\"cuda\", \n",
    "    torch_dtype=\"auto\", \n",
    "    trust_remote_code=True, \n",
    ")\n",
    "tokenizer = AutoTokenizer.from_pretrained(\"microsoft/Phi-3-mini-128k-instruct\")"
   ]
  },
  {
   "cell_type": "code",
   "execution_count": 5,
   "id": "b61b6c0b",
   "metadata": {},
   "outputs": [
    {
     "name": "stdout",
     "output_type": "stream",
     "text": [
      "Filesystem      Size  Used Avail Use% Mounted on\r\n",
      "overlay         100G   36G   65G  36% /\r\n",
      "tmpfs            64M     0   64M   0% /dev\r\n",
      "tmpfs           7.7G     0  7.7G   0% /sys/fs/cgroup\r\n",
      "/dev/nvme0n1p1  100G   36G   65G  36% /run\r\n",
      "tmpfs            14G  4.0K   14G   1% /dev/shm\r\n",
      "/dev/nvme2n1    2.0G  1.9G     0 100% /home/jovyan\r\n",
      "tmpfs            14G  120K   14G   1% /home/jovyan/.saturn\r\n",
      "tmpfs            14G   12K   14G   1% /run/secrets/kubernetes.io/serviceaccount\r\n",
      "tmpfs           7.7G   12K  7.7G   1% /proc/driver/nvidia\r\n",
      "tmpfs           7.7G  4.7M  7.7G   1% /run/nvidia-persistenced/socket\r\n",
      "tmpfs           7.7G     0  7.7G   0% /proc/acpi\r\n",
      "tmpfs           7.7G     0  7.7G   0% /sys/firmware\r\n"
     ]
    }
   ],
   "source": [
    "!df -h"
   ]
  },
  {
   "cell_type": "code",
   "execution_count": 27,
   "id": "869c8c16",
   "metadata": {},
   "outputs": [],
   "source": [
    "pipe = pipeline(\n",
    "    \"text-generation\",\n",
    "    model=model,\n",
    "    tokenizer=tokenizer,\n",
    ")\n",
    "\n",
    "\n",
    "generation_args = {\n",
    "    \"max_new_tokens\": 500,\n",
    "    \"return_full_text\": False,\n",
    "    \"temperature\": 0.9,  # Increase temperature for more creativity\n",
    "    \"top_k\": 50,         # Limits the sampling pool to the top 50 tokens\n",
    "    \"do_sample\": True,  \n",
    "}\n"
   ]
  },
  {
   "cell_type": "code",
   "execution_count": 16,
   "id": "ec9c5a6e",
   "metadata": {},
   "outputs": [
    {
     "data": {
      "text/html": [
       "<div>\n",
       "<style scoped>\n",
       "    .dataframe tbody tr th:only-of-type {\n",
       "        vertical-align: middle;\n",
       "    }\n",
       "\n",
       "    .dataframe tbody tr th {\n",
       "        vertical-align: top;\n",
       "    }\n",
       "\n",
       "    .dataframe thead th {\n",
       "        text-align: right;\n",
       "    }\n",
       "</style>\n",
       "<table border=\"1\" class=\"dataframe\">\n",
       "  <thead>\n",
       "    <tr style=\"text-align: right;\">\n",
       "      <th></th>\n",
       "      <th>Context</th>\n",
       "      <th>Response</th>\n",
       "    </tr>\n",
       "  </thead>\n",
       "  <tbody>\n",
       "    <tr>\n",
       "      <th>0</th>\n",
       "      <td>I'm going through some things with my feelings...</td>\n",
       "      <td>If everyone thinks you're worthless, then mayb...</td>\n",
       "    </tr>\n",
       "  </tbody>\n",
       "</table>\n",
       "</div>"
      ],
      "text/plain": [
       "                                             Context  \\\n",
       "0  I'm going through some things with my feelings...   \n",
       "\n",
       "                                            Response  \n",
       "0  If everyone thinks you're worthless, then mayb...  "
      ]
     },
     "execution_count": 16,
     "metadata": {},
     "output_type": "execute_result"
    }
   ],
   "source": [
    "df1 = dataset.to_pandas()\n",
    "df1.head(1)"
   ]
  },
  {
   "cell_type": "code",
   "execution_count": 29,
   "id": "ee5d4f7c",
   "metadata": {},
   "outputs": [
    {
     "name": "stdout",
     "output_type": "stream",
     "text": [
      "Context: I've hit my head on walls and floors ever since I was young. I sometimes still do it but I don't exactly know why,    I have anxiety and I had a rough childhood but now I'll start to hit my head and sometimes not realize it but I don't know how to stop or even why I'm doing it.    How can I help myself to change my behavior?\n",
      "Question 1: What resources or support systems are available for someone like me, who is recognizing their mental health needs but uncertain about how to proceed with changing harmful habits?\"\n",
      "Question 2: Given that my childhood experiences might be influencing my current behavior, how can I seek therapy that acknowledges and treats trauma differently than general anxiety therapy?\"\n",
      "\n",
      "Context: Over a year ago I had a female friend. She turned out to be kind of crazy so I decided to stop talking to her. When she would call me I wouldn't answer the phone. This made my girlfriend really suspicious. She would ask me why I wouldn't ever answer that phone number. I told my girlfriend that I don't want to be friends with that other woman, but I don't think she believes me. How can I get my girlfriend to understand?\n",
      "Question 1: Have you considered ways to demonstrate the love and commitment you have for your girlfriend, reflecting shared experiences or gestures that remind her of your bond? Sometimes actions speak louder than words.\"\n",
      "Question 2: If you were to open up about your feelings, what specific assurances or evidence would help your girlfriend trust that your relationship is exclusive and nothing is being hidden?\"\n",
      "\n",
      "Context: My long-distance girlfriend is in a sorority, and it's changing her. I feel like I'm becoming less important to her and it hurts. She just wants me to support the sorority, but it's so hard. I try every day to show her she's the most important thing to me, but she can't even stay relatively sober at a fraternity party for me so that I won't worry about her doing anything regretful. We love each other, but we're in a rough patch.\n",
      "Question 1: In what ways might a professional therapist assist you in navigating the challenges presented by your girlfriend's involvement in the sorority?\"\n",
      "Question 2: How can you both approach difficult conversations about your emotional needs and the impact of your girlfriend's sorority activities?\"\n",
      "\n"
     ]
    }
   ],
   "source": [
    "from collections import defaultdict\n",
    "\n",
    "def generate_questions(sample_df, num_questions=2):\n",
    "    all_questions = []\n",
    "\n",
    "    for _, row in sample_df.iterrows():\n",
    "        context = row['Context']\n",
    "        response = row['Response']\n",
    "        \n",
    "        # Prepare the prompt\n",
    "        prompt = f\"\"\"\n",
    "        You are emulating a person experiencing mental health challenges.\n",
    "        Formulate {num_questions*2} insightful questions based on the following mental health conversation record. \n",
    "        Use the context provided to generate relevant questions, but avoid directly copying words from the response.\n",
    "\n",
    "        Record:\n",
    "        Context: {context}\n",
    "        Response: {response}\n",
    "\n",
    "        Provide the output in the format:\n",
    "        \"Question 1: Question text\"\n",
    "        \"Question 2: Question text\"\n",
    "        ...\n",
    "        \"\"\"\n",
    "\n",
    "        # Generate the questions\n",
    "        result = pipe(prompt, **generation_args)[0][\"generated_text\"]\n",
    "\n",
    "        # Extract questions\n",
    "        questions = []\n",
    "        for line in result.split('\\n'):\n",
    "            if 'Question' in line:\n",
    "                parts = line.split(\":\", 1)\n",
    "                if len(parts) > 1:\n",
    "                    question_text = parts[1].strip()\n",
    "                    if question_text:\n",
    "                        questions.append(question_text)\n",
    "        \n",
    "        # Score and select top num_questions questions\n",
    "        if len(questions) > num_questions:\n",
    "            scores = score_questions(questions, context)\n",
    "            sorted_questions = [q for _, q in sorted(zip(scores, questions), reverse=True)]\n",
    "            selected_questions = sorted_questions[:num_questions]\n",
    "        else:\n",
    "            selected_questions = list(dict.fromkeys(questions))  # Remove duplicates if less than num_questions\n",
    "        \n",
    "        # Add the questions to the list with their corresponding context\n",
    "        all_questions.append({\n",
    "            'Context': context,\n",
    "            'Questions': selected_questions\n",
    "        })\n",
    "    \n",
    "    return all_questions\n",
    "\n",
    "# Example usage with DataFrame\n",
    "sample_df = df1.sample(n=3, random_state=42)\n",
    "questions_list = generate_questions(sample_df)"
   ]
  },
  {
   "cell_type": "code",
   "execution_count": 31,
   "id": "f969a0b1",
   "metadata": {},
   "outputs": [],
   "source": [
    "from collections import defaultdict\n",
    "\n",
    "def generate_questions(sample_df, num_questions=2):\n",
    "    all_questions = []\n",
    "\n",
    "    for _, row in sample_df.iterrows():\n",
    "        context = row['Context']\n",
    "        response = row['Response']\n",
    "        \n",
    "        # Prepare the prompt\n",
    "        prompt = f\"\"\"\n",
    "        You are emulating a person experiencing mental health challenges.\n",
    "        Formulate {num_questions*2} insightful questions based on the following mental health conversation record. \n",
    "        Use the context provided to generate relevant questions, but avoid directly copying words from the response.\n",
    "\n",
    "        Record:\n",
    "        Context: {context}\n",
    "        Response: {response}\n",
    "\n",
    "        Provide the output in the format:\n",
    "        \"Question 1: Question text\"\n",
    "        \"Question 2: Question text\"\n",
    "        ...\n",
    "        \"\"\"\n",
    "\n",
    "        # Generate the questions\n",
    "        result = pipe(prompt, **generation_args)[0][\"generated_text\"]\n",
    "\n",
    "        # Extract questions\n",
    "        questions = []\n",
    "        for line in result.split('\\n'):\n",
    "            if 'Question' in line:\n",
    "                parts = line.split(\":\", 1)\n",
    "                if len(parts) > 1:\n",
    "                    question_text = parts[1].strip()\n",
    "                    if question_text:\n",
    "                        questions.append(question_text)\n",
    "        \n",
    "        # Score and select top num_questions questions\n",
    "        if len(questions) > num_questions:\n",
    "            scores = score_questions(questions, context)\n",
    "            sorted_questions = [q for _, q in sorted(zip(scores, questions), reverse=True)]\n",
    "            selected_questions = sorted_questions[:num_questions]\n",
    "        else:\n",
    "            selected_questions = list(dict.fromkeys(questions))  # Remove duplicates if less than num_questions\n",
    "        \n",
    "        # Add the questions to the list with their corresponding context\n",
    "        all_questions.append({\n",
    "            'Context': context,\n",
    "            'Questions': selected_questions\n",
    "        })\n",
    "    \n",
    "    return all_questions\n",
    "\n",
    "# Example usage with DataFrame\n",
    "sample_df = df1.sample(n=500, random_state=42)\n",
    "\n",
    "# questions_list = generate_questions(sample_df)\n",
    "# for record in questions_list:\n",
    "#     print(f\"Context: {record['Context']}\")\n",
    "#     for i, question in enumerate(record['Questions'], 1):\n",
    "#         print(f\"Question {i}: {question}\")\n",
    "#     print()"
   ]
  },
  {
   "cell_type": "code",
   "execution_count": 32,
   "id": "9c9b9d1c",
   "metadata": {},
   "outputs": [
    {
     "name": "stderr",
     "output_type": "stream",
     "text": [
      "You seem to be using the pipelines sequentially on GPU. In order to maximize efficiency please use a dataset\n"
     ]
    }
   ],
   "source": [
    "questions_list = generate_questions(sample_df)"
   ]
  },
  {
   "cell_type": "code",
   "execution_count": 33,
   "id": "877e70b2",
   "metadata": {},
   "outputs": [
    {
     "name": "stdout",
     "output_type": "stream",
     "text": [
      "Context 1: I've hit my head on walls and floors ever since I was young. I sometimes still do it but I don't exactly know why,    I have anxiety and I had a rough childhood but now I'll start to hit my head and sometimes not realize it but I don't know how to stop or even why I'm doing it.    How can I help myself to change my behavior?\n",
      "\n",
      "Context 2: Over a year ago I had a female friend. She turned out to be kind of crazy so I decided to stop talking to her. When she would call me I wouldn't answer the phone. This made my girlfriend really suspicious. She would ask me why I wouldn't ever answer that phone number. I told my girlfriend that I don't want to be friends with that other woman, but I don't think she believes me. How can I get my girlfriend to understand?\n",
      "\n",
      "Context 3: My long-distance girlfriend is in a sorority, and it's changing her. I feel like I'm becoming less important to her and it hurts. She just wants me to support the sorority, but it's so hard. I try every day to show her she's the most important thing to me, but she can't even stay relatively sober at a fraternity party for me so that I won't worry about her doing anything regretful. We love each other, but we're in a rough patch.\n",
      "  Question 1: How do you both feel about seeking external support, such as from a therapist, and what steps would you be willing to take to consider this option together as a way to strengthen your emotional connection and resolve current issues?\"\n",
      "  Question 2: Have you previously used any form of communication or mediation methods to discuss and resolve challenges in your relationship, and if not, what are some approaches you are open to exploring?\"\n",
      "\n",
      "Context 4: Cheating is something unacceptable for me but because we have two daughters I decided not to break up the family. However, now I am struggling to forget and forgive what happened. I feel like I cannot trust him. Without trust, I cannot stay in this relationship. On the other hand, I do not want my children to get hurt. I'm not sure how to move forward?\n",
      "  Question 1: What steps can you take to ensure that your own emotional journey and healing process are also in the best interest of your children, especially in terms of setting a positive example for how to handle relationship challenges?\"\n",
      "  Question 2: How can setting personal boundaries and practicing self-care contribute to your ability to effectively navigate the complex emotions and decisions involved in moving forward with your relationship and your family's well-being?\"\n",
      "\n",
      "Context 5: I have twin toddlers. I experienced a death of loved one prior to giving birth. I had a horrible break up with the father. People told him he was using me for money. My ex-boyfriend had extreme meltdowns every day for three years. I’m always alone with no friends.\n",
      "  Question 1: In what ways have your past experiences shaped your journey towards self-discovery and growth, and how can we acknowledge and integrate this understanding into your healing process?\n",
      "  Question 2: What are some moments or activities that bring you a sense of peace or joy, and how can we incorporate these into your daily routine to reinforce your resilience?\n",
      "\n"
     ]
    }
   ],
   "source": [
    "# Print the first few records to inspect the output\n",
    "for i, record in enumerate(questions_list[:5]):  # Adjust the number as needed\n",
    "    print(f\"Context {i + 1}: {record['Context']}\")\n",
    "    for j, question in enumerate(record['Questions'], 1):\n",
    "        print(f\"  Question {j}: {question}\")\n",
    "    print()  # For spacing between different records\n"
   ]
  },
  {
   "cell_type": "code",
   "execution_count": 35,
   "id": "e553f4a6",
   "metadata": {},
   "outputs": [],
   "source": [
    "import copy\n",
    "\n",
    "# Assuming questions_list is your original list\n",
    "questions_list_copy = copy.deepcopy(questions_list)\n"
   ]
  },
  {
   "cell_type": "code",
   "execution_count": 34,
   "id": "9d33d6c9",
   "metadata": {},
   "outputs": [
    {
     "name": "stdout",
     "output_type": "stream",
     "text": [
      "Total number of generated questions: 860\n"
     ]
    }
   ],
   "source": [
    "# Calculate the total number of questions generated\n",
    "total_questions = sum(len(record['Questions']) for record in questions_list)\n",
    "print(f\"Total number of generated questions: {total_questions}\")\n"
   ]
  },
  {
   "cell_type": "code",
   "execution_count": 36,
   "id": "e797ac76",
   "metadata": {},
   "outputs": [
    {
     "name": "stdout",
     "output_type": "stream",
     "text": [
      "ID: 82b18f1d35\n",
      "Context: I've hit my head on walls and floors ever since I was young. I sometimes still do it but I don't exactly know why,    I have anxiety and I had a rough childhood but now I'll start to hit my head and sometimes not realize it but I don't know how to stop or even why I'm doing it.    How can I help myself to change my behavior?\n",
      "\n",
      "ID: b9ea4fc5fa\n",
      "Context: Over a year ago I had a female friend. She turned out to be kind of crazy so I decided to stop talking to her. When she would call me I wouldn't answer the phone. This made my girlfriend really suspicious. She would ask me why I wouldn't ever answer that phone number. I told my girlfriend that I don't want to be friends with that other woman, but I don't think she believes me. How can I get my girlfriend to understand?\n",
      "\n",
      "ID: f307b325d9\n",
      "Context: My long-distance girlfriend is in a sorority, and it's changing her. I feel like I'm becoming less important to her and it hurts. She just wants me to support the sorority, but it's so hard. I try every day to show her she's the most important thing to me, but she can't even stay relatively sober at a fraternity party for me so that I won't worry about her doing anything regretful. We love each other, but we're in a rough patch.\n",
      "  QuestionID: f307b325d9, Question: How do you both feel about seeking external support, such as from a therapist, and what steps would you be willing to take to consider this option together as a way to strengthen your emotional connection and resolve current issues?\"\n",
      "  QuestionID: f307b325d9, Question: Have you previously used any form of communication or mediation methods to discuss and resolve challenges in your relationship, and if not, what are some approaches you are open to exploring?\"\n",
      "\n",
      "ID: 842e439c52\n",
      "Context: Cheating is something unacceptable for me but because we have two daughters I decided not to break up the family. However, now I am struggling to forget and forgive what happened. I feel like I cannot trust him. Without trust, I cannot stay in this relationship. On the other hand, I do not want my children to get hurt. I'm not sure how to move forward?\n",
      "  QuestionID: 842e439c52, Question: What steps can you take to ensure that your own emotional journey and healing process are also in the best interest of your children, especially in terms of setting a positive example for how to handle relationship challenges?\"\n",
      "  QuestionID: 842e439c52, Question: How can setting personal boundaries and practicing self-care contribute to your ability to effectively navigate the complex emotions and decisions involved in moving forward with your relationship and your family's well-being?\"\n",
      "\n",
      "ID: af8cba43be\n",
      "Context: I have twin toddlers. I experienced a death of loved one prior to giving birth. I had a horrible break up with the father. People told him he was using me for money. My ex-boyfriend had extreme meltdowns every day for three years. I’m always alone with no friends.\n",
      "  QuestionID: af8cba43be, Question: In what ways have your past experiences shaped your journey towards self-discovery and growth, and how can we acknowledge and integrate this understanding into your healing process?\n",
      "  QuestionID: af8cba43be, Question: What are some moments or activities that bring you a sense of peace or joy, and how can we incorporate these into your daily routine to reinforce your resilience?\n",
      "\n"
     ]
    }
   ],
   "source": [
    "import uuid\n",
    "\n",
    "def add_ids_to_questions_list(questions_list_copy):\n",
    "    # Initialize a new list to store results with IDs\n",
    "    questions_with_ids = []\n",
    "\n",
    "    # Iterate through the questions list and assign unique IDs\n",
    "    for record in questions_list_copy:\n",
    "        context = record['Context']\n",
    "        questions = record['Questions']\n",
    "        \n",
    "        # Generate a unique ID for this context and associated questions\n",
    "        unique_id = uuid.uuid4().hex[:10]  # Generate a shorter unique ID\n",
    "        \n",
    "        # Add ID to each record and the questions\n",
    "        questions_with_ids.append({\n",
    "            'ID': unique_id,\n",
    "            'Context': context,\n",
    "            'Questions': [{'ID': unique_id, 'Question': question} for question in questions]\n",
    "        })\n",
    "\n",
    "    return questions_with_ids\n",
    "\n",
    "# Apply the ID assignment function\n",
    "questions_list_with_ids = add_ids_to_questions_list(questions_list_copy)\n",
    "\n",
    "# Example output inspection\n",
    "for record in questions_list_with_ids[:5]:  # Adjust the number to view more records\n",
    "    print(f\"ID: {record['ID']}\")\n",
    "    print(f\"Context: {record['Context']}\")\n",
    "    for question in record['Questions']:\n",
    "        print(f\"  QuestionID: {question['ID']}, Question: {question['Question']}\")\n",
    "    print()  # For spacing between records\n"
   ]
  },
  {
   "cell_type": "code",
   "execution_count": 37,
   "id": "92ca7df9",
   "metadata": {},
   "outputs": [],
   "source": [
    "import pandas as pd\n",
    "\n",
    "# Flatten the questions_list_with_ids to create the DataFrame\n",
    "def flatten_questions(questions_list_with_ids):\n",
    "    # Initialize lists to hold data for the DataFrame\n",
    "    question_texts = []\n",
    "    document_ids = []\n",
    "    \n",
    "    for record in questions_list_with_ids:\n",
    "        unique_id = record['ID']\n",
    "        for question in record['Questions']:\n",
    "            question_texts.append(question['Question'])\n",
    "            document_ids.append(unique_id)\n",
    "    \n",
    "    # Create the DataFrame\n",
    "    df2 = pd.DataFrame({\n",
    "        'questions': question_texts,\n",
    "        'documents': document_ids\n",
    "    })\n",
    "    \n",
    "    return df2\n",
    "\n",
    "# Apply the flattening function\n",
    "questions_df = flatten_questions(questions_list_with_ids)"
   ]
  },
  {
   "cell_type": "code",
   "execution_count": 38,
   "id": "2066a04e",
   "metadata": {},
   "outputs": [
    {
     "name": "stdout",
     "output_type": "stream",
     "text": [
      "(860, 2)\n"
     ]
    }
   ],
   "source": [
    "print(questions_df.shape)  # Should be (860, 2)"
   ]
  },
  {
   "cell_type": "code",
   "execution_count": 40,
   "id": "983cf669",
   "metadata": {},
   "outputs": [
    {
     "data": {
      "text/html": [
       "<div>\n",
       "<style scoped>\n",
       "    .dataframe tbody tr th:only-of-type {\n",
       "        vertical-align: middle;\n",
       "    }\n",
       "\n",
       "    .dataframe tbody tr th {\n",
       "        vertical-align: top;\n",
       "    }\n",
       "\n",
       "    .dataframe thead th {\n",
       "        text-align: right;\n",
       "    }\n",
       "</style>\n",
       "<table border=\"1\" class=\"dataframe\">\n",
       "  <thead>\n",
       "    <tr style=\"text-align: right;\">\n",
       "      <th></th>\n",
       "      <th>questions</th>\n",
       "      <th>documents</th>\n",
       "    </tr>\n",
       "  </thead>\n",
       "  <tbody>\n",
       "    <tr>\n",
       "      <th>0</th>\n",
       "      <td>How do you both feel about seeking external su...</td>\n",
       "      <td>f307b325d9</td>\n",
       "    </tr>\n",
       "    <tr>\n",
       "      <th>1</th>\n",
       "      <td>Have you previously used any form of communica...</td>\n",
       "      <td>f307b325d9</td>\n",
       "    </tr>\n",
       "    <tr>\n",
       "      <th>2</th>\n",
       "      <td>What steps can you take to ensure that your ow...</td>\n",
       "      <td>842e439c52</td>\n",
       "    </tr>\n",
       "    <tr>\n",
       "      <th>3</th>\n",
       "      <td>How can setting personal boundaries and practi...</td>\n",
       "      <td>842e439c52</td>\n",
       "    </tr>\n",
       "    <tr>\n",
       "      <th>4</th>\n",
       "      <td>In what ways have your past experiences shaped...</td>\n",
       "      <td>af8cba43be</td>\n",
       "    </tr>\n",
       "    <tr>\n",
       "      <th>5</th>\n",
       "      <td>What are some moments or activities that bring...</td>\n",
       "      <td>af8cba43be</td>\n",
       "    </tr>\n",
       "    <tr>\n",
       "      <th>6</th>\n",
       "      <td>Looking forward, what qualities do you hope to...</td>\n",
       "      <td>8c303a7fdc</td>\n",
       "    </tr>\n",
       "    <tr>\n",
       "      <th>7</th>\n",
       "      <td>Reflecting on your own feelings during the bre...</td>\n",
       "      <td>8c303a7fdc</td>\n",
       "    </tr>\n",
       "    <tr>\n",
       "      <th>8</th>\n",
       "      <td>Considering the influence of cognitive biases,...</td>\n",
       "      <td>b1023f460a</td>\n",
       "    </tr>\n",
       "    <tr>\n",
       "      <th>9</th>\n",
       "      <td>Reflecting on the role of emotional intelligen...</td>\n",
       "      <td>b1023f460a</td>\n",
       "    </tr>\n",
       "  </tbody>\n",
       "</table>\n",
       "</div>"
      ],
      "text/plain": [
       "                                           questions   documents\n",
       "0  How do you both feel about seeking external su...  f307b325d9\n",
       "1  Have you previously used any form of communica...  f307b325d9\n",
       "2  What steps can you take to ensure that your ow...  842e439c52\n",
       "3  How can setting personal boundaries and practi...  842e439c52\n",
       "4  In what ways have your past experiences shaped...  af8cba43be\n",
       "5  What are some moments or activities that bring...  af8cba43be\n",
       "6  Looking forward, what qualities do you hope to...  8c303a7fdc\n",
       "7  Reflecting on your own feelings during the bre...  8c303a7fdc\n",
       "8  Considering the influence of cognitive biases,...  b1023f460a\n",
       "9  Reflecting on the role of emotional intelligen...  b1023f460a"
      ]
     },
     "execution_count": 40,
     "metadata": {},
     "output_type": "execute_result"
    }
   ],
   "source": [
    "questions_df.head(10)"
   ]
  },
  {
   "cell_type": "code",
   "execution_count": 42,
   "id": "295d99e6",
   "metadata": {},
   "outputs": [
    {
     "name": "stdout",
     "output_type": "stream",
     "text": [
      "Filesystem      Size  Used Avail Use% Mounted on\r\n",
      "overlay         100G   43G   58G  43% /\r\n",
      "tmpfs            64M     0   64M   0% /dev\r\n",
      "tmpfs           7.7G     0  7.7G   0% /sys/fs/cgroup\r\n",
      "/dev/nvme0n1p1  100G   43G   58G  43% /run\r\n",
      "tmpfs            14G  4.0K   14G   1% /dev/shm\r\n",
      "/dev/nvme2n1    2.0G  1.9G     0 100% /home/jovyan\r\n",
      "tmpfs            14G  120K   14G   1% /home/jovyan/.saturn\r\n",
      "tmpfs            14G   12K   14G   1% /run/secrets/kubernetes.io/serviceaccount\r\n",
      "tmpfs           7.7G   12K  7.7G   1% /proc/driver/nvidia\r\n",
      "tmpfs           7.7G   19M  7.7G   1% /run/nvidia-persistenced/socket\r\n",
      "tmpfs           7.7G     0  7.7G   0% /proc/acpi\r\n",
      "tmpfs           7.7G     0  7.7G   0% /sys/firmware\r\n"
     ]
    }
   ],
   "source": [
    "!df -h"
   ]
  },
  {
   "cell_type": "code",
   "execution_count": 45,
   "id": "36dabe17",
   "metadata": {},
   "outputs": [],
   "source": [
    "# Move the large incomplete Hugging Face cache file to /run/cache/\n",
    "!mv /home/jovyan/.cache/huggingface/hub/models--microsoft--Phi-3-mini-128k-instruct/blobs/fc534bed68dc12e48d1f28d144bfb2239bd1ef4f5d5892d68e9d1f85731b8c12.incomplete /run/cache/\n",
    "\n",
    "# Move the entire Hugging Face cache directory for the specific model to /run/cache/\n",
    "!mv /home/jovyan/.cache/huggingface/hub/models--microsoft--Phi-3-mini-128k-instruct /run/cache/\n",
    "\n",
    "# Move the pip cache directory to /run/cache/\n",
    "!mv /home/jovyan/.cache/pip /run/cache/\n"
   ]
  },
  {
   "cell_type": "code",
   "execution_count": 46,
   "id": "93ba8e48",
   "metadata": {},
   "outputs": [
    {
     "name": "stdout",
     "output_type": "stream",
     "text": [
      "Filesystem      Size  Used Avail Use% Mounted on\r\n",
      "overlay         100G   45G   56G  45% /\r\n",
      "tmpfs            64M     0   64M   0% /dev\r\n",
      "tmpfs           7.7G     0  7.7G   0% /sys/fs/cgroup\r\n",
      "/dev/nvme0n1p1  100G   45G   56G  45% /run\r\n",
      "tmpfs            14G  4.0K   14G   1% /dev/shm\r\n",
      "/dev/nvme2n1    2.0G  9.9M  1.9G   1% /home/jovyan\r\n",
      "tmpfs            14G  120K   14G   1% /home/jovyan/.saturn\r\n",
      "tmpfs            14G   12K   14G   1% /run/secrets/kubernetes.io/serviceaccount\r\n",
      "tmpfs           7.7G   12K  7.7G   1% /proc/driver/nvidia\r\n",
      "tmpfs           7.7G   20M  7.7G   1% /run/nvidia-persistenced/socket\r\n",
      "tmpfs           7.7G     0  7.7G   0% /proc/acpi\r\n",
      "tmpfs           7.7G     0  7.7G   0% /sys/firmware\r\n"
     ]
    }
   ],
   "source": [
    "!df -h"
   ]
  },
  {
   "cell_type": "code",
   "execution_count": 47,
   "id": "91dc2f47",
   "metadata": {},
   "outputs": [],
   "source": [
    "import pickle\n",
    "questions_df.to_pickle('questions_documents.pkl')"
   ]
  },
  {
   "cell_type": "code",
   "execution_count": 48,
   "id": "6e9ab65d",
   "metadata": {},
   "outputs": [
    {
     "name": "stdout",
     "output_type": "stream",
     "text": [
      "(860, 2)\n"
     ]
    }
   ],
   "source": [
    "import pandas as pd\n",
    "\n",
    "# Load the DataFrame from the pickle file\n",
    "loaded_df = pd.read_pickle('questions_documents.pkl')\n",
    "\n",
    "# Check the shape and a few rows to verify\n",
    "print(loaded_df.shape)  # Should match the shape of the original DataFrame\n",
    "# print(loaded_df.head())\n"
   ]
  },
  {
   "cell_type": "code",
   "execution_count": 49,
   "id": "ee1a588e",
   "metadata": {},
   "outputs": [
    {
     "data": {
      "text/html": [
       "<div>\n",
       "<style scoped>\n",
       "    .dataframe tbody tr th:only-of-type {\n",
       "        vertical-align: middle;\n",
       "    }\n",
       "\n",
       "    .dataframe tbody tr th {\n",
       "        vertical-align: top;\n",
       "    }\n",
       "\n",
       "    .dataframe thead th {\n",
       "        text-align: right;\n",
       "    }\n",
       "</style>\n",
       "<table border=\"1\" class=\"dataframe\">\n",
       "  <thead>\n",
       "    <tr style=\"text-align: right;\">\n",
       "      <th></th>\n",
       "      <th>questions</th>\n",
       "      <th>documents</th>\n",
       "    </tr>\n",
       "  </thead>\n",
       "  <tbody>\n",
       "    <tr>\n",
       "      <th>0</th>\n",
       "      <td>How do you both feel about seeking external su...</td>\n",
       "      <td>f307b325d9</td>\n",
       "    </tr>\n",
       "    <tr>\n",
       "      <th>1</th>\n",
       "      <td>Have you previously used any form of communica...</td>\n",
       "      <td>f307b325d9</td>\n",
       "    </tr>\n",
       "    <tr>\n",
       "      <th>2</th>\n",
       "      <td>What steps can you take to ensure that your ow...</td>\n",
       "      <td>842e439c52</td>\n",
       "    </tr>\n",
       "    <tr>\n",
       "      <th>3</th>\n",
       "      <td>How can setting personal boundaries and practi...</td>\n",
       "      <td>842e439c52</td>\n",
       "    </tr>\n",
       "    <tr>\n",
       "      <th>4</th>\n",
       "      <td>In what ways have your past experiences shaped...</td>\n",
       "      <td>af8cba43be</td>\n",
       "    </tr>\n",
       "  </tbody>\n",
       "</table>\n",
       "</div>"
      ],
      "text/plain": [
       "                                           questions   documents\n",
       "0  How do you both feel about seeking external su...  f307b325d9\n",
       "1  Have you previously used any form of communica...  f307b325d9\n",
       "2  What steps can you take to ensure that your ow...  842e439c52\n",
       "3  How can setting personal boundaries and practi...  842e439c52\n",
       "4  In what ways have your past experiences shaped...  af8cba43be"
      ]
     },
     "execution_count": 49,
     "metadata": {},
     "output_type": "execute_result"
    }
   ],
   "source": [
    "loaded_df.head()"
   ]
  }
 ],
 "metadata": {
  "kernelspec": {
   "display_name": "saturn (Python 3)",
   "language": "python",
   "name": "python3"
  },
  "language_info": {
   "codemirror_mode": {
    "name": "ipython",
    "version": 3
   },
   "file_extension": ".py",
   "mimetype": "text/x-python",
   "name": "python",
   "nbconvert_exporter": "python",
   "pygments_lexer": "ipython3",
   "version": "3.9.18"
  }
 },
 "nbformat": 4,
 "nbformat_minor": 5
}
